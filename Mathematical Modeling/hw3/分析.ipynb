{
 "cells": [
  {
   "cell_type": "code",
   "execution_count": 1,
   "metadata": {},
   "outputs": [
    {
     "data": {
      "image/png": "[encoded data removed]",
      "text/plain": [
       "<Figure size 432x288 with 1 Axes>"
      ]
     },
     "metadata": {
      "needs_background": "light"
     },
     "output_type": "display_data"
    }
   ],
   "source": [
    "import matplotlib.pyplot as plt\n",
    "import numpy as np\n",
    " \n",
    " \n",
    "def sigmoid(x):\n",
    "    # 直接返回sigmoid函数\n",
    "    return 1. / (1. + np.exp(-x))\n",
    " \n",
    " \n",
    "\n",
    "# param:起点，终点，间距\n",
    "x = np.arange(-8, 8, 0.05)\n",
    "y = sigmoid(x)\n",
    "plt.plot(x, y)\n",
    "plt.savefig('sig.pdf')\n",
    "plt.show()\n"
   ]
  },
  {
   "cell_type": "code",
   "execution_count": 2,
   "metadata": {},
   "outputs": [
    {
     "data": {
      "image/png": "[encoded data removed]",
      "text/plain": [
       "<Figure size 432x288 with 1 Axes>"
      ]
     },
     "metadata": {
      "needs_background": "light"
     },
     "output_type": "display_data"
    }
   ],
   "source": [
    "def at(x):\n",
    "    y = np.arctan(x)/np.pi + 0.5\n",
    "    return y\n",
    "x = np.arange(0, 8, 0.05)\n",
    "z = at(x)\n",
    "plt.plot(x, z)\n",
    "plt.savefig('s2.pdf')\n",
    "plt.show()"
   ]
  },
  {
   "cell_type": "code",
   "execution_count": 17,
   "metadata": {},
   "outputs": [],
   "source": [
    "from random import random \n",
    "def printIntro():          #打印程序介绍信息\n",
    "    print(\"myx进行比赛分析结果：\")\n",
    "    print(\"程序运行需要A和B的能力值（以0到1之间的小数表示）\")\n",
    "def getInputs():           #获得程序运行参数\n",
    "    a = eval(input(\"请输入A的能力值(0-1): \"))\n",
    "    b = eval(input(\"请输入B的能力值(0-1): \"))\n",
    "    n = eval(input(\"模拟比赛的场次: \"))\n",
    "    return a, b, n\n",
    "def simNGames(n, probA, probB):    # 进行N场比赛\n",
    "    winsA, winsB = 0, 0\n",
    "    for i in range(n):\n",
    "        for j in range(5):           #进行5局3胜的比赛\n",
    "            scoreA, scoreB = simOneGame(probA, probB)\n",
    "            if scoreA > scoreB:\n",
    "                winsA += 1\n",
    "            else:\n",
    "                winsB += 1\n",
    "    return winsA, winsB\n",
    "def gameOver(a,b):               #正常比赛结束\n",
    "    return a==11 or b==11\n",
    "def gameOver2(a,b):              #进行抢12比赛结束\n",
    "    return a==12 or b==12\n",
    "def simOneGame(probA, probB):         #进行一场比赛\n",
    "    scoreA, scoreB = 0, 0           #初始化AB的得分\n",
    "    serving = \"A\"                 \n",
    "    while not gameOver(scoreA, scoreB):     #用while循环来执行比赛\n",
    "        if scoreA==10 and scoreB==10:\n",
    "            return(simtwoGame2(probA,probB))\n",
    "        if serving == \"A\":\n",
    "            if random() < probA:            ##用随机数生成胜负\n",
    "                scoreA += 1\n",
    "            else:\n",
    "                serving=\"B\"\n",
    "        else:\n",
    "            if random() < probB:\n",
    "                scoreB += 1\n",
    "            else:\n",
    "                serving=\"A\"\n",
    "    return scoreA, scoreB\n",
    "def simtwoGame2(probA,probB):\n",
    "    scoreA,scoreB=10,10\n",
    "    serving = \"A\"                 #假如先让队伍A发球\n",
    "    while not gameOver2(scoreA, scoreB):\n",
    "        if serving == \"A\":\n",
    "            if random() < probA:\n",
    "                scoreA += 1\n",
    "            else:\n",
    "                serving=\"B\"\n",
    "        else:\n",
    "            if random() < probB:\n",
    "                scoreB += 1\n",
    "            else:\n",
    "                serving=\"A\"\n",
    "    return scoreA, scoreB\n",
    "def printSummary(winsA, winsB):\n",
    "    n = winsA + winsB\n",
    "    print(\"竞技分析开始，共模拟{}场比赛\".format(n))\n",
    "    print(\"A获胜{}场比赛，占比{:0.1%}\".format(winsA, winsA/n))\n",
    "    print(\"B获胜{}场比赛，占比{:0.1%}\".format(winsB, winsB/n))\n"
   ]
  },
  {
   "cell_type": "code",
   "execution_count": 18,
   "metadata": {},
   "outputs": [
    {
     "data": {
      "text/plain": [
       "-0.08939999999999998"
      ]
     },
     "execution_count": 18,
     "metadata": {},
     "output_type": "execute_result"
    }
   ],
   "source": [
    "def lose(a,b,n=1000):\n",
    "    # printIntro()\n",
    "    probA, probB, n = a,b,n\n",
    "    winsA, winsB = simNGames(n, probA, probB)\n",
    "    return -winsA/(winsA + winsB)\n",
    "def win(a,b,n=1000):\n",
    "    # printIntro()\n",
    "    probA, probB, n = a,b,n\n",
    "    winsA, winsB = simNGames(n, probA, probB)\n",
    "    return winsB/(winsA + winsB)\n",
    "def expt(a,b,n=1000):\n",
    "    e = win(a,b,n) + lose(a,b,n)\n",
    "    return e\n",
    "expt(0.5,0.5)"
   ]
  },
  {
   "cell_type": "code",
   "execution_count": 19,
   "metadata": {},
   "outputs": [
    {
     "data": {
      "text/plain": [
       "([0.4882732146322952, 0.4884433165672371, 0.48741173041470487],\n",
       " [0.43556596778606416, 0.4284844749813217, 0.42741610352518244])"
      ]
     },
     "execution_count": 19,
     "metadata": {},
     "output_type": "execute_result"
    }
   ],
   "source": [
    "def cap(l):\n",
    "    cap0 = []\n",
    "    for i in range(3):\n",
    "        c = (l[i%3] + l[(i+1)%3])/2\n",
    "        cap0.append(c)\n",
    "    return cap0\n",
    "cap1 = [(l1[0]+l1[1])/2,(l1[0]+l1[2])/2,(l1[1]+l1[2])/2]\n",
    "cap2 = [(l2[0]+l2[1])/2,(l2[0]+l2[2])/2,(l2[1]+l2[2])/2]\n",
    "# cap1 = cap(l1)\n",
    "# cap2 = cap(l2)\n",
    "cap1,cap2"
   ]
  },
  {
   "cell_type": "code",
   "execution_count": 5,
   "metadata": {},
   "outputs": [],
   "source": [
    "def loss(x,r=1):\n",
    "    x = x/exp(0.1*r)\n",
    "    return x"
   ]
  },
  {
   "cell_type": "code",
   "execution_count": 38,
   "metadata": {},
   "outputs": [
    {
     "data": {
      "text/plain": [
       "(0.7208000000000001, 0.6901999999999999, 0.7475999999999999)"
      ]
     },
     "execution_count": 38,
     "metadata": {},
     "output_type": "execute_result"
    }
   ],
   "source": [
    "r1 = expt(cap2[0],cap1[0])+expt(l2[2],l1[2])+expt(loss(l2[1]),loss(l1[1]))\n",
    "r2 = expt(cap2[0],cap1[1])+expt(l2[2],l1[1])+expt(loss(l2[1]),loss(l1[2]))\n",
    "r3 = expt(cap2[0],cap1[2])+expt(l2[2],l1[0])+expt(loss(l2[1]),loss(l1[1]))\n",
    "r1,r2,r3"
   ]
  },
  {
   "cell_type": "code",
   "execution_count": 39,
   "metadata": {},
   "outputs": [
    {
     "data": {
      "text/plain": [
       "(0.7263999999999999, 0.7398, 0.7388)"
      ]
     },
     "execution_count": 39,
     "metadata": {},
     "output_type": "execute_result"
    }
   ],
   "source": [
    "r1 = expt(cap2[1],cap1[0])+expt(l2[1],l1[2])+expt(loss(l2[2]),loss(l1[1]))\n",
    "r2 = expt(cap2[1],cap1[1])+expt(l2[1],l1[1])+expt(loss(l2[2]),loss(l1[2]))\n",
    "r3 = expt(cap2[1],cap1[2])+expt(l2[1],l1[0])+expt(loss(l2[2]),loss(l1[1]))\n",
    "r1,r2,r3"
   ]
  },
  {
   "cell_type": "code",
   "execution_count": 40,
   "metadata": {},
   "outputs": [
    {
     "data": {
      "text/plain": [
       "(0.7432000000000001, 0.742, 0.7498)"
      ]
     },
     "execution_count": 40,
     "metadata": {},
     "output_type": "execute_result"
    }
   ],
   "source": [
    "r1 = expt(cap2[2],cap1[0])+expt(l2[0],l1[2])+expt(loss(l2[2]),loss(l1[1]))\n",
    "r2 = expt(cap2[2],cap1[1])+expt(l2[0],l1[1])+expt(loss(l2[2]),loss(l1[2]))\n",
    "r3 = expt(cap2[2],cap1[2])+expt(l2[0],l1[0])+expt(loss(l2[2]),loss(l1[1]))\n",
    "r1,r2,r3"
   ]
  },
  {
   "cell_type": "code",
   "execution_count": 32,
   "metadata": {},
   "outputs": [
    {
     "data": {
      "text/plain": [
       "[0.4872,\n",
       " 0.5068,\n",
       " 0.5049999999999999,\n",
       " 0.49679999999999996,\n",
       " 0.5109999999999999,\n",
       " 0.49460000000000004,\n",
       " 0.5050000000000001,\n",
       " 0.5146,\n",
       " 0.49839999999999995,\n",
       " 0.5176000000000001,\n",
       " 0.5102,\n",
       " 0.493,\n",
       " 0.42219999999999996,\n",
       " 0.40920000000000006,\n",
       " 0.5209999999999999,\n",
       " 0.4986,\n",
       " 0.4332,\n",
       " 0.39339999999999997,\n",
       " 0.5244,\n",
       " 0.5236000000000001,\n",
       " 0.3884,\n",
       " 0.40580000000000005,\n",
       " 0.5052,\n",
       " 0.501,\n",
       " 0.43200000000000005,\n",
       " 0.4129999999999999,\n",
       " 0.5032,\n",
       " 0.501,\n",
       " 0.4216000000000001,\n",
       " 0.42,\n",
       " 0.5042,\n",
       " 0.49439999999999995,\n",
       " 0.4135999999999999,\n",
       " 0.4136000000000001,\n",
       " 0.504,\n",
       " 0.5179999999999999]"
      ]
     },
     "execution_count": 32,
     "metadata": {},
     "output_type": "execute_result"
    }
   ],
   "source": [
    "ll1 = [loss(i) for i in l1]\n",
    "ll2 = [loss(i) for i in l2]\n",
    "r = []\n",
    "r.append(expt(ll2[0],ll1[0])+expt(ll2[2],ll1[1]))\n",
    "r.append(expt(ll2[0],ll1[1])+expt(ll2[2],ll1[0]))\n",
    "r.append(expt(ll2[1],ll1[0])+expt(ll2[2],ll1[1]))\n",
    "r.append(expt(ll2[1],ll1[1])+expt(ll2[2],ll1[0]))\n",
    "r.append(expt(ll2[0],ll1[0])+expt(ll2[2],ll1[2]))\n",
    "r.append(expt(ll2[0],ll1[2])+expt(ll2[2],ll1[0]))\n",
    "r.append(expt(ll2[1],ll1[0])+expt(ll2[2],ll1[2]))\n",
    "r.append(expt(ll2[1],ll1[2])+expt(ll2[2],ll1[0]))\n",
    "r.append(expt(ll2[0],ll1[1])+expt(ll2[2],ll1[2]))\n",
    "r.append(expt(ll2[0],ll1[2])+expt(ll2[2],ll1[1]))\n",
    "r.append(expt(ll2[1],ll1[2])+expt(ll2[2],ll1[2]))\n",
    "r.append(expt(ll2[1],ll1[2])+expt(ll2[2],ll1[1]))\n",
    "r.append(expt(ll2[0],ll1[0])+expt(ll2[1],ll1[1]))\n",
    "r.append(expt(ll2[0],ll1[1])+expt(ll2[1],ll1[0]))\n",
    "r.append(expt(ll2[2],ll1[0])+expt(ll2[1],ll1[1]))\n",
    "r.append(expt(ll2[2],ll1[1])+expt(ll2[1],ll1[0]))\n",
    "r.append(expt(ll2[0],ll1[0])+expt(ll2[1],ll1[2]))\n",
    "r.append(expt(ll2[0],ll1[2])+expt(ll2[1],ll1[0]))\n",
    "r.append(expt(ll2[2],ll1[0])+expt(ll2[1],ll1[2]))\n",
    "r.append(expt(ll2[2],ll1[2])+expt(ll2[1],ll1[0]))\n",
    "r.append(expt(ll2[0],ll1[1])+expt(ll2[1],ll1[2]))\n",
    "r.append(expt(ll2[0],ll1[2])+expt(ll2[1],ll1[1]))\n",
    "r.append(expt(ll2[2],ll1[2])+expt(ll2[1],ll1[2]))\n",
    "r.append(expt(ll2[2],ll1[2])+expt(ll2[1],ll1[1]))\n",
    "r.append(expt(ll2[1],ll1[0])+expt(ll2[0],ll1[1]))\n",
    "r.append(expt(ll2[1],ll1[1])+expt(ll2[0],ll1[0]))\n",
    "r.append(expt(ll2[2],ll1[0])+expt(ll2[0],ll1[1]))\n",
    "r.append(expt(ll2[2],ll1[1])+expt(ll2[0],ll1[0]))\n",
    "r.append(expt(ll2[1],ll1[0])+expt(ll2[0],ll1[2]))\n",
    "r.append(expt(ll2[1],ll1[2])+expt(ll2[0],ll1[0]))\n",
    "r.append(expt(ll2[2],ll1[0])+expt(ll2[0],ll1[2]))\n",
    "r.append(expt(ll2[2],ll1[2])+expt(ll2[0],ll1[0]))\n",
    "r.append(expt(ll2[1],ll1[1])+expt(ll2[0],ll1[2]))\n",
    "r.append(expt(ll2[1],ll1[2])+expt(ll2[0],ll1[1]))\n",
    "r.append(expt(ll2[2],ll1[2])+expt(ll2[0],ll1[2]))\n",
    "r.append(expt(ll2[2],ll1[2])+expt(ll2[0],ll1[1]))\n",
    "r\n"
   ]
  },
  {
   "cell_type": "code",
   "execution_count": 33,
   "metadata": {},
   "outputs": [
    {
     "data": {
      "text/plain": [
       "[0.49679999999999996,\n",
       " 0.5050000000000001,\n",
       " 0.49839999999999995,\n",
       " 0.4986,\n",
       " 0.5236000000000001,\n",
       " 0.501,\n",
       " 0.501,\n",
       " 0.49439999999999995,\n",
       " 0.504]"
      ]
     },
     "execution_count": 33,
     "metadata": {},
     "output_type": "execute_result"
    }
   ],
   "source": [
    "rr = []\n",
    "for i in range(len(r)//2):\n",
    "    rr.append(min(r[2*i],r[2*i+1]))\n",
    "rrr = []\n",
    "for i in range(len(rr)//2):\n",
    "    rrr.append(max(rr[2*i],rr[2*i+1]))\n",
    "rrr"
   ]
  },
  {
   "cell_type": "code",
   "execution_count": 34,
   "metadata": {},
   "outputs": [
    {
     "data": {
      "text/plain": [
       "[0.7949999999999999,\n",
       " 0.7888000000000002,\n",
       " 0.7773999999999999,\n",
       " 0.707,\n",
       " 0.7372000000000001,\n",
       " 0.7314,\n",
       " 0.7098,\n",
       " 0.6832,\n",
       " 0.7021999999999999]"
      ]
     },
     "execution_count": 34,
     "metadata": {},
     "output_type": "execute_result"
    }
   ],
   "source": [
    "r4 = []\n",
    "cnt = 0\n",
    "for i in range(2,-1,-1):\n",
    "    for j in range(2,-1,-1):\n",
    "        r4.append(expt(l2[i],l1[j])+rrr[cnt])\n",
    "        cnt += 1\n",
    "r4"
   ]
  },
  {
   "cell_type": "code",
   "execution_count": 35,
   "metadata": {},
   "outputs": [
    {
     "data": {
      "text/plain": [
       "[1.008,\n",
       " 1.0048000000000001,\n",
       " 0.9825999999999998,\n",
       " 0.9467999999999999,\n",
       " 1.002,\n",
       " 0.9802000000000001,\n",
       " 0.9702,\n",
       " 0.9394,\n",
       " 0.9471999999999999]"
      ]
     },
     "execution_count": 35,
     "metadata": {},
     "output_type": "execute_result"
    }
   ],
   "source": [
    "r5 = []\n",
    "cnt = 0\n",
    "for i in range(3):\n",
    "    for j in range(3):\n",
    "        r5.append(expt(cap2[i],cap1[j])+r4[cnt])\n",
    "        cnt += 1\n",
    "r5"
   ]
  },
  {
   "cell_type": "code",
   "execution_count": 6,
   "metadata": {},
   "outputs": [],
   "source": [
    "from numpy import *\n",
    "l = [12494,12212,10356,8709,8375,8034,7999,7864,7357,7086,6723,6531,6485,5995,5871,5841,5822,5623,5538,5487,5482,5023,4673,4650,4557,4469,4384,4214,4175,4122,4113,4056]\n",
    "p = [12494,12212,10356,8709,8375,8034,7999,7864,7357,7086,6723,6531,6485,5995,5871,5841]\n",
    "g = [(i-mean(p))/std(p) for i in l]"
   ]
  },
  {
   "cell_type": "code",
   "execution_count": 7,
   "metadata": {},
   "outputs": [
    {
     "data": {
      "text/plain": [
       "[2.2369753390850344,\n",
       " 2.0967370140426334,\n",
       " 1.1737500236926477,\n",
       " 0.35469852956202985,\n",
       " 0.18860065522103026,\n",
       " 0.019021687705219267,\n",
       " 0.0016162218311624214,\n",
       " -0.06551914654019969,\n",
       " -0.3176497522015374,\n",
       " -0.4524177879692347,\n",
       " -0.6329373340344528,\n",
       " -0.728418746829279,\n",
       " -0.7512945019780394,\n",
       " -0.9949710242148352,\n",
       " -1.0566361033114937,\n",
       " -1.0715550740606854,\n",
       " -1.0810037555351735,\n",
       " -1.1799662615048108,\n",
       " -1.2222366786275203,\n",
       " -1.247598928901146,\n",
       " -1.2500854240260113,\n",
       " -1.4783456764886425,\n",
       " -1.652400335229211,\n",
       " -1.6638382128035911,\n",
       " -1.710087022126085,\n",
       " -1.7538493363237138,\n",
       " -1.7961197534464233,\n",
       " -1.880660587691842,\n",
       " -1.9000552496657912,\n",
       " -1.926412097989363,\n",
       " -1.9308877892141205,\n",
       " -1.9592338336375845]"
      ]
     },
     "execution_count": 7,
     "metadata": {},
     "output_type": "execute_result"
    }
   ],
   "source": [
    "g"
   ]
  },
  {
   "cell_type": "code",
   "execution_count": 8,
   "metadata": {},
   "outputs": [
    {
     "data": {
      "text/plain": [
       "[0.9035211180694284,\n",
       " 0.8905856290909023,\n",
       " 0.7638221811166316,\n",
       " 0.5877564944908611,\n",
       " 0.5470108973999692,\n",
       " 0.5047552785457717,\n",
       " 0.5004040553698353,\n",
       " 0.48362607038979555,\n",
       " 0.421248627788986,\n",
       " 0.38878606931053317,\n",
       " 0.3468448049016636,\n",
       " 0.32554181840930846,\n",
       " 0.32053930077267423,\n",
       " 0.26993132619259,\n",
       " 0.25795282435617706,\n",
       " 0.2551074645892022,\n",
       " 0.25331611224803136,\n",
       " 0.2350582625616839,\n",
       " 0.22754307622056982,\n",
       " 0.22311605244884203,\n",
       " 0.2226853518677656,\n",
       " 0.1856774251319733,\n",
       " 0.1607848012499175,\n",
       " 0.159247435145593,\n",
       " 0.15315242893640377,\n",
       " 0.14756234169833304,\n",
       " 0.14232406148641502,\n",
       " 0.13231301550324318,\n",
       " 0.13010222131929067,\n",
       " 0.12714823870253344,\n",
       " 0.12665234784525867,\n",
       " 0.12354998826146836]"
      ]
     },
     "execution_count": 8,
     "metadata": {},
     "output_type": "execute_result"
    }
   ],
   "source": [
    "s = [sigmoid(i) for i in g]\n",
    "s"
   ]
  },
  {
   "cell_type": "code",
   "execution_count": 9,
   "metadata": {},
   "outputs": [
    {
     "data": {
      "text/plain": [
       "[0.7338804388095789,\n",
       " 0.7315988916808487,\n",
       " 0.7076299653921264,\n",
       " 0.6691397760718646,\n",
       " 0.6593285551221807,\n",
       " 0.6487922346450671,\n",
       " 0.6476864928749635,\n",
       " 0.6433867848689008,\n",
       " 0.6269066233099463,\n",
       " 0.618029933905745,\n",
       " 0.6062713188297544,\n",
       " 0.600179084920031,\n",
       " 0.5987372037710768,\n",
       " 0.5839217093932101,\n",
       " 0.5803571891513317,\n",
       " 0.5795074057437956,\n",
       " 0.5789718126632821,\n",
       " 0.5734873035891512,\n",
       " 0.5712166347769853,\n",
       " 0.5698755619546801,\n",
       " 0.5697449548797193,\n",
       " 0.5584374597610186,\n",
       " 0.550745083072971,\n",
       " 0.5502679416104483,\n",
       " 0.5483740540441024,\n",
       " 0.5466340157844335,\n",
       " 0.5450009315354813,\n",
       " 0.5418733163193985,\n",
       " 0.5411815087088363,\n",
       " 0.5402565307190476,\n",
       " 0.5401011853918183,\n",
       " 0.5391288910971516]"
      ]
     },
     "execution_count": 9,
     "metadata": {},
     "output_type": "execute_result"
    }
   ],
   "source": [
    "ss = [np.arctan(i)/np.pi + 0.5 for i in s]\n",
    "ss"
   ]
  },
  {
   "cell_type": "code",
   "execution_count": 10,
   "metadata": {},
   "outputs": [],
   "source": [
    "arc = [np.arctan(i)/np.pi + 0.5 for i in g]"
   ]
  },
  {
   "cell_type": "code",
   "execution_count": 11,
   "metadata": {},
   "outputs": [
    {
     "data": {
      "text/plain": [
       "[<matplotlib.lines.Line2D at 0x7fa2eb2bda10>]"
      ]
     },
     "execution_count": 11,
     "metadata": {},
     "output_type": "execute_result"
    },
    {
     "data": {
      "image/png": "[encoded data removed]",
      "text/plain": [
       "<Figure size 432x288 with 1 Axes>"
      ]
     },
     "metadata": {
      "needs_background": "light"
     },
     "output_type": "display_data"
    }
   ],
   "source": [
    "plt.plot(arc)"
   ]
  },
  {
   "cell_type": "code",
   "execution_count": 12,
   "metadata": {},
   "outputs": [
    {
     "data": {
      "image/png": "[encoded data removed]",
      "text/plain": [
       "<Figure size 432x288 with 1 Axes>"
      ]
     },
     "metadata": {
      "needs_background": "light"
     },
     "output_type": "display_data"
    }
   ],
   "source": [
    "fig, ax = plt.subplots()\n",
    "b = ax.barh(range(1,len(ss)+1),ss)\n",
    "ax.set_yticks(range(1,len(ss)+1))\n",
    "# ax.set_yticklabels(s.index)\n",
    "# plt.savefig('cap.pdf')\n",
    "plt.show()"
   ]
  },
  {
   "cell_type": "code",
   "execution_count": 13,
   "metadata": {},
   "outputs": [
    {
     "data": {
      "text/plain": [
       "[0.7116725556554493,\n",
       " 0.709011011066556,\n",
       " 0.6821829948520208,\n",
       " 0.6428502159471523,\n",
       " 0.6334418187132039,\n",
       " 0.6235761868315108,\n",
       " 0.622554281014259,\n",
       " 0.6186037521239551,\n",
       " 0.603781996887397,\n",
       " 0.5959904360727348,\n",
       " 0.5858522437975838,\n",
       " 0.5806742388521668,\n",
       " 0.5794556782541778,\n",
       " 0.567076045568181,\n",
       " 0.5641329842624795,\n",
       " 0.5634332201765063,\n",
       " 0.562992540129973,\n",
       " 0.5584954787693072,\n",
       " 0.5566415908031946,\n",
       " 0.5555487657018824,\n",
       " 0.5554424170117453,\n",
       " 0.5462864512475796,\n",
       " 0.5401098284075854,\n",
       " 0.539727936719975,\n",
       " 0.5382134429364831,\n",
       " 0.5368237909143256,\n",
       " 0.5355210756189235,\n",
       " 0.5330300805270078,\n",
       " 0.5324797539648204,\n",
       " 0.5317443045409357,\n",
       " 0.5316208295950893,\n",
       " 0.5308482665085424]"
      ]
     },
     "execution_count": 13,
     "metadata": {},
     "output_type": "execute_result"
    }
   ],
   "source": [
    "sss = [sigmoid(i)  for i in s]\n",
    "sss"
   ]
  },
  {
   "cell_type": "code",
   "execution_count": 14,
   "metadata": {},
   "outputs": [],
   "source": [
    "l1 = [i for i in ss[:3]]\n",
    "l2 = [ss[6],ss[9],ss[16]]\n",
    "l1[0] = l1[0]*.9\n",
    "l1[1] = l1[1]*.899\n",
    "l1[2] = l1[2]*.9301\n",
    "l2[0] = l2[0]*0.91\n",
    "l2[1] = l2[1]*0.949\n",
    "l2[2] = l2[2]*0.98\n",
    "l1 = [i/(exp(0.1*3)) for i in l1]\n",
    "l2 = [i/(exp(0.1*3)) for i in l2]"
   ]
  },
  {
   "cell_type": "code",
   "execution_count": 15,
   "metadata": {},
   "outputs": [
    {
     "data": {
      "text/plain": [
       "([0.48930480078482746, 0.48724162847976304, 0.48758183234964675],\n",
       " [0.4366343392422034, 0.4344975963299249, 0.4203346107204399])"
      ]
     },
     "execution_count": 15,
     "metadata": {},
     "output_type": "execute_result"
    }
   ],
   "source": [
    "l1,l2"
   ]
  },
  {
   "cell_type": "code",
   "execution_count": 28,
   "metadata": {},
   "outputs": [
    {
     "data": {
      "text/plain": [
       "[0.3926,\n",
       " 0.41600000000000004,\n",
       " 0.4418,\n",
       " 0.4062000000000001,\n",
       " 0.4098,\n",
       " 0.4344000000000001,\n",
       " 0.4444000000000001,\n",
       " 0.41080000000000005,\n",
       " 0.40740000000000004,\n",
       " 0.42080000000000006,\n",
       " 0.427,\n",
       " 0.4184,\n",
       " 0.5056,\n",
       " 0.49240000000000006,\n",
       " 0.5118,\n",
       " 0.4864,\n",
       " 0.47900000000000004,\n",
       " 0.5104,\n",
       " 0.5137999999999999,\n",
       " 0.47580000000000006,\n",
       " 0.5056,\n",
       " 0.4872,\n",
       " 0.49539999999999995,\n",
       " 0.5118,\n",
       " 0.4818,\n",
       " 0.48179999999999995,\n",
       " 0.49240000000000006,\n",
       " 0.5254000000000001,\n",
       " 0.49520000000000003,\n",
       " 0.502,\n",
       " 0.5278,\n",
       " 0.48739999999999994,\n",
       " 0.508,\n",
       " 0.5191999999999999,\n",
       " 0.5304,\n",
       " 0.5065999999999999]"
      ]
     },
     "execution_count": 28,
     "metadata": {},
     "output_type": "execute_result"
    }
   ],
   "source": [
    "ll1 = [loss(i) for i in l1]\n",
    "ll2 = [loss(i) for i in l2]\n",
    "r = []\n",
    "r.append(expt(ll2[0],ll1[0])+expt(ll2[1],ll1[2]))\n",
    "r.append(expt(ll2[0],ll1[1])+expt(ll2[1],ll1[2]))\n",
    "r.append(expt(ll2[1],ll1[0])+expt(ll2[0],ll1[2]))\n",
    "r.append(expt(ll2[1],ll1[1])+expt(ll2[0],ll1[2]))\n",
    "r.append(expt(ll2[0],ll1[0])+expt(ll2[1],ll1[1]))\n",
    "r.append(expt(ll2[0],ll1[2])+expt(ll2[1],ll1[1]))\n",
    "r.append(expt(ll2[1],ll1[0])+expt(ll2[0],ll1[1]))\n",
    "r.append(expt(ll2[1],ll1[2])+expt(ll2[0],ll1[1]))\n",
    "r.append(expt(ll2[0],ll1[1])+expt(ll2[1],ll1[0]))\n",
    "r.append(expt(ll2[0],ll1[2])+expt(ll2[1],ll1[0]))\n",
    "r.append(expt(ll2[1],ll1[2])+expt(ll2[0],ll1[0]))\n",
    "r.append(expt(ll2[1],ll1[2])+expt(ll2[0],ll1[0]))\n",
    "r.append(expt(ll2[0],ll1[0])+expt(ll2[2],ll1[2]))\n",
    "r.append(expt(ll2[0],ll1[1])+expt(ll2[2],ll1[2]))\n",
    "r.append(expt(ll2[2],ll1[0])+expt(ll2[0],ll1[2]))\n",
    "r.append(expt(ll2[2],ll1[1])+expt(ll2[0],ll1[2]))\n",
    "r.append(expt(ll2[0],ll1[0])+expt(ll2[2],ll1[1]))\n",
    "r.append(expt(ll2[0],ll1[2])+expt(ll2[2],ll1[1]))\n",
    "r.append(expt(ll2[2],ll1[0])+expt(ll2[0],ll1[1]))\n",
    "r.append(expt(ll2[2],ll1[2])+expt(ll2[0],ll1[1]))\n",
    "r.append(expt(ll2[0],ll1[1])+expt(ll2[2],ll1[0]))\n",
    "r.append(expt(ll2[0],ll1[2])+expt(ll2[2],ll1[0]))\n",
    "r.append(expt(ll2[2],ll1[2])+expt(ll2[0],ll1[0]))\n",
    "r.append(expt(ll2[2],ll1[2])+expt(ll2[0],ll1[0]))\n",
    "r.append(expt(ll2[1],ll1[0])+expt(ll2[2],ll1[2]))\n",
    "r.append(expt(ll2[1],ll1[1])+expt(ll2[2],ll1[2]))\n",
    "r.append(expt(ll2[2],ll1[0])+expt(ll2[1],ll1[2]))\n",
    "r.append(expt(ll2[2],ll1[1])+expt(ll2[1],ll1[2]))\n",
    "r.append(expt(ll2[1],ll1[0])+expt(ll2[2],ll1[1]))\n",
    "r.append(expt(ll2[1],ll1[2])+expt(ll2[2],ll1[1]))\n",
    "r.append(expt(ll2[2],ll1[0])+expt(ll2[1],ll1[1]))\n",
    "r.append(expt(ll2[2],ll1[2])+expt(ll2[1],ll1[1]))\n",
    "r.append(expt(ll2[1],ll1[1])+expt(ll2[2],ll1[0]))\n",
    "r.append(expt(ll2[1],ll1[2])+expt(ll2[2],ll1[0]))\n",
    "r.append(expt(ll2[2],ll1[2])+expt(ll2[1],ll1[0]))\n",
    "r.append(expt(ll2[2],ll1[2])+expt(ll2[1],ll1[0]))\n",
    "r\n"
   ]
  },
  {
   "cell_type": "code",
   "execution_count": 29,
   "metadata": {},
   "outputs": [
    {
     "data": {
      "text/plain": [
       "[0.4062000000000001,\n",
       " 0.41080000000000005,\n",
       " 0.4184,\n",
       " 0.49240000000000006,\n",
       " 0.47900000000000004,\n",
       " 0.49539999999999995,\n",
       " 0.49240000000000006,\n",
       " 0.49520000000000003,\n",
       " 0.508]"
      ]
     },
     "execution_count": 29,
     "metadata": {},
     "output_type": "execute_result"
    }
   ],
   "source": [
    "rr = []\n",
    "for i in range(len(r)//2):\n",
    "    rr.append(min(r[2*i],r[2*i+1]))\n",
    "rrr = []\n",
    "for i in range(len(rr)//2):\n",
    "    rrr.append(max(rr[2*i],rr[2*i+1]))\n",
    "rrr"
   ]
  },
  {
   "cell_type": "code",
   "execution_count": 30,
   "metadata": {},
   "outputs": [
    {
     "data": {
      "text/plain": [
       "[0.6944000000000001,\n",
       " 0.72,\n",
       " 0.7198,\n",
       " 0.6994,\n",
       " 0.6862,\n",
       " 0.7252000000000001,\n",
       " 0.6856,\n",
       " 0.6962,\n",
       " 0.7338]"
      ]
     },
     "execution_count": 30,
     "metadata": {},
     "output_type": "execute_result"
    }
   ],
   "source": [
    "r4 = []\n",
    "cnt = 0\n",
    "for i in range(2,-1,-1):\n",
    "    for j in range(2,-1,-1):\n",
    "        r4.append(expt(l2[i],l1[j])+rrr[cnt])\n",
    "        cnt += 1\n",
    "r4"
   ]
  },
  {
   "cell_type": "code",
   "execution_count": 31,
   "metadata": {},
   "outputs": [
    {
     "data": {
      "text/plain": [
       "[0.9032,\n",
       " 0.9510000000000001,\n",
       " 0.9242,\n",
       " 0.9538000000000001,\n",
       " 0.9402,\n",
       " 0.9766000000000001,\n",
       " 0.9383999999999999,\n",
       " 0.9708,\n",
       " 0.9813999999999999]"
      ]
     },
     "execution_count": 31,
     "metadata": {},
     "output_type": "execute_result"
    }
   ],
   "source": [
    "r5 = []\n",
    "cnt = 0\n",
    "for i in range(3):\n",
    "    for j in range(3):\n",
    "        r5.append(expt(cap2[i],cap1[j])+r4[cnt])\n",
    "        cnt += 1\n",
    "r5"
   ]
  },
  {
   "cell_type": "code",
   "execution_count": 36,
   "metadata": {},
   "outputs": [],
   "source": [
    "r = []\n",
    "r.append(expt(ll2[0],ll1[0])+expt(ll2[2],ll1[1]))\n",
    "r.append(expt(ll2[0],ll1[1])+expt(ll2[2],ll1[0]))\n",
    "r.append(expt(ll2[1],ll1[0])+expt(ll2[2],ll1[1]))\n",
    "r.append(expt(ll2[1],ll1[1])+expt(ll2[2],ll1[0]))\n",
    "r.append(expt(ll2[0],ll1[0])+expt(ll2[2],ll1[2]))\n",
    "r.append(expt(ll2[0],ll1[2])+expt(ll2[2],ll1[0]))\n",
    "r.append(expt(ll2[1],ll1[0])+expt(ll2[2],ll1[2]))\n",
    "r.append(expt(ll2[1],ll1[2])+expt(ll2[2],ll1[0]))\n",
    "r.append(expt(ll2[0],ll1[1])+expt(ll2[2],ll1[2]))\n",
    "r.append(expt(ll2[0],ll1[2])+expt(ll2[2],ll1[1]))\n",
    "r.append(expt(ll2[1],ll1[2])+expt(ll2[2],ll1[2]))\n",
    "r.append(expt(ll2[1],ll1[2])+expt(ll2[2],ll1[1]))\n",
    "r.append(expt(ll2[0],ll1[0])+expt(ll2[1],ll1[1]))\n",
    "r.append(expt(ll2[0],ll1[1])+expt(ll2[1],ll1[0]))\n",
    "r.append(expt(ll2[2],ll1[0])+expt(ll2[1],ll1[1]))\n",
    "r.append(expt(ll2[2],ll1[1])+expt(ll2[1],ll1[0]))\n",
    "r.append(expt(ll2[0],ll1[0])+expt(ll2[1],ll1[2]))\n",
    "r.append(expt(ll2[0],ll1[2])+expt(ll2[1],ll1[0]))\n",
    "r.append(expt(ll2[2],ll1[0])+expt(ll2[1],ll1[2]))\n",
    "r.append(expt(ll2[2],ll1[2])+expt(ll2[1],ll1[0]))\n",
    "r.append(expt(ll2[0],ll1[1])+expt(ll2[1],ll1[2]))\n",
    "r.append(expt(ll2[0],ll1[2])+expt(ll2[1],ll1[1]))\n",
    "r.append(expt(ll2[2],ll1[2])+expt(ll2[1],ll1[2]))\n",
    "r.append(expt(ll2[2],ll1[2])+expt(ll2[1],ll1[1]))\n",
    "r.append(expt(ll2[1],ll1[0])+expt(ll2[0],ll1[1]))\n",
    "r.append(expt(ll2[1],ll1[1])+expt(ll2[0],ll1[0]))\n",
    "r.append(expt(ll2[2],ll1[0])+expt(ll2[0],ll1[1]))\n",
    "r.append(expt(ll2[2],ll1[1])+expt(ll2[0],ll1[0]))\n",
    "r.append(expt(ll2[1],ll1[0])+expt(ll2[0],ll1[2]))\n",
    "r.append(expt(ll2[1],ll1[2])+expt(ll2[0],ll1[0]))\n",
    "r.append(expt(ll2[2],ll1[0])+expt(ll2[0],ll1[2]))\n",
    "r.append(expt(ll2[2],ll1[2])+expt(ll2[0],ll1[0]))\n",
    "r.append(expt(ll2[1],ll1[1])+expt(ll2[0],ll1[2]))\n",
    "r.append(expt(ll2[1],ll1[2])+expt(ll2[0],ll1[1]))\n",
    "r.append(expt(ll2[2],ll1[2])+expt(ll2[0],ll1[2]))\n",
    "r.append(expt(ll2[2],ll1[2])+expt(ll2[0],ll1[1]))\n",
    "r1 = []\n",
    "r1.append(expt(ll2[0],ll1[0])+expt(ll2[1],ll1[2]))\n",
    "r1.append(expt(ll2[0],ll1[1])+expt(ll2[1],ll1[2]))\n",
    "r1.append(expt(ll2[1],ll1[0])+expt(ll2[0],ll1[2]))\n",
    "r1.append(expt(ll2[1],ll1[1])+expt(ll2[0],ll1[2]))\n",
    "r1.append(expt(ll2[0],ll1[0])+expt(ll2[1],ll1[1]))\n",
    "r1.append(expt(ll2[0],ll1[2])+expt(ll2[1],ll1[1]))\n",
    "r1.append(expt(ll2[1],ll1[0])+expt(ll2[0],ll1[1]))\n",
    "r1.append(expt(ll2[1],ll1[2])+expt(ll2[0],ll1[1]))\n",
    "r1.append(expt(ll2[0],ll1[1])+expt(ll2[1],ll1[0]))\n",
    "r1.append(expt(ll2[0],ll1[2])+expt(ll2[1],ll1[0]))\n",
    "r1.append(expt(ll2[1],ll1[2])+expt(ll2[0],ll1[0]))\n",
    "r1.append(expt(ll2[1],ll1[2])+expt(ll2[0],ll1[0]))\n",
    "r1.append(expt(ll2[0],ll1[0])+expt(ll2[2],ll1[2]))\n",
    "r1.append(expt(ll2[0],ll1[1])+expt(ll2[2],ll1[2]))\n",
    "r1.append(expt(ll2[2],ll1[0])+expt(ll2[0],ll1[2]))\n",
    "r1.append(expt(ll2[2],ll1[1])+expt(ll2[0],ll1[2]))\n",
    "r1.append(expt(ll2[0],ll1[0])+expt(ll2[2],ll1[1]))\n",
    "r1.append(expt(ll2[0],ll1[2])+expt(ll2[2],ll1[1]))\n",
    "r1.append(expt(ll2[2],ll1[0])+expt(ll2[0],ll1[1]))\n",
    "r1.append(expt(ll2[2],ll1[2])+expt(ll2[0],ll1[1]))\n",
    "r1.append(expt(ll2[0],ll1[1])+expt(ll2[2],ll1[0]))\n",
    "r1.append(expt(ll2[0],ll1[2])+expt(ll2[2],ll1[0]))\n",
    "r1.append(expt(ll2[2],ll1[2])+expt(ll2[0],ll1[0]))\n",
    "r1.append(expt(ll2[2],ll1[2])+expt(ll2[0],ll1[0]))\n",
    "r1.append(expt(ll2[1],ll1[0])+expt(ll2[2],ll1[2]))\n",
    "r1.append(expt(ll2[1],ll1[1])+expt(ll2[2],ll1[2]))\n",
    "r1.append(expt(ll2[2],ll1[0])+expt(ll2[1],ll1[2]))\n",
    "r1.append(expt(ll2[2],ll1[1])+expt(ll2[1],ll1[2]))\n",
    "r1.append(expt(ll2[1],ll1[0])+expt(ll2[2],ll1[1]))\n",
    "r1.append(expt(ll2[1],ll1[2])+expt(ll2[2],ll1[1]))\n",
    "r1.append(expt(ll2[2],ll1[0])+expt(ll2[1],ll1[1]))\n",
    "r1.append(expt(ll2[2],ll1[2])+expt(ll2[1],ll1[1]))\n",
    "r1.append(expt(ll2[1],ll1[1])+expt(ll2[2],ll1[0]))\n",
    "r1.append(expt(ll2[1],ll1[2])+expt(ll2[2],ll1[0]))\n",
    "r1.append(expt(ll2[2],ll1[2])+expt(ll2[1],ll1[0]))\n",
    "r1.append(expt(ll2[2],ll1[2])+expt(ll2[1],ll1[0]))"
   ]
  },
  {
   "cell_type": "code",
   "execution_count": 38,
   "metadata": {},
   "outputs": [
    {
     "data": {
      "text/plain": [
       "[0.9092,\n",
       " 0.895,\n",
       " 0.9352,\n",
       " 0.9196,\n",
       " 0.9072,\n",
       " 0.9141999999999999,\n",
       " 0.9346000000000001,\n",
       " 0.9128000000000001,\n",
       " 0.9322,\n",
       " 0.9324000000000001,\n",
       " 0.9281999999999999,\n",
       " 0.9335999999999999,\n",
       " 0.9345999999999999,\n",
       " 0.9234,\n",
       " 0.9724,\n",
       " 0.9702000000000002,\n",
       " 0.9099999999999999,\n",
       " 0.9298,\n",
       " 0.9747999999999999,\n",
       " 1.01,\n",
       " 0.9128000000000001,\n",
       " 0.8904000000000001,\n",
       " 1.0168,\n",
       " 1.0116,\n",
       " 0.9401999999999999,\n",
       " 0.8997999999999999,\n",
       " 1.0221999999999998,\n",
       " 0.9924,\n",
       " 0.9432,\n",
       " 0.9426000000000001,\n",
       " 1.0286,\n",
       " 1.017,\n",
       " 0.922,\n",
       " 0.9417999999999999,\n",
       " 0.9978,\n",
       " 1.0156]"
      ]
     },
     "execution_count": 38,
     "metadata": {},
     "output_type": "execute_result"
    }
   ],
   "source": [
    "r0 = [i + j for i, j in zip(r, r1)]\n",
    "r0"
   ]
  },
  {
   "cell_type": "code",
   "execution_count": 39,
   "metadata": {},
   "outputs": [
    {
     "data": {
      "text/plain": [
       "[0.9196,\n",
       " 0.9128000000000001,\n",
       " 0.9322,\n",
       " 0.9702000000000002,\n",
       " 0.9747999999999999,\n",
       " 1.0116,\n",
       " 0.9924,\n",
       " 1.017,\n",
       " 0.9978]"
      ]
     },
     "execution_count": 39,
     "metadata": {},
     "output_type": "execute_result"
    }
   ],
   "source": [
    "rr = []\n",
    "for i in range(len(r0)//2):\n",
    "    rr.append(min(r0[2*i],r0[2*i+1]))\n",
    "rrr = []\n",
    "for i in range(len(rr)//2):\n",
    "    rrr.append(max(rr[2*i],rr[2*i+1]))\n",
    "rrr"
   ]
  },
  {
   "cell_type": "code",
   "execution_count": 40,
   "metadata": {},
   "outputs": [
    {
     "data": {
      "text/plain": [
       "[1.206,\n",
       " 1.2196000000000002,\n",
       " 1.2554,\n",
       " 1.1974000000000002,\n",
       " 1.1772,\n",
       " 1.2214,\n",
       " 1.1867999999999999,\n",
       " 1.2233999999999998,\n",
       " 1.2146000000000001]"
      ]
     },
     "execution_count": 40,
     "metadata": {},
     "output_type": "execute_result"
    }
   ],
   "source": [
    "r4 = []\n",
    "cnt = 0\n",
    "for i in range(2,-1,-1):\n",
    "    for j in range(2,-1,-1):\n",
    "        r4.append(expt(l2[i],l1[j])+rrr[cnt])\n",
    "        cnt += 1\n",
    "r4"
   ]
  },
  {
   "cell_type": "code",
   "execution_count": 41,
   "metadata": {},
   "outputs": [
    {
     "data": {
      "text/plain": [
       "[1.4308,\n",
       " 1.4382000000000001,\n",
       " 1.4412,\n",
       " 1.4578000000000002,\n",
       " 1.4252,\n",
       " 1.4702,\n",
       " 1.4349999999999998,\n",
       " 1.4777999999999998,\n",
       " 1.4662000000000002]"
      ]
     },
     "execution_count": 41,
     "metadata": {},
     "output_type": "execute_result"
    }
   ],
   "source": [
    "r5 = []\n",
    "cnt = 0\n",
    "for i in range(3):\n",
    "    for j in range(3):\n",
    "        r5.append(expt(cap2[i],cap1[j])+r4[cnt])\n",
    "        cnt += 1\n",
    "r5"
   ]
  },
  {
   "cell_type": "code",
   "execution_count": null,
   "metadata": {},
   "outputs": [],
   "source": []
  }
 ],
 "metadata": {
  "interpreter": {
   "hash": "c3502da54272bcc4726db9c3a7f171ba540fd2967e79e2ab8a2f0cddb0d0b59e"
  },
  "kernelspec": {
   "display_name": "Python 3 (ipykernel)",
   "language": "python",
   "name": "python3"
  },
  "language_info": {
   "codemirror_mode": {
    "name": "ipython",
    "version": 3
   },
   "file_extension": ".py",
   "mimetype": "text/x-python",
   "name": "python",
   "nbconvert_exporter": "python",
   "pygments_lexer": "ipython3",
   "version": "3.7.12"
  },
  "vscode": {
   "interpreter": {
    "hash": "c3502da54272bcc4726db9c3a7f171ba540fd2967e79e2ab8a2f0cddb0d0b59e"
   }
  }
 },
 "nbformat": 4,
 "nbformat_minor": 2
}
