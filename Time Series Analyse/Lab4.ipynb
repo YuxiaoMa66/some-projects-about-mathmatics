{
 "cells": [
  {
   "cell_type": "code",
   "execution_count": 1,
   "metadata": {},
   "outputs": [],
   "source": [
    "import pandas as pd\n",
    "import numpy as np\n",
    "import matplotlib as mpl\n",
    "import matplotlib.pyplot as plt\n",
    "import statsmodels.api as sm\n",
    "from scipy import stats\n",
    "from scipy.stats import kstest\n",
    "from statsmodels.graphics.tsaplots import plot_acf, plot_pacf"
   ]
  },
  {
   "cell_type": "markdown",
   "metadata": {},
   "source": [
    "# 3.6"
   ]
  },
  {
   "cell_type": "code",
   "execution_count": 2,
   "metadata": {},
   "outputs": [],
   "source": [
    "q1 = pd.read_csv(r'./data/m-mrk4608.txt', sep='\\s+')\n"
   ]
  },
  {
   "cell_type": "code",
   "execution_count": 3,
   "metadata": {},
   "outputs": [
    {
     "data": {
      "text/html": [
       "<div>\n",
       "<style scoped>\n",
       "    .dataframe tbody tr th:only-of-type {\n",
       "        vertical-align: middle;\n",
       "    }\n",
       "\n",
       "    .dataframe tbody tr th {\n",
       "        vertical-align: top;\n",
       "    }\n",
       "\n",
       "    .dataframe thead th {\n",
       "        text-align: right;\n",
       "    }\n",
       "</style>\n",
       "<table border=\"1\" class=\"dataframe\">\n",
       "  <thead>\n",
       "    <tr style=\"text-align: right;\">\n",
       "      <th></th>\n",
       "      <th>date</th>\n",
       "      <th>mrk</th>\n",
       "    </tr>\n",
       "  </thead>\n",
       "  <tbody>\n",
       "    <tr>\n",
       "      <th>0</th>\n",
       "      <td>19460628</td>\n",
       "      <td>-0.025926</td>\n",
       "    </tr>\n",
       "    <tr>\n",
       "      <th>1</th>\n",
       "      <td>19460731</td>\n",
       "      <td>-0.030534</td>\n",
       "    </tr>\n",
       "    <tr>\n",
       "      <th>2</th>\n",
       "      <td>19460830</td>\n",
       "      <td>0.043307</td>\n",
       "    </tr>\n",
       "    <tr>\n",
       "      <th>3</th>\n",
       "      <td>19460930</td>\n",
       "      <td>-0.105660</td>\n",
       "    </tr>\n",
       "    <tr>\n",
       "      <th>4</th>\n",
       "      <td>19461031</td>\n",
       "      <td>-0.008475</td>\n",
       "    </tr>\n",
       "    <tr>\n",
       "      <th>...</th>\n",
       "      <td>...</td>\n",
       "      <td>...</td>\n",
       "    </tr>\n",
       "    <tr>\n",
       "      <th>746</th>\n",
       "      <td>20080829</td>\n",
       "      <td>0.084194</td>\n",
       "    </tr>\n",
       "    <tr>\n",
       "      <th>747</th>\n",
       "      <td>20080930</td>\n",
       "      <td>-0.104570</td>\n",
       "    </tr>\n",
       "    <tr>\n",
       "      <th>748</th>\n",
       "      <td>20081031</td>\n",
       "      <td>-0.019328</td>\n",
       "    </tr>\n",
       "    <tr>\n",
       "      <th>749</th>\n",
       "      <td>20081128</td>\n",
       "      <td>-0.136672</td>\n",
       "    </tr>\n",
       "    <tr>\n",
       "      <th>750</th>\n",
       "      <td>20081231</td>\n",
       "      <td>0.151946</td>\n",
       "    </tr>\n",
       "  </tbody>\n",
       "</table>\n",
       "<p>751 rows × 2 columns</p>\n",
       "</div>"
      ],
      "text/plain": [
       "         date       mrk\n",
       "0    19460628 -0.025926\n",
       "1    19460731 -0.030534\n",
       "2    19460830  0.043307\n",
       "3    19460930 -0.105660\n",
       "4    19461031 -0.008475\n",
       "..        ...       ...\n",
       "746  20080829  0.084194\n",
       "747  20080930 -0.104570\n",
       "748  20081031 -0.019328\n",
       "749  20081128 -0.136672\n",
       "750  20081231  0.151946\n",
       "\n",
       "[751 rows x 2 columns]"
      ]
     },
     "execution_count": 3,
     "metadata": {},
     "output_type": "execute_result"
    }
   ],
   "source": [
    "q1"
   ]
  },
  {
   "cell_type": "code",
   "execution_count": 4,
   "metadata": {},
   "outputs": [],
   "source": [
    "from math import log\n",
    "r = q1['mrk'].copy(deep=True)\n",
    "r = r.apply(lambda x: log(1+x))"
   ]
  },
  {
   "cell_type": "code",
   "execution_count": 5,
   "metadata": {},
   "outputs": [
    {
     "data": {
      "text/plain": [
       "0     -0.026268\n",
       "1     -0.031010\n",
       "2      0.042395\n",
       "3     -0.111669\n",
       "4     -0.008511\n",
       "         ...   \n",
       "746    0.080837\n",
       "747   -0.110451\n",
       "748   -0.019517\n",
       "749   -0.146961\n",
       "750    0.141453\n",
       "Name: mrk, Length: 751, dtype: float64"
      ]
     },
     "execution_count": 5,
     "metadata": {},
     "output_type": "execute_result"
    }
   ],
   "source": [
    "r"
   ]
  },
  {
   "cell_type": "markdown",
   "metadata": {},
   "source": [
    "## 3.6(a)"
   ]
  },
  {
   "cell_type": "code",
   "execution_count": 6,
   "metadata": {},
   "outputs": [
    {
     "data": {
      "text/html": [
       "<div>\n",
       "<style scoped>\n",
       "    .dataframe tbody tr th:only-of-type {\n",
       "        vertical-align: middle;\n",
       "    }\n",
       "\n",
       "    .dataframe tbody tr th {\n",
       "        vertical-align: top;\n",
       "    }\n",
       "\n",
       "    .dataframe thead th {\n",
       "        text-align: right;\n",
       "    }\n",
       "</style>\n",
       "<table border=\"1\" class=\"dataframe\">\n",
       "  <thead>\n",
       "    <tr style=\"text-align: right;\">\n",
       "      <th></th>\n",
       "      <th>lb_stat</th>\n",
       "      <th>lb_pvalue</th>\n",
       "    </tr>\n",
       "  </thead>\n",
       "  <tbody>\n",
       "    <tr>\n",
       "      <th>1</th>\n",
       "      <td>4.640302</td>\n",
       "      <td>0.031230</td>\n",
       "    </tr>\n",
       "    <tr>\n",
       "      <th>2</th>\n",
       "      <td>5.434009</td>\n",
       "      <td>0.066072</td>\n",
       "    </tr>\n",
       "    <tr>\n",
       "      <th>3</th>\n",
       "      <td>5.582673</td>\n",
       "      <td>0.133777</td>\n",
       "    </tr>\n",
       "    <tr>\n",
       "      <th>4</th>\n",
       "      <td>9.999002</td>\n",
       "      <td>0.040444</td>\n",
       "    </tr>\n",
       "    <tr>\n",
       "      <th>5</th>\n",
       "      <td>10.040744</td>\n",
       "      <td>0.074089</td>\n",
       "    </tr>\n",
       "    <tr>\n",
       "      <th>6</th>\n",
       "      <td>10.186069</td>\n",
       "      <td>0.117032</td>\n",
       "    </tr>\n",
       "    <tr>\n",
       "      <th>7</th>\n",
       "      <td>11.214699</td>\n",
       "      <td>0.129524</td>\n",
       "    </tr>\n",
       "    <tr>\n",
       "      <th>8</th>\n",
       "      <td>19.485115</td>\n",
       "      <td>0.012470</td>\n",
       "    </tr>\n",
       "    <tr>\n",
       "      <th>9</th>\n",
       "      <td>20.317454</td>\n",
       "      <td>0.016051</td>\n",
       "    </tr>\n",
       "    <tr>\n",
       "      <th>10</th>\n",
       "      <td>20.416924</td>\n",
       "      <td>0.025547</td>\n",
       "    </tr>\n",
       "  </tbody>\n",
       "</table>\n",
       "</div>"
      ],
      "text/plain": [
       "      lb_stat  lb_pvalue\n",
       "1    4.640302   0.031230\n",
       "2    5.434009   0.066072\n",
       "3    5.582673   0.133777\n",
       "4    9.999002   0.040444\n",
       "5   10.040744   0.074089\n",
       "6   10.186069   0.117032\n",
       "7   11.214699   0.129524\n",
       "8   19.485115   0.012470\n",
       "9   20.317454   0.016051\n",
       "10  20.416924   0.025547"
      ]
     },
     "execution_count": 6,
     "metadata": {},
     "output_type": "execute_result"
    }
   ],
   "source": [
    "from statsmodels.stats.diagnostic import acorr_ljungbox as lb_test\n",
    "lb_test(r,lags=None,boxpierce=False)"
   ]
  },
  {
   "cell_type": "markdown",
   "metadata": {},
   "source": [
    "从Ljung_Box检验可以看出，在显著性5%的水平上，一阶延迟的p值就小于0.05，故存在明显的序列相关性。\n",
    "消除序列相关性，考虑建立ARMA模型。"
   ]
  },
  {
   "cell_type": "code",
   "execution_count": 7,
   "metadata": {},
   "outputs": [
    {
     "name": "stderr",
     "output_type": "stream",
     "text": [
      "c:\\Users\\20123\\AppData\\Local\\Programs\\Python\\Python38\\lib\\site-packages\\statsmodels\\graphics\\tsaplots.py:348: FutureWarning: The default method 'yw' can produce PACF values outside of the [-1,1] interval. After 0.13, the default will change tounadjusted Yule-Walker ('ywm'). You can use this method now by setting method='ywm'.\n",
      "  warnings.warn(\n"
     ]
    },
    {
     "data": {
      "image/png": "[encoded data removed]",
      "text/plain": [
       "<Figure size 432x288 with 1 Axes>"
      ]
     },
     "metadata": {
      "needs_background": "light"
     },
     "output_type": "display_data"
    }
   ],
   "source": [
    "plot_pacf(r)\n",
    "plt.show() ##取3比较合适"
   ]
  },
  {
   "cell_type": "markdown",
   "metadata": {},
   "source": [
    "即建立AR（1）模型"
   ]
  },
  {
   "cell_type": "code",
   "execution_count": 10,
   "metadata": {},
   "outputs": [
    {
     "data": {
      "text/html": [
       "<table class=\"simpletable\">\n",
       "<caption>SARIMAX Results</caption>\n",
       "<tr>\n",
       "  <th>Dep. Variable:</th>          <td>mrk</td>       <th>  No. Observations:  </th>    <td>751</td>   \n",
       "</tr>\n",
       "<tr>\n",
       "  <th>Model:</th>            <td>ARIMA(1, 0, 0)</td>  <th>  Log Likelihood     </th>  <td>926.777</td> \n",
       "</tr>\n",
       "<tr>\n",
       "  <th>Date:</th>            <td>Mon, 16 May 2022</td> <th>  AIC                </th> <td>-1847.553</td>\n",
       "</tr>\n",
       "<tr>\n",
       "  <th>Time:</th>                <td>19:14:19</td>     <th>  BIC                </th> <td>-1833.689</td>\n",
       "</tr>\n",
       "<tr>\n",
       "  <th>Sample:</th>                  <td>0</td>        <th>  HQIC               </th> <td>-1842.211</td>\n",
       "</tr>\n",
       "<tr>\n",
       "  <th></th>                      <td> - 751</td>      <th>                     </th>     <td> </td>    \n",
       "</tr>\n",
       "<tr>\n",
       "  <th>Covariance Type:</th>        <td>opg</td>       <th>                     </th>     <td> </td>    \n",
       "</tr>\n",
       "</table>\n",
       "<table class=\"simpletable\">\n",
       "<tr>\n",
       "     <td></td>       <th>coef</th>     <th>std err</th>      <th>z</th>      <th>P>|z|</th>  <th>[0.025</th>    <th>0.975]</th>  \n",
       "</tr>\n",
       "<tr>\n",
       "  <th>const</th>  <td>    0.0108</td> <td>    0.002</td> <td>    4.490</td> <td> 0.000</td> <td>    0.006</td> <td>    0.016</td>\n",
       "</tr>\n",
       "<tr>\n",
       "  <th>ar.L1</th>  <td>   -0.0788</td> <td>    0.034</td> <td>   -2.310</td> <td> 0.021</td> <td>   -0.146</td> <td>   -0.012</td>\n",
       "</tr>\n",
       "<tr>\n",
       "  <th>sigma2</th> <td>    0.0050</td> <td>    0.000</td> <td>   22.832</td> <td> 0.000</td> <td>    0.005</td> <td>    0.005</td>\n",
       "</tr>\n",
       "</table>\n",
       "<table class=\"simpletable\">\n",
       "<tr>\n",
       "  <th>Ljung-Box (L1) (Q):</th>     <td>0.00</td> <th>  Jarque-Bera (JB):  </th> <td>28.75</td>\n",
       "</tr>\n",
       "<tr>\n",
       "  <th>Prob(Q):</th>                <td>0.95</td> <th>  Prob(JB):          </th> <td>0.00</td> \n",
       "</tr>\n",
       "<tr>\n",
       "  <th>Heteroskedasticity (H):</th> <td>1.23</td> <th>  Skew:              </th> <td>-0.21</td>\n",
       "</tr>\n",
       "<tr>\n",
       "  <th>Prob(H) (two-sided):</th>    <td>0.10</td> <th>  Kurtosis:          </th> <td>3.86</td> \n",
       "</tr>\n",
       "</table><br/><br/>Warnings:<br/>[1] Covariance matrix calculated using the outer product of gradients (complex-step)."
      ],
      "text/plain": [
       "<class 'statsmodels.iolib.summary.Summary'>\n",
       "\"\"\"\n",
       "                               SARIMAX Results                                \n",
       "==============================================================================\n",
       "Dep. Variable:                    mrk   No. Observations:                  751\n",
       "Model:                 ARIMA(1, 0, 0)   Log Likelihood                 926.777\n",
       "Date:                Mon, 16 May 2022   AIC                          -1847.553\n",
       "Time:                        19:14:19   BIC                          -1833.689\n",
       "Sample:                             0   HQIC                         -1842.211\n",
       "                                - 751                                         \n",
       "Covariance Type:                  opg                                         \n",
       "==============================================================================\n",
       "                 coef    std err          z      P>|z|      [0.025      0.975]\n",
       "------------------------------------------------------------------------------\n",
       "const          0.0108      0.002      4.490      0.000       0.006       0.016\n",
       "ar.L1         -0.0788      0.034     -2.310      0.021      -0.146      -0.012\n",
       "sigma2         0.0050      0.000     22.832      0.000       0.005       0.005\n",
       "===================================================================================\n",
       "Ljung-Box (L1) (Q):                   0.00   Jarque-Bera (JB):                28.75\n",
       "Prob(Q):                              0.95   Prob(JB):                         0.00\n",
       "Heteroskedasticity (H):               1.23   Skew:                            -0.21\n",
       "Prob(H) (two-sided):                  0.10   Kurtosis:                         3.86\n",
       "===================================================================================\n",
       "\n",
       "Warnings:\n",
       "[1] Covariance matrix calculated using the outer product of gradients (complex-step).\n",
       "\"\"\""
      ]
     },
     "execution_count": 10,
     "metadata": {},
     "output_type": "execute_result"
    }
   ],
   "source": [
    "import pmdarima as pm\n",
    "from pmdarima.model_selection import train_test_split\n",
    "from statsmodels.tsa.arima.model import ARIMA\n",
    "model = ARIMA(r, order=(1,0,0))\n",
    "result = model.fit()\n",
    "result.summary()"
   ]
  },
  {
   "cell_type": "markdown",
   "metadata": {},
   "source": [
    "## 3.6(b)"
   ]
  },
  {
   "cell_type": "code",
   "execution_count": 11,
   "metadata": {},
   "outputs": [
    {
     "data": {
      "text/html": [
       "<div>\n",
       "<style scoped>\n",
       "    .dataframe tbody tr th:only-of-type {\n",
       "        vertical-align: middle;\n",
       "    }\n",
       "\n",
       "    .dataframe tbody tr th {\n",
       "        vertical-align: top;\n",
       "    }\n",
       "\n",
       "    .dataframe thead th {\n",
       "        text-align: right;\n",
       "    }\n",
       "</style>\n",
       "<table border=\"1\" class=\"dataframe\">\n",
       "  <thead>\n",
       "    <tr style=\"text-align: right;\">\n",
       "      <th></th>\n",
       "      <th>lb_stat</th>\n",
       "      <th>lb_pvalue</th>\n",
       "    </tr>\n",
       "  </thead>\n",
       "  <tbody>\n",
       "    <tr>\n",
       "      <th>1</th>\n",
       "      <td>2.732877</td>\n",
       "      <td>0.098302</td>\n",
       "    </tr>\n",
       "    <tr>\n",
       "      <th>2</th>\n",
       "      <td>8.423642</td>\n",
       "      <td>0.014819</td>\n",
       "    </tr>\n",
       "    <tr>\n",
       "      <th>3</th>\n",
       "      <td>17.320543</td>\n",
       "      <td>0.000607</td>\n",
       "    </tr>\n",
       "    <tr>\n",
       "      <th>4</th>\n",
       "      <td>21.499782</td>\n",
       "      <td>0.000252</td>\n",
       "    </tr>\n",
       "    <tr>\n",
       "      <th>5</th>\n",
       "      <td>21.580872</td>\n",
       "      <td>0.000629</td>\n",
       "    </tr>\n",
       "    <tr>\n",
       "      <th>6</th>\n",
       "      <td>21.604014</td>\n",
       "      <td>0.001428</td>\n",
       "    </tr>\n",
       "    <tr>\n",
       "      <th>7</th>\n",
       "      <td>21.860455</td>\n",
       "      <td>0.002685</td>\n",
       "    </tr>\n",
       "    <tr>\n",
       "      <th>8</th>\n",
       "      <td>22.746775</td>\n",
       "      <td>0.003705</td>\n",
       "    </tr>\n",
       "    <tr>\n",
       "      <th>9</th>\n",
       "      <td>26.206759</td>\n",
       "      <td>0.001890</td>\n",
       "    </tr>\n",
       "    <tr>\n",
       "      <th>10</th>\n",
       "      <td>29.202030</td>\n",
       "      <td>0.001156</td>\n",
       "    </tr>\n",
       "    <tr>\n",
       "      <th>11</th>\n",
       "      <td>31.546221</td>\n",
       "      <td>0.000902</td>\n",
       "    </tr>\n",
       "    <tr>\n",
       "      <th>12</th>\n",
       "      <td>32.408229</td>\n",
       "      <td>0.001197</td>\n",
       "    </tr>\n",
       "  </tbody>\n",
       "</table>\n",
       "</div>"
      ],
      "text/plain": [
       "      lb_stat  lb_pvalue\n",
       "1    2.732877   0.098302\n",
       "2    8.423642   0.014819\n",
       "3   17.320543   0.000607\n",
       "4   21.499782   0.000252\n",
       "5   21.580872   0.000629\n",
       "6   21.604014   0.001428\n",
       "7   21.860455   0.002685\n",
       "8   22.746775   0.003705\n",
       "9   26.206759   0.001890\n",
       "10  29.202030   0.001156\n",
       "11  31.546221   0.000902\n",
       "12  32.408229   0.001197"
      ]
     },
     "execution_count": 11,
     "metadata": {},
     "output_type": "execute_result"
    }
   ],
   "source": [
    "res = result.resid\n",
    "lb_test(res**2,lags=12,boxpierce=False)"
   ]
  },
  {
   "cell_type": "markdown",
   "metadata": {},
   "source": [
    "从检验结果看出，6个间隔在5%显著性水平下有ARCH效应，但12个间隔在5%显著性水平下也存在ARCH效应。"
   ]
  },
  {
   "cell_type": "markdown",
   "metadata": {},
   "source": [
    "## 3.6(c)"
   ]
  },
  {
   "cell_type": "code",
   "execution_count": 12,
   "metadata": {},
   "outputs": [
    {
     "name": "stderr",
     "output_type": "stream",
     "text": [
      "c:\\Users\\20123\\AppData\\Local\\Programs\\Python\\Python38\\lib\\site-packages\\statsmodels\\graphics\\tsaplots.py:348: FutureWarning: The default method 'yw' can produce PACF values outside of the [-1,1] interval. After 0.13, the default will change tounadjusted Yule-Walker ('ywm'). You can use this method now by setting method='ywm'.\n",
      "  warnings.warn(\n"
     ]
    },
    {
     "data": {
      "image/png": "[encoded data removed]",
      "text/plain": [
       "<Figure size 432x288 with 1 Axes>"
      ]
     },
     "metadata": {
      "needs_background": "light"
     },
     "output_type": "display_data"
    }
   ],
   "source": [
    "plot_pacf(res**2)\n",
    "plt.show() ##取3比较合适"
   ]
  },
  {
   "cell_type": "code",
   "execution_count": 13,
   "metadata": {},
   "outputs": [
    {
     "name": "stdout",
     "output_type": "stream",
     "text": [
      "Iteration:      1,   Func. Count:      8,   Neg. LLF: 1151191.5348212253\n",
      "Iteration:      2,   Func. Count:     20,   Neg. LLF: -177.42677713764252\n",
      "Iteration:      3,   Func. Count:     30,   Neg. LLF: 307383.9238676762\n",
      "Iteration:      4,   Func. Count:     39,   Neg. LLF: 175728.49078859395\n",
      "Iteration:      5,   Func. Count:     49,   Neg. LLF: -817.7779051621974\n",
      "Iteration:      6,   Func. Count:     58,   Neg. LLF: -916.6544733580982\n",
      "Iteration:      7,   Func. Count:     66,   Neg. LLF: -932.1862344145208\n",
      "Iteration:      8,   Func. Count:     73,   Neg. LLF: -932.3797964682774\n",
      "Iteration:      9,   Func. Count:     80,   Neg. LLF: -920.7241506638396\n",
      "Iteration:     10,   Func. Count:     89,   Neg. LLF: -932.4581536336293\n",
      "Iteration:     11,   Func. Count:     96,   Neg. LLF: -932.4597360752776\n",
      "Iteration:     12,   Func. Count:    103,   Neg. LLF: -932.4597588328202\n",
      "Iteration:     13,   Func. Count:    109,   Neg. LLF: -932.4597588328573\n",
      "Optimization terminated successfully    (Exit mode 0)\n",
      "            Current function value: -932.4597588328202\n",
      "            Iterations: 13\n",
      "            Function evaluations: 109\n",
      "            Gradient evaluations: 13\n"
     ]
    },
    {
     "name": "stderr",
     "output_type": "stream",
     "text": [
      "c:\\Users\\20123\\AppData\\Local\\Programs\\Python\\Python38\\lib\\site-packages\\arch\\univariate\\base.py:309: DataScaleWarning: y is poorly scaled, which may affect convergence of the optimizer when\n",
      "estimating the model parameters. The scale of y is 0.004967. Parameter\n",
      "estimation work better when this value is between 1 and 1000. The recommended\n",
      "rescaling is 10 * y.\n",
      "\n",
      "This warning can be disabled by either rescaling y before initializing the\n",
      "model or by setting rescale=False.\n",
      "\n",
      "  warnings.warn(\n"
     ]
    },
    {
     "data": {
      "text/html": [
       "<table class=\"simpletable\">\n",
       "<caption>AR - ARCH Model Results</caption>\n",
       "<tr>\n",
       "  <th>Dep. Variable:</th>         <td>mrk</td>        <th>  R-squared:         </th>  <td>   0.006</td> \n",
       "</tr>\n",
       "<tr>\n",
       "  <th>Mean Model:</th>            <td>AR</td>         <th>  Adj. R-squared:    </th>  <td>   0.005</td> \n",
       "</tr>\n",
       "<tr>\n",
       "  <th>Vol Model:</th>            <td>ARCH</td>        <th>  Log-Likelihood:    </th> <td>   932.460</td>\n",
       "</tr>\n",
       "<tr>\n",
       "  <th>Distribution:</th>        <td>Normal</td>       <th>  AIC:               </th> <td>  -1852.92</td>\n",
       "</tr>\n",
       "<tr>\n",
       "  <th>Method:</th>        <td>Maximum Likelihood</td> <th>  BIC:               </th> <td>  -1825.20</td>\n",
       "</tr>\n",
       "<tr>\n",
       "  <th></th>                        <td></td>          <th>  No. Observations:  </th>     <td>750</td>   \n",
       "</tr>\n",
       "<tr>\n",
       "  <th>Date:</th>           <td>Mon, May 16 2022</td>  <th>  Df Residuals:      </th>     <td>748</td>   \n",
       "</tr>\n",
       "<tr>\n",
       "  <th>Time:</th>               <td>19:14:23</td>      <th>  Df Model:          </th>      <td>2</td>    \n",
       "</tr>\n",
       "</table>\n",
       "<table class=\"simpletable\">\n",
       "<caption>Mean Model</caption>\n",
       "<tr>\n",
       "     <td></td>       <th>coef</th>     <th>std err</th>      <th>t</th>       <th>P>|t|</th>     <th>95.0% Conf. Int.</th>   \n",
       "</tr>\n",
       "<tr>\n",
       "  <th>Const</th>  <td>    0.0130</td> <td>2.696e-03</td> <td>    4.806</td> <td>1.542e-06</td> <td>[7.671e-03,1.824e-02]</td>\n",
       "</tr>\n",
       "<tr>\n",
       "  <th>mrk[1]</th> <td>   -0.0786</td> <td>3.698e-02</td> <td>   -2.126</td> <td>3.354e-02</td> <td>[ -0.151,-6.126e-03]</td> \n",
       "</tr>\n",
       "</table>\n",
       "<table class=\"simpletable\">\n",
       "<caption>Volatility Model</caption>\n",
       "<tr>\n",
       "      <td></td>        <th>coef</th>     <th>std err</th>      <th>t</th>       <th>P>|t|</th>      <th>95.0% Conf. Int.</th>   \n",
       "</tr>\n",
       "<tr>\n",
       "  <th>omega</th>    <td>4.0521e-03</td> <td>4.076e-04</td> <td>    9.942</td> <td>2.736e-23</td>  <td>[3.253e-03,4.851e-03]</td>\n",
       "</tr>\n",
       "<tr>\n",
       "  <th>alpha[1]</th> <td>    0.0200</td> <td>3.602e-02</td> <td>    0.556</td> <td>    0.578</td> <td>[-5.058e-02,9.061e-02]</td>\n",
       "</tr>\n",
       "<tr>\n",
       "  <th>alpha[2]</th> <td>    0.0747</td> <td>4.331e-02</td> <td>    1.725</td> <td>8.454e-02</td>  <td>[-1.018e-02,  0.160]</td> \n",
       "</tr>\n",
       "<tr>\n",
       "  <th>alpha[3]</th> <td>    0.0869</td> <td>4.123e-02</td> <td>    2.109</td> <td>3.498e-02</td>   <td>[6.129e-03,  0.168]</td> \n",
       "</tr>\n",
       "</table><br/><br/>Covariance estimator: robust"
      ],
      "text/plain": [
       "<class 'statsmodels.iolib.summary.Summary'>\n",
       "\"\"\"\n",
       "                           AR - ARCH Model Results                            \n",
       "==============================================================================\n",
       "Dep. Variable:                    mrk   R-squared:                       0.006\n",
       "Mean Model:                        AR   Adj. R-squared:                  0.005\n",
       "Vol Model:                       ARCH   Log-Likelihood:                932.460\n",
       "Distribution:                  Normal   AIC:                          -1852.92\n",
       "Method:            Maximum Likelihood   BIC:                          -1825.20\n",
       "                                        No. Observations:                  750\n",
       "Date:                Mon, May 16 2022   Df Residuals:                      748\n",
       "Time:                        19:14:23   Df Model:                            2\n",
       "                                 Mean Model                                 \n",
       "============================================================================\n",
       "                 coef    std err          t      P>|t|      95.0% Conf. Int.\n",
       "----------------------------------------------------------------------------\n",
       "Const          0.0130  2.696e-03      4.806  1.542e-06 [7.671e-03,1.824e-02]\n",
       "mrk[1]        -0.0786  3.698e-02     -2.126  3.354e-02  [ -0.151,-6.126e-03]\n",
       "                               Volatility Model                              \n",
       "=============================================================================\n",
       "                 coef    std err          t      P>|t|       95.0% Conf. Int.\n",
       "-----------------------------------------------------------------------------\n",
       "omega      4.0521e-03  4.076e-04      9.942  2.736e-23  [3.253e-03,4.851e-03]\n",
       "alpha[1]       0.0200  3.602e-02      0.556      0.578 [-5.058e-02,9.061e-02]\n",
       "alpha[2]       0.0747  4.331e-02      1.725  8.454e-02   [-1.018e-02,  0.160]\n",
       "alpha[3]       0.0869  4.123e-02      2.109  3.498e-02    [6.129e-03,  0.168]\n",
       "=============================================================================\n",
       "\n",
       "Covariance estimator: robust\n",
       "\"\"\""
      ]
     },
     "execution_count": 13,
     "metadata": {},
     "output_type": "execute_result"
    }
   ],
   "source": [
    "from arch import arch_model\n",
    "am = arch_model(r,mean='AR',lags=1,vol='ARCH',p=3) \n",
    "res = am.fit()\n",
    "res.summary()"
   ]
  },
  {
   "cell_type": "markdown",
   "metadata": {},
   "source": [
    "其中，\n",
    "$$ r_t = \\mu + a_t,\\ \\mu = 0.0130 -0.0786r_{t-1},\\ a_t = \\sigma_t\\varepsilon_t,\\ \\sigma^2_t = 4.0521*10^{-3} + 0.0200a^2_{t-1} + 0.0747a^2_{t-2} + 0.0869a^2_{t-3} $$"
   ]
  },
  {
   "cell_type": "markdown",
   "metadata": {},
   "source": [
    "# 3.7"
   ]
  },
  {
   "cell_type": "code",
   "execution_count": 14,
   "metadata": {},
   "outputs": [],
   "source": [
    "q2 = pd.read_csv(r'./data/m-3m4608.txt', sep='\\s+')"
   ]
  },
  {
   "cell_type": "code",
   "execution_count": 15,
   "metadata": {},
   "outputs": [
    {
     "data": {
      "text/html": [
       "<div>\n",
       "<style scoped>\n",
       "    .dataframe tbody tr th:only-of-type {\n",
       "        vertical-align: middle;\n",
       "    }\n",
       "\n",
       "    .dataframe tbody tr th {\n",
       "        vertical-align: top;\n",
       "    }\n",
       "\n",
       "    .dataframe thead th {\n",
       "        text-align: right;\n",
       "    }\n",
       "</style>\n",
       "<table border=\"1\" class=\"dataframe\">\n",
       "  <thead>\n",
       "    <tr style=\"text-align: right;\">\n",
       "      <th></th>\n",
       "      <th>date</th>\n",
       "      <th>rtn</th>\n",
       "    </tr>\n",
       "  </thead>\n",
       "  <tbody>\n",
       "    <tr>\n",
       "      <th>0</th>\n",
       "      <td>19460228</td>\n",
       "      <td>-0.077922</td>\n",
       "    </tr>\n",
       "    <tr>\n",
       "      <th>1</th>\n",
       "      <td>19460330</td>\n",
       "      <td>0.018592</td>\n",
       "    </tr>\n",
       "    <tr>\n",
       "      <th>2</th>\n",
       "      <td>19460430</td>\n",
       "      <td>-0.100000</td>\n",
       "    </tr>\n",
       "    <tr>\n",
       "      <th>3</th>\n",
       "      <td>19460531</td>\n",
       "      <td>0.209877</td>\n",
       "    </tr>\n",
       "    <tr>\n",
       "      <th>4</th>\n",
       "      <td>19460628</td>\n",
       "      <td>0.005128</td>\n",
       "    </tr>\n",
       "    <tr>\n",
       "      <th>...</th>\n",
       "      <td>...</td>\n",
       "      <td>...</td>\n",
       "    </tr>\n",
       "    <tr>\n",
       "      <th>750</th>\n",
       "      <td>20080829</td>\n",
       "      <td>0.024293</td>\n",
       "    </tr>\n",
       "    <tr>\n",
       "      <th>751</th>\n",
       "      <td>20080930</td>\n",
       "      <td>-0.045950</td>\n",
       "    </tr>\n",
       "    <tr>\n",
       "      <th>752</th>\n",
       "      <td>20081031</td>\n",
       "      <td>-0.058703</td>\n",
       "    </tr>\n",
       "    <tr>\n",
       "      <th>753</th>\n",
       "      <td>20081128</td>\n",
       "      <td>0.048678</td>\n",
       "    </tr>\n",
       "    <tr>\n",
       "      <th>754</th>\n",
       "      <td>20081231</td>\n",
       "      <td>-0.140296</td>\n",
       "    </tr>\n",
       "  </tbody>\n",
       "</table>\n",
       "<p>755 rows × 2 columns</p>\n",
       "</div>"
      ],
      "text/plain": [
       "         date       rtn\n",
       "0    19460228 -0.077922\n",
       "1    19460330  0.018592\n",
       "2    19460430 -0.100000\n",
       "3    19460531  0.209877\n",
       "4    19460628  0.005128\n",
       "..        ...       ...\n",
       "750  20080829  0.024293\n",
       "751  20080930 -0.045950\n",
       "752  20081031 -0.058703\n",
       "753  20081128  0.048678\n",
       "754  20081231 -0.140296\n",
       "\n",
       "[755 rows x 2 columns]"
      ]
     },
     "execution_count": 15,
     "metadata": {},
     "output_type": "execute_result"
    }
   ],
   "source": [
    "q2"
   ]
  },
  {
   "cell_type": "code",
   "execution_count": 16,
   "metadata": {},
   "outputs": [],
   "source": [
    "r = q2['rtn'].copy(deep=True)\n",
    "r = r.apply(lambda x: log(1+x))"
   ]
  },
  {
   "cell_type": "markdown",
   "metadata": {},
   "source": [
    "## 3.7(a)"
   ]
  },
  {
   "cell_type": "code",
   "execution_count": 17,
   "metadata": {},
   "outputs": [
    {
     "data": {
      "text/html": [
       "<div>\n",
       "<style scoped>\n",
       "    .dataframe tbody tr th:only-of-type {\n",
       "        vertical-align: middle;\n",
       "    }\n",
       "\n",
       "    .dataframe tbody tr th {\n",
       "        vertical-align: top;\n",
       "    }\n",
       "\n",
       "    .dataframe thead th {\n",
       "        text-align: right;\n",
       "    }\n",
       "</style>\n",
       "<table border=\"1\" class=\"dataframe\">\n",
       "  <thead>\n",
       "    <tr style=\"text-align: right;\">\n",
       "      <th></th>\n",
       "      <th>lb_stat</th>\n",
       "      <th>lb_pvalue</th>\n",
       "    </tr>\n",
       "  </thead>\n",
       "  <tbody>\n",
       "    <tr>\n",
       "      <th>1</th>\n",
       "      <td>4.593942</td>\n",
       "      <td>0.032085</td>\n",
       "    </tr>\n",
       "    <tr>\n",
       "      <th>2</th>\n",
       "      <td>13.565673</td>\n",
       "      <td>0.001133</td>\n",
       "    </tr>\n",
       "    <tr>\n",
       "      <th>3</th>\n",
       "      <td>19.039651</td>\n",
       "      <td>0.000268</td>\n",
       "    </tr>\n",
       "    <tr>\n",
       "      <th>4</th>\n",
       "      <td>21.401004</td>\n",
       "      <td>0.000264</td>\n",
       "    </tr>\n",
       "    <tr>\n",
       "      <th>5</th>\n",
       "      <td>23.234832</td>\n",
       "      <td>0.000304</td>\n",
       "    </tr>\n",
       "    <tr>\n",
       "      <th>6</th>\n",
       "      <td>24.446801</td>\n",
       "      <td>0.000432</td>\n",
       "    </tr>\n",
       "    <tr>\n",
       "      <th>7</th>\n",
       "      <td>26.308965</td>\n",
       "      <td>0.000443</td>\n",
       "    </tr>\n",
       "    <tr>\n",
       "      <th>8</th>\n",
       "      <td>26.591164</td>\n",
       "      <td>0.000832</td>\n",
       "    </tr>\n",
       "    <tr>\n",
       "      <th>9</th>\n",
       "      <td>29.634968</td>\n",
       "      <td>0.000506</td>\n",
       "    </tr>\n",
       "    <tr>\n",
       "      <th>10</th>\n",
       "      <td>32.440053</td>\n",
       "      <td>0.000338</td>\n",
       "    </tr>\n",
       "    <tr>\n",
       "      <th>11</th>\n",
       "      <td>32.511760</td>\n",
       "      <td>0.000631</td>\n",
       "    </tr>\n",
       "    <tr>\n",
       "      <th>12</th>\n",
       "      <td>32.663667</td>\n",
       "      <td>0.001092</td>\n",
       "    </tr>\n",
       "  </tbody>\n",
       "</table>\n",
       "</div>"
      ],
      "text/plain": [
       "      lb_stat  lb_pvalue\n",
       "1    4.593942   0.032085\n",
       "2   13.565673   0.001133\n",
       "3   19.039651   0.000268\n",
       "4   21.401004   0.000264\n",
       "5   23.234832   0.000304\n",
       "6   24.446801   0.000432\n",
       "7   26.308965   0.000443\n",
       "8   26.591164   0.000832\n",
       "9   29.634968   0.000506\n",
       "10  32.440053   0.000338\n",
       "11  32.511760   0.000631\n",
       "12  32.663667   0.001092"
      ]
     },
     "execution_count": 17,
     "metadata": {},
     "output_type": "execute_result"
    }
   ],
   "source": [
    "lb_test(r**2,lags=12,boxpierce=False)"
   ]
  },
  {
   "cell_type": "markdown",
   "metadata": {},
   "source": [
    "从检验结果看出，6个间隔在5%显著性水平下有ARCH效应，但12个间隔在5%显著性水平下也存在ARCH效应。"
   ]
  },
  {
   "cell_type": "markdown",
   "metadata": {},
   "source": [
    "## 3.7(b)"
   ]
  },
  {
   "cell_type": "code",
   "execution_count": 18,
   "metadata": {},
   "outputs": [
    {
     "name": "stderr",
     "output_type": "stream",
     "text": [
      "c:\\Users\\20123\\AppData\\Local\\Programs\\Python\\Python38\\lib\\site-packages\\statsmodels\\graphics\\tsaplots.py:348: FutureWarning: The default method 'yw' can produce PACF values outside of the [-1,1] interval. After 0.13, the default will change tounadjusted Yule-Walker ('ywm'). You can use this method now by setting method='ywm'.\n",
      "  warnings.warn(\n"
     ]
    },
    {
     "data": {
      "image/png": "[encoded data removed]",
      "text/plain": [
       "<Figure size 432x288 with 1 Axes>"
      ]
     },
     "metadata": {
      "needs_background": "light"
     },
     "output_type": "display_data"
    }
   ],
   "source": [
    "plot_pacf(r**2)\n",
    "plt.show() "
   ]
  },
  {
   "cell_type": "markdown",
   "metadata": {},
   "source": [
    "从pacf看出，应该选择ARCH（2）"
   ]
  },
  {
   "cell_type": "markdown",
   "metadata": {},
   "source": [
    "## 3.7(c)"
   ]
  },
  {
   "cell_type": "code",
   "execution_count": 19,
   "metadata": {},
   "outputs": [
    {
     "name": "stderr",
     "output_type": "stream",
     "text": [
      "c:\\Users\\20123\\AppData\\Local\\Programs\\Python\\Python38\\lib\\site-packages\\statsmodels\\graphics\\tsaplots.py:348: FutureWarning: The default method 'yw' can produce PACF values outside of the [-1,1] interval. After 0.13, the default will change tounadjusted Yule-Walker ('ywm'). You can use this method now by setting method='ywm'.\n",
      "  warnings.warn(\n"
     ]
    },
    {
     "data": {
      "image/png": "[encoded data removed]",
      "text/plain": [
       "<Figure size 432x288 with 1 Axes>"
      ]
     },
     "metadata": {
      "needs_background": "light"
     },
     "output_type": "display_data"
    }
   ],
   "source": [
    "plot_pacf(r)\n",
    "plt.show() "
   ]
  },
  {
   "cell_type": "code",
   "execution_count": 20,
   "metadata": {},
   "outputs": [
    {
     "name": "stdout",
     "output_type": "stream",
     "text": [
      "Iteration:      1,   Func. Count:      9,   Neg. LLF: 207794.60716385764\n",
      "Iteration:      2,   Func. Count:     23,   Neg. LLF: 1558535.465713152\n",
      "Iteration:      3,   Func. Count:     34,   Neg. LLF: 1672471.1463057566\n",
      "Iteration:      4,   Func. Count:     44,   Neg. LLF: -743.5688464111258\n",
      "Iteration:      5,   Func. Count:     55,   Neg. LLF: 262.44570208994037\n",
      "Iteration:      6,   Func. Count:     66,   Neg. LLF: 515.3583499222219\n",
      "Iteration:      7,   Func. Count:     77,   Neg. LLF: -1008.8215544395578\n",
      "Iteration:      8,   Func. Count:     86,   Neg. LLF: -1014.8385829338597\n",
      "Iteration:      9,   Func. Count:     95,   Neg. LLF: -1017.0231947992522\n",
      "Iteration:     10,   Func. Count:    103,   Neg. LLF: -1017.0189666149173\n",
      "Iteration:     11,   Func. Count:    112,   Neg. LLF: -1017.0234622917793\n",
      "Iteration:     12,   Func. Count:    119,   Neg. LLF: -1017.0234622917859\n",
      "Optimization terminated successfully    (Exit mode 0)\n",
      "            Current function value: -1017.0234622917793\n",
      "            Iterations: 12\n",
      "            Function evaluations: 119\n",
      "            Gradient evaluations: 12\n"
     ]
    },
    {
     "name": "stderr",
     "output_type": "stream",
     "text": [
      "c:\\Users\\20123\\AppData\\Local\\Programs\\Python\\Python38\\lib\\site-packages\\arch\\univariate\\base.py:309: DataScaleWarning: y is poorly scaled, which may affect convergence of the optimizer when\n",
      "estimating the model parameters. The scale of y is 0.003958. Parameter\n",
      "estimation work better when this value is between 1 and 1000. The recommended\n",
      "rescaling is 10 * y.\n",
      "\n",
      "This warning can be disabled by either rescaling y before initializing the\n",
      "model or by setting rescale=False.\n",
      "\n",
      "  warnings.warn(\n"
     ]
    },
    {
     "data": {
      "text/html": [
       "<table class=\"simpletable\">\n",
       "<caption>AR - ARCH Model Results</caption>\n",
       "<tr>\n",
       "  <th>Dep. Variable:</th>         <td>rtn</td>        <th>  R-squared:         </th>  <td>   0.014</td> \n",
       "</tr>\n",
       "<tr>\n",
       "  <th>Mean Model:</th>            <td>AR</td>         <th>  Adj. R-squared:    </th>  <td>   0.010</td> \n",
       "</tr>\n",
       "<tr>\n",
       "  <th>Vol Model:</th>            <td>ARCH</td>        <th>  Log-Likelihood:    </th> <td>   1017.02</td>\n",
       "</tr>\n",
       "<tr>\n",
       "  <th>Distribution:</th>        <td>Normal</td>       <th>  AIC:               </th> <td>  -2020.05</td>\n",
       "</tr>\n",
       "<tr>\n",
       "  <th>Method:</th>        <td>Maximum Likelihood</td> <th>  BIC:               </th> <td>  -1987.73</td>\n",
       "</tr>\n",
       "<tr>\n",
       "  <th></th>                        <td></td>          <th>  No. Observations:  </th>     <td>748</td>   \n",
       "</tr>\n",
       "<tr>\n",
       "  <th>Date:</th>           <td>Mon, May 16 2022</td>  <th>  Df Residuals:      </th>     <td>744</td>   \n",
       "</tr>\n",
       "<tr>\n",
       "  <th>Time:</th>               <td>19:14:27</td>      <th>  Df Model:          </th>      <td>4</td>    \n",
       "</tr>\n",
       "</table>\n",
       "<table class=\"simpletable\">\n",
       "<caption>Mean Model</caption>\n",
       "<tr>\n",
       "     <td></td>       <th>coef</th>     <th>std err</th>      <th>t</th>       <th>P>|t|</th>     <th>95.0% Conf. Int.</th>   \n",
       "</tr>\n",
       "<tr>\n",
       "  <th>Const</th>  <td>    0.0132</td> <td>2.372e-03</td> <td>    5.570</td> <td>2.552e-08</td> <td>[8.561e-03,1.786e-02]</td>\n",
       "</tr>\n",
       "<tr>\n",
       "  <th>rtn[1]</th> <td>   -0.0619</td> <td>3.870e-02</td> <td>   -1.601</td> <td>    0.109</td>  <td>[ -0.138,1.390e-02]</td> \n",
       "</tr>\n",
       "<tr>\n",
       "  <th>rtn[2]</th> <td>   -0.0491</td> <td>4.328e-02</td> <td>   -1.134</td> <td>    0.257</td>  <td>[ -0.134,3.574e-02]</td> \n",
       "</tr>\n",
       "<tr>\n",
       "  <th>rtn[3]</th> <td>   -0.0879</td> <td>3.881e-02</td> <td>   -2.265</td> <td>2.349e-02</td> <td>[ -0.164,-1.185e-02]</td> \n",
       "</tr>\n",
       "</table>\n",
       "<table class=\"simpletable\">\n",
       "<caption>Volatility Model</caption>\n",
       "<tr>\n",
       "      <td></td>        <th>coef</th>     <th>std err</th>      <th>t</th>       <th>P>|t|</th>     <th>95.0% Conf. Int.</th>   \n",
       "</tr>\n",
       "<tr>\n",
       "  <th>omega</th>    <td>3.1602e-03</td> <td>2.628e-04</td> <td>   12.024</td> <td>2.673e-33</td> <td>[2.645e-03,3.675e-03]</td>\n",
       "</tr>\n",
       "<tr>\n",
       "  <th>alpha[1]</th> <td>    0.0723</td> <td>5.833e-02</td> <td>    1.240</td> <td>    0.215</td> <td>[-4.197e-02,  0.187]</td> \n",
       "</tr>\n",
       "<tr>\n",
       "  <th>alpha[2]</th> <td>    0.1290</td> <td>7.385e-02</td> <td>    1.747</td> <td>8.071e-02</td> <td>[-1.576e-02,  0.274]</td> \n",
       "</tr>\n",
       "</table><br/><br/>Covariance estimator: robust"
      ],
      "text/plain": [
       "<class 'statsmodels.iolib.summary.Summary'>\n",
       "\"\"\"\n",
       "                           AR - ARCH Model Results                            \n",
       "==============================================================================\n",
       "Dep. Variable:                    rtn   R-squared:                       0.014\n",
       "Mean Model:                        AR   Adj. R-squared:                  0.010\n",
       "Vol Model:                       ARCH   Log-Likelihood:                1017.02\n",
       "Distribution:                  Normal   AIC:                          -2020.05\n",
       "Method:            Maximum Likelihood   BIC:                          -1987.73\n",
       "                                        No. Observations:                  748\n",
       "Date:                Mon, May 16 2022   Df Residuals:                      744\n",
       "Time:                        19:14:27   Df Model:                            4\n",
       "                                 Mean Model                                 \n",
       "============================================================================\n",
       "                 coef    std err          t      P>|t|      95.0% Conf. Int.\n",
       "----------------------------------------------------------------------------\n",
       "Const          0.0132  2.372e-03      5.570  2.552e-08 [8.561e-03,1.786e-02]\n",
       "rtn[1]        -0.0619  3.870e-02     -1.601      0.109   [ -0.138,1.390e-02]\n",
       "rtn[2]        -0.0491  4.328e-02     -1.134      0.257   [ -0.134,3.574e-02]\n",
       "rtn[3]        -0.0879  3.881e-02     -2.265  2.349e-02  [ -0.164,-1.185e-02]\n",
       "                              Volatility Model                              \n",
       "============================================================================\n",
       "                 coef    std err          t      P>|t|      95.0% Conf. Int.\n",
       "----------------------------------------------------------------------------\n",
       "omega      3.1602e-03  2.628e-04     12.024  2.673e-33 [2.645e-03,3.675e-03]\n",
       "alpha[1]       0.0723  5.833e-02      1.240      0.215  [-4.197e-02,  0.187]\n",
       "alpha[2]       0.1290  7.385e-02      1.747  8.071e-02  [-1.576e-02,  0.274]\n",
       "============================================================================\n",
       "\n",
       "Covariance estimator: robust\n",
       "\"\"\""
      ]
     },
     "execution_count": 20,
     "metadata": {},
     "output_type": "execute_result"
    }
   ],
   "source": [
    "r0 = r[:751]\n",
    "am = arch_model(r0,mean='AR',lags=3,vol='arch',p=2,dist='Normal') \n",
    "res = am.fit()\n",
    "res.summary()"
   ]
  },
  {
   "cell_type": "code",
   "execution_count": 21,
   "metadata": {},
   "outputs": [
    {
     "name": "stdout",
     "output_type": "stream",
     "text": [
      "          h.1       h.2      h.3       h.4       h.5\n",
      "750  0.020695  0.009745  0.00948  0.010325  0.011248\n"
     ]
    }
   ],
   "source": [
    "pre = res.forecast(horizon=5,method=\"simulation\",reindex=False) ## python下标从0开始\n",
    "# forecasts = res.forecast()\n",
    "print(pre.mean.iloc[-5:])"
   ]
  },
  {
   "cell_type": "markdown",
   "metadata": {},
   "source": [
    "上述结果打印即为最后一项结束后的5步预测"
   ]
  },
  {
   "cell_type": "markdown",
   "metadata": {},
   "source": [
    "## 3.7(d)"
   ]
  },
  {
   "cell_type": "code",
   "execution_count": 22,
   "metadata": {},
   "outputs": [],
   "source": [
    "# from arch.univariate import HARX\n",
    "# from arch.univariate.volatility import GARCH, FixedVariance,ARCH\n",
    "# harx = HARX(r, lags=[1, 1, 1],volatility=ARCH(2))\n",
    "# res = harx.fit()\n",
    "# res.summary()"
   ]
  },
  {
   "cell_type": "markdown",
   "metadata": {},
   "source": [
    "考虑到经过查阅资料，包括arch官网的说明文档，发现python中暂时找不到做ARCH-M的库，因此，该问在RStdio中重新做。"
   ]
  },
  {
   "cell_type": "markdown",
   "metadata": {},
   "source": [
    "## 3.7(e)"
   ]
  },
  {
   "cell_type": "code",
   "execution_count": 23,
   "metadata": {},
   "outputs": [
    {
     "name": "stdout",
     "output_type": "stream",
     "text": [
      "Iteration:      1,   Func. Count:     10,   Neg. LLF: 1016670560631.095\n",
      "Iteration:      2,   Func. Count:     25,   Neg. LLF: 5270039049.596655\n",
      "Iteration:      3,   Func. Count:     37,   Neg. LLF: 3366238410.7572794\n",
      "Iteration:      4,   Func. Count:     49,   Neg. LLF: -412.14179650888286\n",
      "Iteration:      5,   Func. Count:     61,   Neg. LLF: -893.8136636812159\n",
      "Iteration:      6,   Func. Count:     72,   Neg. LLF: -890.5752710071177\n",
      "Iteration:      7,   Func. Count:     84,   Neg. LLF: -1013.0130238122252\n",
      "Iteration:      8,   Func. Count:     95,   Neg. LLF: -725.0914694203431\n",
      "Iteration:      9,   Func. Count:    107,   Neg. LLF: -1020.706522232405\n",
      "Iteration:     10,   Func. Count:    116,   Neg. LLF: -1020.723207649796\n",
      "Iteration:     11,   Func. Count:    125,   Neg. LLF: -1020.7232768695637\n",
      "Iteration:     12,   Func. Count:    134,   Neg. LLF: -1020.7232864961741\n",
      "Iteration:     13,   Func. Count:    144,   Neg. LLF: -1020.7232816024066\n",
      "Optimization terminated successfully    (Exit mode 0)\n",
      "            Current function value: -1020.7233140832233\n",
      "            Iterations: 13\n",
      "            Function evaluations: 148\n",
      "            Gradient evaluations: 13\n"
     ]
    },
    {
     "name": "stderr",
     "output_type": "stream",
     "text": [
      "c:\\Users\\20123\\AppData\\Local\\Programs\\Python\\Python38\\lib\\site-packages\\arch\\univariate\\base.py:309: DataScaleWarning: y is poorly scaled, which may affect convergence of the optimizer when\n",
      "estimating the model parameters. The scale of y is 0.003958. Parameter\n",
      "estimation work better when this value is between 1 and 1000. The recommended\n",
      "rescaling is 10 * y.\n",
      "\n",
      "This warning can be disabled by either rescaling y before initializing the\n",
      "model or by setting rescale=False.\n",
      "\n",
      "  warnings.warn(\n"
     ]
    },
    {
     "data": {
      "text/html": [
       "<table class=\"simpletable\">\n",
       "<caption>AR - EGARCH Model Results</caption>\n",
       "<tr>\n",
       "  <th>Dep. Variable:</th>         <td>rtn</td>        <th>  R-squared:         </th>  <td>   0.014</td> \n",
       "</tr>\n",
       "<tr>\n",
       "  <th>Mean Model:</th>            <td>AR</td>         <th>  Adj. R-squared:    </th>  <td>   0.010</td> \n",
       "</tr>\n",
       "<tr>\n",
       "  <th>Vol Model:</th>           <td>EGARCH</td>       <th>  Log-Likelihood:    </th> <td>   1020.72</td>\n",
       "</tr>\n",
       "<tr>\n",
       "  <th>Distribution:</th>        <td>Normal</td>       <th>  AIC:               </th> <td>  -2025.45</td>\n",
       "</tr>\n",
       "<tr>\n",
       "  <th>Method:</th>        <td>Maximum Likelihood</td> <th>  BIC:               </th> <td>  -1988.51</td>\n",
       "</tr>\n",
       "<tr>\n",
       "  <th></th>                        <td></td>          <th>  No. Observations:  </th>     <td>748</td>   \n",
       "</tr>\n",
       "<tr>\n",
       "  <th>Date:</th>           <td>Mon, May 16 2022</td>  <th>  Df Residuals:      </th>     <td>744</td>   \n",
       "</tr>\n",
       "<tr>\n",
       "  <th>Time:</th>               <td>19:14:31</td>      <th>  Df Model:          </th>      <td>4</td>    \n",
       "</tr>\n",
       "</table>\n",
       "<table class=\"simpletable\">\n",
       "<caption>Mean Model</caption>\n",
       "<tr>\n",
       "     <td></td>       <th>coef</th>     <th>std err</th>      <th>t</th>        <th>P>|t|</th>      <th>95.0% Conf. Int.</th>    \n",
       "</tr>\n",
       "<tr>\n",
       "  <th>Const</th>  <td>    0.0124</td> <td>1.783e-03</td> <td>    6.927</td>  <td>4.294e-12</td>  <td>[8.857e-03,1.585e-02]</td> \n",
       "</tr>\n",
       "<tr>\n",
       "  <th>rtn[1]</th> <td>   -0.0583</td> <td>4.004e-02</td> <td>   -1.457</td>  <td>    0.145</td>   <td>[ -0.137,2.013e-02]</td>  \n",
       "</tr>\n",
       "<tr>\n",
       "  <th>rtn[2]</th> <td>   -0.0429</td> <td>1.193e-02</td> <td>   -3.601</td>  <td>3.175e-04</td> <td>[-6.632e-02,-1.957e-02]</td>\n",
       "</tr>\n",
       "<tr>\n",
       "  <th>rtn[3]</th> <td>   -0.0985</td> <td>4.543e-03</td> <td>  -21.690</td> <td>2.567e-104</td>  <td>[ -0.107,-8.963e-02]</td>  \n",
       "</tr>\n",
       "</table>\n",
       "<table class=\"simpletable\">\n",
       "<caption>Volatility Model</caption>\n",
       "<tr>\n",
       "      <td></td>        <th>coef</th>     <th>std err</th>      <th>t</th>       <th>P>|t|</th>     <th>95.0% Conf. Int.</th>  \n",
       "</tr>\n",
       "<tr>\n",
       "  <th>omega</th>    <td>   -1.7854</td> <td>    2.376</td> <td>   -0.751</td> <td>    0.452</td>   <td>[ -6.443,  2.872]</td> \n",
       "</tr>\n",
       "<tr>\n",
       "  <th>alpha[1]</th> <td>    0.1292</td> <td>8.812e-02</td> <td>    1.466</td> <td>    0.143</td> <td>[-4.349e-02,  0.302]</td>\n",
       "</tr>\n",
       "<tr>\n",
       "  <th>alpha[2]</th> <td>    0.1583</td> <td>    0.272</td> <td>    0.583</td> <td>    0.560</td>   <td>[ -0.374,  0.690]</td> \n",
       "</tr>\n",
       "<tr>\n",
       "  <th>beta[1]</th>  <td>    0.6786</td> <td>    0.429</td> <td>    1.582</td> <td>    0.114</td>   <td>[ -0.162,  1.519]</td> \n",
       "</tr>\n",
       "</table><br/><br/>Covariance estimator: robust"
      ],
      "text/plain": [
       "<class 'statsmodels.iolib.summary.Summary'>\n",
       "\"\"\"\n",
       "                          AR - EGARCH Model Results                           \n",
       "==============================================================================\n",
       "Dep. Variable:                    rtn   R-squared:                       0.014\n",
       "Mean Model:                        AR   Adj. R-squared:                  0.010\n",
       "Vol Model:                     EGARCH   Log-Likelihood:                1020.72\n",
       "Distribution:                  Normal   AIC:                          -2025.45\n",
       "Method:            Maximum Likelihood   BIC:                          -1988.51\n",
       "                                        No. Observations:                  748\n",
       "Date:                Mon, May 16 2022   Df Residuals:                      744\n",
       "Time:                        19:14:31   Df Model:                            4\n",
       "                                  Mean Model                                  \n",
       "==============================================================================\n",
       "                 coef    std err          t      P>|t|        95.0% Conf. Int.\n",
       "------------------------------------------------------------------------------\n",
       "Const          0.0124  1.783e-03      6.927  4.294e-12   [8.857e-03,1.585e-02]\n",
       "rtn[1]        -0.0583  4.004e-02     -1.457      0.145     [ -0.137,2.013e-02]\n",
       "rtn[2]        -0.0429  1.193e-02     -3.601  3.175e-04 [-6.632e-02,-1.957e-02]\n",
       "rtn[3]        -0.0985  4.543e-03    -21.690 2.567e-104    [ -0.107,-8.963e-02]\n",
       "                              Volatility Model                             \n",
       "===========================================================================\n",
       "                 coef    std err          t      P>|t|     95.0% Conf. Int.\n",
       "---------------------------------------------------------------------------\n",
       "omega         -1.7854      2.376     -0.751      0.452    [ -6.443,  2.872]\n",
       "alpha[1]       0.1292  8.812e-02      1.466      0.143 [-4.349e-02,  0.302]\n",
       "alpha[2]       0.1583      0.272      0.583      0.560    [ -0.374,  0.690]\n",
       "beta[1]        0.6786      0.429      1.582      0.114    [ -0.162,  1.519]\n",
       "===========================================================================\n",
       "\n",
       "Covariance estimator: robust\n",
       "\"\"\""
      ]
     },
     "execution_count": 23,
     "metadata": {},
     "output_type": "execute_result"
    }
   ],
   "source": [
    "am = arch_model(r0,mean='AR',lags=3,vol='EGARCH',p=2,dist='Normal') \n",
    "res = am.fit()\n",
    "res.summary()"
   ]
  },
  {
   "cell_type": "code",
   "execution_count": 24,
   "metadata": {},
   "outputs": [
    {
     "name": "stdout",
     "output_type": "stream",
     "text": [
      "          h.1       h.2       h.3       h.4       h.5\n",
      "750  0.021146  0.008962  0.008556  0.009385  0.010554\n"
     ]
    }
   ],
   "source": [
    "pre = res.forecast(horizon=5,method=\"simulation\",reindex=False) ## python下标从0开始\n",
    "print(pre.mean.iloc[-5:])"
   ]
  },
  {
   "cell_type": "code",
   "execution_count": null,
   "metadata": {},
   "outputs": [],
   "source": []
  }
 ],
 "metadata": {
  "interpreter": {
   "hash": "c8d1d1b7391e7113fc8aa680dd04f314990aae8450f13ce890357e61c514d402"
  },
  "kernelspec": {
   "display_name": "Python 3 (ipykernel)",
   "language": "python",
   "name": "python3"
  },
  "language_info": {
   "codemirror_mode": {
    "name": "ipython",
    "version": 3
   },
   "file_extension": ".py",
   "mimetype": "text/x-python",
   "name": "python",
   "nbconvert_exporter": "python",
   "pygments_lexer": "ipython3",
   "version": "3.8.5"
  },
  "vscode": {
   "interpreter": {
    "hash": "c8d1d1b7391e7113fc8aa680dd04f314990aae8450f13ce890357e61c514d402"
   }
  }
 },
 "nbformat": 4,
 "nbformat_minor": 2
}
