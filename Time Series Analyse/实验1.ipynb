{
 "cells": [
  {
   "cell_type": "code",
   "execution_count": 1,
   "metadata": {},
   "outputs": [],
   "source": [
    "import pandas as pd\n",
    "import numpy as np\n",
    "import statsmodels.api as sm"
   ]
  },
  {
   "cell_type": "markdown",
   "metadata": {},
   "source": [
    "# 1.1"
   ]
  },
  {
   "cell_type": "code",
   "execution_count": 2,
   "metadata": {},
   "outputs": [],
   "source": [
    "q1 = pd.read_csv('d-3stocks9908.txt', sep='\\s+')\n"
   ]
  },
  {
   "cell_type": "code",
   "execution_count": 3,
   "metadata": {},
   "outputs": [
    {
     "data": {
      "text/html": [
       "<div>\n",
       "<style scoped>\n",
       "    .dataframe tbody tr th:only-of-type {\n",
       "        vertical-align: middle;\n",
       "    }\n",
       "\n",
       "    .dataframe tbody tr th {\n",
       "        vertical-align: top;\n",
       "    }\n",
       "\n",
       "    .dataframe thead th {\n",
       "        text-align: right;\n",
       "    }\n",
       "</style>\n",
       "<table border=\"1\" class=\"dataframe\">\n",
       "  <thead>\n",
       "    <tr style=\"text-align: right;\">\n",
       "      <th></th>\n",
       "      <th>date</th>\n",
       "      <th>axp</th>\n",
       "      <th>cat</th>\n",
       "      <th>sbux</th>\n",
       "    </tr>\n",
       "  </thead>\n",
       "  <tbody>\n",
       "    <tr>\n",
       "      <th>0</th>\n",
       "      <td>19990104</td>\n",
       "      <td>-0.009756</td>\n",
       "      <td>0.029891</td>\n",
       "      <td>-0.040089</td>\n",
       "    </tr>\n",
       "    <tr>\n",
       "      <th>1</th>\n",
       "      <td>19990105</td>\n",
       "      <td>-0.019089</td>\n",
       "      <td>-0.002639</td>\n",
       "      <td>-0.034803</td>\n",
       "    </tr>\n",
       "    <tr>\n",
       "      <th>2</th>\n",
       "      <td>19990106</td>\n",
       "      <td>0.043063</td>\n",
       "      <td>0.026455</td>\n",
       "      <td>-0.008413</td>\n",
       "    </tr>\n",
       "    <tr>\n",
       "      <th>3</th>\n",
       "      <td>19990107</td>\n",
       "      <td>0.012063</td>\n",
       "      <td>0.009021</td>\n",
       "      <td>0.003636</td>\n",
       "    </tr>\n",
       "    <tr>\n",
       "      <th>4</th>\n",
       "      <td>19990108</td>\n",
       "      <td>0.030393</td>\n",
       "      <td>0.042146</td>\n",
       "      <td>0.021739</td>\n",
       "    </tr>\n",
       "    <tr>\n",
       "      <th>...</th>\n",
       "      <td>...</td>\n",
       "      <td>...</td>\n",
       "      <td>...</td>\n",
       "      <td>...</td>\n",
       "    </tr>\n",
       "    <tr>\n",
       "      <th>2510</th>\n",
       "      <td>20081224</td>\n",
       "      <td>0.000557</td>\n",
       "      <td>0.018964</td>\n",
       "      <td>0.016322</td>\n",
       "    </tr>\n",
       "    <tr>\n",
       "      <th>2511</th>\n",
       "      <td>20081226</td>\n",
       "      <td>-0.003339</td>\n",
       "      <td>0.019327</td>\n",
       "      <td>0.001071</td>\n",
       "    </tr>\n",
       "    <tr>\n",
       "      <th>2512</th>\n",
       "      <td>20081229</td>\n",
       "      <td>-0.011725</td>\n",
       "      <td>-0.008895</td>\n",
       "      <td>-0.034225</td>\n",
       "    </tr>\n",
       "    <tr>\n",
       "      <th>2513</th>\n",
       "      <td>20081230</td>\n",
       "      <td>0.016949</td>\n",
       "      <td>0.031176</td>\n",
       "      <td>0.036545</td>\n",
       "    </tr>\n",
       "    <tr>\n",
       "      <th>2514</th>\n",
       "      <td>20081231</td>\n",
       "      <td>0.030556</td>\n",
       "      <td>0.023133</td>\n",
       "      <td>0.010684</td>\n",
       "    </tr>\n",
       "  </tbody>\n",
       "</table>\n",
       "<p>2515 rows × 4 columns</p>\n",
       "</div>"
      ],
      "text/plain": [
       "          date       axp       cat      sbux\n",
       "0     19990104 -0.009756  0.029891 -0.040089\n",
       "1     19990105 -0.019089 -0.002639 -0.034803\n",
       "2     19990106  0.043063  0.026455 -0.008413\n",
       "3     19990107  0.012063  0.009021  0.003636\n",
       "4     19990108  0.030393  0.042146  0.021739\n",
       "...        ...       ...       ...       ...\n",
       "2510  20081224  0.000557  0.018964  0.016322\n",
       "2511  20081226 -0.003339  0.019327  0.001071\n",
       "2512  20081229 -0.011725 -0.008895 -0.034225\n",
       "2513  20081230  0.016949  0.031176  0.036545\n",
       "2514  20081231  0.030556  0.023133  0.010684\n",
       "\n",
       "[2515 rows x 4 columns]"
      ]
     },
     "execution_count": 3,
     "metadata": {},
     "output_type": "execute_result"
    }
   ],
   "source": [
    "q1"
   ]
  },
  {
   "cell_type": "markdown",
   "metadata": {},
   "source": [
    "## 1.1(a)"
   ]
  },
  {
   "cell_type": "code",
   "execution_count": 4,
   "metadata": {},
   "outputs": [],
   "source": [
    "r = q1[['axp','cat','sbux']].copy(deep=True)\n",
    "r = r.fillna(0)"
   ]
  },
  {
   "cell_type": "code",
   "execution_count": 5,
   "metadata": {},
   "outputs": [],
   "source": [
    "f1 = lambda x:'%.4f%%' % (x*100)\n",
    "name = r.columns\n",
    "for i in range(4):\n",
    "    r.loc[:i] = r.loc[:i].round(6)\n",
    "    r.loc[:i] = r.loc[:i].astype('float64')\n",
    "\n",
    "r['sbux'] = r['axp'].apply(f1)"
   ]
  },
  {
   "cell_type": "code",
   "execution_count": 6,
   "metadata": {},
   "outputs": [],
   "source": [
    "r['cat'] = r['cat'].apply(f1)"
   ]
  },
  {
   "cell_type": "code",
   "execution_count": 7,
   "metadata": {},
   "outputs": [],
   "source": [
    "r['axp'] = r['axp'].apply(f1)"
   ]
  },
  {
   "cell_type": "code",
   "execution_count": 8,
   "metadata": {},
   "outputs": [
    {
     "data": {
      "text/html": [
       "<div>\n",
       "<style scoped>\n",
       "    .dataframe tbody tr th:only-of-type {\n",
       "        vertical-align: middle;\n",
       "    }\n",
       "\n",
       "    .dataframe tbody tr th {\n",
       "        vertical-align: top;\n",
       "    }\n",
       "\n",
       "    .dataframe thead th {\n",
       "        text-align: right;\n",
       "    }\n",
       "</style>\n",
       "<table border=\"1\" class=\"dataframe\">\n",
       "  <thead>\n",
       "    <tr style=\"text-align: right;\">\n",
       "      <th></th>\n",
       "      <th>axp</th>\n",
       "      <th>cat</th>\n",
       "      <th>sbux</th>\n",
       "    </tr>\n",
       "  </thead>\n",
       "  <tbody>\n",
       "    <tr>\n",
       "      <th>0</th>\n",
       "      <td>-0.9756%</td>\n",
       "      <td>2.9891%</td>\n",
       "      <td>-0.9756%</td>\n",
       "    </tr>\n",
       "    <tr>\n",
       "      <th>1</th>\n",
       "      <td>-1.9089%</td>\n",
       "      <td>-0.2639%</td>\n",
       "      <td>-1.9089%</td>\n",
       "    </tr>\n",
       "    <tr>\n",
       "      <th>2</th>\n",
       "      <td>4.3063%</td>\n",
       "      <td>2.6455%</td>\n",
       "      <td>4.3063%</td>\n",
       "    </tr>\n",
       "    <tr>\n",
       "      <th>3</th>\n",
       "      <td>1.2063%</td>\n",
       "      <td>0.9021%</td>\n",
       "      <td>1.2063%</td>\n",
       "    </tr>\n",
       "    <tr>\n",
       "      <th>4</th>\n",
       "      <td>3.0393%</td>\n",
       "      <td>4.2146%</td>\n",
       "      <td>3.0393%</td>\n",
       "    </tr>\n",
       "    <tr>\n",
       "      <th>...</th>\n",
       "      <td>...</td>\n",
       "      <td>...</td>\n",
       "      <td>...</td>\n",
       "    </tr>\n",
       "    <tr>\n",
       "      <th>2510</th>\n",
       "      <td>0.0557%</td>\n",
       "      <td>1.8964%</td>\n",
       "      <td>0.0557%</td>\n",
       "    </tr>\n",
       "    <tr>\n",
       "      <th>2511</th>\n",
       "      <td>-0.3339%</td>\n",
       "      <td>1.9327%</td>\n",
       "      <td>-0.3339%</td>\n",
       "    </tr>\n",
       "    <tr>\n",
       "      <th>2512</th>\n",
       "      <td>-1.1725%</td>\n",
       "      <td>-0.8895%</td>\n",
       "      <td>-1.1725%</td>\n",
       "    </tr>\n",
       "    <tr>\n",
       "      <th>2513</th>\n",
       "      <td>1.6949%</td>\n",
       "      <td>3.1176%</td>\n",
       "      <td>1.6949%</td>\n",
       "    </tr>\n",
       "    <tr>\n",
       "      <th>2514</th>\n",
       "      <td>3.0556%</td>\n",
       "      <td>2.3133%</td>\n",
       "      <td>3.0556%</td>\n",
       "    </tr>\n",
       "  </tbody>\n",
       "</table>\n",
       "<p>2515 rows × 3 columns</p>\n",
       "</div>"
      ],
      "text/plain": [
       "           axp       cat      sbux\n",
       "0     -0.9756%   2.9891%  -0.9756%\n",
       "1     -1.9089%  -0.2639%  -1.9089%\n",
       "2      4.3063%   2.6455%   4.3063%\n",
       "3      1.2063%   0.9021%   1.2063%\n",
       "4      3.0393%   4.2146%   3.0393%\n",
       "...        ...       ...       ...\n",
       "2510   0.0557%   1.8964%   0.0557%\n",
       "2511  -0.3339%   1.9327%  -0.3339%\n",
       "2512  -1.1725%  -0.8895%  -1.1725%\n",
       "2513   1.6949%   3.1176%   1.6949%\n",
       "2514   3.0556%   2.3133%   3.0556%\n",
       "\n",
       "[2515 rows x 3 columns]"
      ]
     },
     "execution_count": 8,
     "metadata": {},
     "output_type": "execute_result"
    }
   ],
   "source": [
    "r"
   ]
  },
  {
   "cell_type": "code",
   "execution_count": 9,
   "metadata": {},
   "outputs": [],
   "source": [
    "r1 = q1[['axp','cat','sbux']]\n",
    "r1 = r1.fillna(0)\n",
    "r1 = r1*100"
   ]
  },
  {
   "cell_type": "code",
   "execution_count": 10,
   "metadata": {},
   "outputs": [
    {
     "data": {
      "text/plain": [
       "{'样本均值': 0.014565367793240485,\n",
       " '样本标准差': 2.446218404751395,\n",
       " '样本偏度': -0.03464744461753835,\n",
       " '样本峰度': 6.06969588903689,\n",
       " '最小值': -17.5949,\n",
       " '最大值': 17.9266}"
      ]
     },
     "execution_count": 10,
     "metadata": {},
     "output_type": "execute_result"
    }
   ],
   "source": [
    "axp = {'样本均值':r1['axp'].mean(), '样本标准差':r1['axp'].std(), '样本偏度':r1['axp'].skew(), '样本峰度':r1['axp'].kurt(), '最小值':r1['axp'].min(), '最大值':r1['axp'].max()}\n",
    "axp"
   ]
  },
  {
   "cell_type": "code",
   "execution_count": 11,
   "metadata": {},
   "outputs": [
    {
     "data": {
      "text/plain": [
       "{'样本均值': 0.05950365805168995,\n",
       " '样本标准差': 2.169648205490294,\n",
       " '样本偏度': 0.01168487817778421,\n",
       " '样本峰度': 4.470462340871746,\n",
       " '最小值': -14.5175,\n",
       " '最大值': 14.7229}"
      ]
     },
     "execution_count": 11,
     "metadata": {},
     "output_type": "execute_result"
    }
   ],
   "source": [
    "# cat = {'样本均值':str(r1['cat'].mean())+'%', '样本标准差':str(r1['cat'].std())+'%', '样本偏度':str(r1['cat'].skew())+'%', '样本峰度':str(r1['cat'].kurt())+'%', '最小值':str(r1['cat'].min())+'%', '最大值':str(r1['cat'].max())+'%'}\n",
    "# cat\n",
    "cat = {'样本均值':r1['cat'].mean(), '样本标准差':r1['cat'].std(), '样本偏度':r1['cat'].skew(), '样本峰度':r1['cat'].kurt(), '最小值':r1['cat'].min(), '最大值':r1['cat'].max()}\n",
    "cat"
   ]
  },
  {
   "cell_type": "code",
   "execution_count": 12,
   "metadata": {},
   "outputs": [
    {
     "data": {
      "text/plain": [
       "{'样本均值': 0.048053677932405676,\n",
       " '样本标准差': 2.6826218701322717,\n",
       " '样本偏度': -0.08252492337664698,\n",
       " '样本峰度': 8.774744049177345,\n",
       " '最小值': -28.2862,\n",
       " '最大值': 14.635399999999999}"
      ]
     },
     "execution_count": 12,
     "metadata": {},
     "output_type": "execute_result"
    }
   ],
   "source": [
    "# sbux = {'样本均值':str(r1['sbux'].mean())+'%', '样本标准差':str(r1['sbux'].std())+'%', '样本偏度':str(r1['sbux'].skew())+'%', '样本峰度':str(r1['sbux'].kurt())+'%', '最小值':str(r1['sbux'].min())+'%', '最大值':str(r1['sbux'].max())+'%'}\n",
    "# sbux\n",
    "sbux = {'样本均值':r1['sbux'].mean(), '样本标准差':r1['sbux'].std(), '样本偏度':r1['sbux'].skew(), '样本峰度':r1['sbux'].kurt(), '最小值':r1['sbux'].min(), '最大值':r1['sbux'].max()}\n",
    "sbux"
   ]
  },
  {
   "cell_type": "markdown",
   "metadata": {},
   "source": [
    "## 1.1(b)"
   ]
  },
  {
   "cell_type": "code",
   "execution_count": 13,
   "metadata": {},
   "outputs": [],
   "source": [
    "from math import log\n",
    "r2 = q1[['axp','cat','sbux']].copy(deep=True)\n",
    "r2 = r2.fillna(0)\n",
    "r2['lnaxp'] = r2['axp'].apply(lambda x: log(1+x))\n",
    "r2['lncat'] = r2['cat'].apply(lambda x: log(1+x))\n",
    "r2['lnsbux'] = r2['sbux'].apply(lambda x: log(1+x))"
   ]
  },
  {
   "cell_type": "code",
   "execution_count": 14,
   "metadata": {},
   "outputs": [
    {
     "data": {
      "text/html": [
       "<div>\n",
       "<style scoped>\n",
       "    .dataframe tbody tr th:only-of-type {\n",
       "        vertical-align: middle;\n",
       "    }\n",
       "\n",
       "    .dataframe tbody tr th {\n",
       "        vertical-align: top;\n",
       "    }\n",
       "\n",
       "    .dataframe thead th {\n",
       "        text-align: right;\n",
       "    }\n",
       "</style>\n",
       "<table border=\"1\" class=\"dataframe\">\n",
       "  <thead>\n",
       "    <tr style=\"text-align: right;\">\n",
       "      <th></th>\n",
       "      <th>lnaxp</th>\n",
       "      <th>lncat</th>\n",
       "      <th>lnsbux</th>\n",
       "    </tr>\n",
       "  </thead>\n",
       "  <tbody>\n",
       "    <tr>\n",
       "      <th>0</th>\n",
       "      <td>-0.009804</td>\n",
       "      <td>0.029453</td>\n",
       "      <td>-0.040915</td>\n",
       "    </tr>\n",
       "    <tr>\n",
       "      <th>1</th>\n",
       "      <td>-0.019274</td>\n",
       "      <td>-0.002642</td>\n",
       "      <td>-0.035423</td>\n",
       "    </tr>\n",
       "    <tr>\n",
       "      <th>2</th>\n",
       "      <td>0.042162</td>\n",
       "      <td>0.026111</td>\n",
       "      <td>-0.008449</td>\n",
       "    </tr>\n",
       "    <tr>\n",
       "      <th>3</th>\n",
       "      <td>0.011991</td>\n",
       "      <td>0.008981</td>\n",
       "      <td>0.003629</td>\n",
       "    </tr>\n",
       "    <tr>\n",
       "      <th>4</th>\n",
       "      <td>0.029940</td>\n",
       "      <td>0.041282</td>\n",
       "      <td>0.021506</td>\n",
       "    </tr>\n",
       "    <tr>\n",
       "      <th>...</th>\n",
       "      <td>...</td>\n",
       "      <td>...</td>\n",
       "      <td>...</td>\n",
       "    </tr>\n",
       "    <tr>\n",
       "      <th>2510</th>\n",
       "      <td>0.000557</td>\n",
       "      <td>0.018786</td>\n",
       "      <td>0.016190</td>\n",
       "    </tr>\n",
       "    <tr>\n",
       "      <th>2511</th>\n",
       "      <td>-0.003345</td>\n",
       "      <td>0.019143</td>\n",
       "      <td>0.001070</td>\n",
       "    </tr>\n",
       "    <tr>\n",
       "      <th>2512</th>\n",
       "      <td>-0.011794</td>\n",
       "      <td>-0.008935</td>\n",
       "      <td>-0.034824</td>\n",
       "    </tr>\n",
       "    <tr>\n",
       "      <th>2513</th>\n",
       "      <td>0.016807</td>\n",
       "      <td>0.030700</td>\n",
       "      <td>0.035893</td>\n",
       "    </tr>\n",
       "    <tr>\n",
       "      <th>2514</th>\n",
       "      <td>0.030098</td>\n",
       "      <td>0.022869</td>\n",
       "      <td>0.010627</td>\n",
       "    </tr>\n",
       "  </tbody>\n",
       "</table>\n",
       "<p>2515 rows × 3 columns</p>\n",
       "</div>"
      ],
      "text/plain": [
       "         lnaxp     lncat    lnsbux\n",
       "0    -0.009804  0.029453 -0.040915\n",
       "1    -0.019274 -0.002642 -0.035423\n",
       "2     0.042162  0.026111 -0.008449\n",
       "3     0.011991  0.008981  0.003629\n",
       "4     0.029940  0.041282  0.021506\n",
       "...        ...       ...       ...\n",
       "2510  0.000557  0.018786  0.016190\n",
       "2511 -0.003345  0.019143  0.001070\n",
       "2512 -0.011794 -0.008935 -0.034824\n",
       "2513  0.016807  0.030700  0.035893\n",
       "2514  0.030098  0.022869  0.010627\n",
       "\n",
       "[2515 rows x 3 columns]"
      ]
     },
     "execution_count": 14,
     "metadata": {},
     "output_type": "execute_result"
    }
   ],
   "source": [
    "r2[['lnaxp','lncat','lnsbux']]"
   ]
  },
  {
   "cell_type": "markdown",
   "metadata": {},
   "source": [
    "## 1.1(c)"
   ]
  },
  {
   "cell_type": "code",
   "execution_count": 15,
   "metadata": {},
   "outputs": [],
   "source": [
    "r21 = r2[['lnaxp','lncat','lnsbux']].copy(deep=True)\n",
    "nw = ['axp','cat','sbux']\n",
    "r21.columns = nw\n",
    "r21['sbux'] = r21['axp'].apply(f1)\n",
    "r21['cat'] = r21['cat'].apply(f1)\n",
    "r21['axp'] = r21['axp'].apply(f1)"
   ]
  },
  {
   "cell_type": "code",
   "execution_count": 16,
   "metadata": {},
   "outputs": [
    {
     "data": {
      "text/html": [
       "<div>\n",
       "<style scoped>\n",
       "    .dataframe tbody tr th:only-of-type {\n",
       "        vertical-align: middle;\n",
       "    }\n",
       "\n",
       "    .dataframe tbody tr th {\n",
       "        vertical-align: top;\n",
       "    }\n",
       "\n",
       "    .dataframe thead th {\n",
       "        text-align: right;\n",
       "    }\n",
       "</style>\n",
       "<table border=\"1\" class=\"dataframe\">\n",
       "  <thead>\n",
       "    <tr style=\"text-align: right;\">\n",
       "      <th></th>\n",
       "      <th>lnaxp</th>\n",
       "      <th>lncat</th>\n",
       "      <th>lnsbux</th>\n",
       "    </tr>\n",
       "  </thead>\n",
       "  <tbody>\n",
       "    <tr>\n",
       "      <th>0</th>\n",
       "      <td>-0.9804%</td>\n",
       "      <td>2.9453%</td>\n",
       "      <td>-0.9804%</td>\n",
       "    </tr>\n",
       "    <tr>\n",
       "      <th>1</th>\n",
       "      <td>-1.9274%</td>\n",
       "      <td>-0.2642%</td>\n",
       "      <td>-1.9274%</td>\n",
       "    </tr>\n",
       "    <tr>\n",
       "      <th>2</th>\n",
       "      <td>4.2162%</td>\n",
       "      <td>2.6111%</td>\n",
       "      <td>4.2162%</td>\n",
       "    </tr>\n",
       "    <tr>\n",
       "      <th>3</th>\n",
       "      <td>1.1991%</td>\n",
       "      <td>0.8981%</td>\n",
       "      <td>1.1991%</td>\n",
       "    </tr>\n",
       "    <tr>\n",
       "      <th>4</th>\n",
       "      <td>2.9940%</td>\n",
       "      <td>4.1282%</td>\n",
       "      <td>2.9940%</td>\n",
       "    </tr>\n",
       "    <tr>\n",
       "      <th>...</th>\n",
       "      <td>...</td>\n",
       "      <td>...</td>\n",
       "      <td>...</td>\n",
       "    </tr>\n",
       "    <tr>\n",
       "      <th>2510</th>\n",
       "      <td>0.0557%</td>\n",
       "      <td>1.8786%</td>\n",
       "      <td>0.0557%</td>\n",
       "    </tr>\n",
       "    <tr>\n",
       "      <th>2511</th>\n",
       "      <td>-0.3345%</td>\n",
       "      <td>1.9143%</td>\n",
       "      <td>-0.3345%</td>\n",
       "    </tr>\n",
       "    <tr>\n",
       "      <th>2512</th>\n",
       "      <td>-1.1794%</td>\n",
       "      <td>-0.8935%</td>\n",
       "      <td>-1.1794%</td>\n",
       "    </tr>\n",
       "    <tr>\n",
       "      <th>2513</th>\n",
       "      <td>1.6807%</td>\n",
       "      <td>3.0700%</td>\n",
       "      <td>1.6807%</td>\n",
       "    </tr>\n",
       "    <tr>\n",
       "      <th>2514</th>\n",
       "      <td>3.0098%</td>\n",
       "      <td>2.2869%</td>\n",
       "      <td>3.0098%</td>\n",
       "    </tr>\n",
       "  </tbody>\n",
       "</table>\n",
       "<p>2515 rows × 3 columns</p>\n",
       "</div>"
      ],
      "text/plain": [
       "         lnaxp     lncat    lnsbux\n",
       "0     -0.9804%   2.9453%  -0.9804%\n",
       "1     -1.9274%  -0.2642%  -1.9274%\n",
       "2      4.2162%   2.6111%   4.2162%\n",
       "3      1.1991%   0.8981%   1.1991%\n",
       "4      2.9940%   4.1282%   2.9940%\n",
       "...        ...       ...       ...\n",
       "2510   0.0557%   1.8786%   0.0557%\n",
       "2511  -0.3345%   1.9143%  -0.3345%\n",
       "2512  -1.1794%  -0.8935%  -1.1794%\n",
       "2513   1.6807%   3.0700%   1.6807%\n",
       "2514   3.0098%   2.2869%   3.0098%\n",
       "\n",
       "[2515 rows x 3 columns]"
      ]
     },
     "execution_count": 16,
     "metadata": {},
     "output_type": "execute_result"
    }
   ],
   "source": [
    "r21.columns = ['lnaxp','lncat','lnsbux']\n",
    "r21"
   ]
  },
  {
   "cell_type": "code",
   "execution_count": 17,
   "metadata": {},
   "outputs": [],
   "source": [
    "r22 = r2[['lnaxp','lncat','lnsbux']]*100"
   ]
  },
  {
   "cell_type": "code",
   "execution_count": 18,
   "metadata": {},
   "outputs": [
    {
     "data": {
      "text/plain": [
       "{'样本均值': -0.015434208829411988,\n",
       " '样本标准差': 2.452898128895895,\n",
       " '样本偏度': -0.3368363856576607,\n",
       " '样本峰度': 6.509364819350642,\n",
       " '最小值': -19.35228577840872,\n",
       " '最大值': 16.48922110359184}"
      ]
     },
     "execution_count": 18,
     "metadata": {},
     "output_type": "execute_result"
    }
   ],
   "source": [
    "lnaxp = {'样本均值':r22['lnaxp'].mean(), '样本标准差':r22['lnaxp'].std(), '样本偏度':r22['lnaxp'].skew(), '样本峰度':r22['lnaxp'].kurt(), '最小值':r22['lnaxp'].min(), '最大值':r22['lnaxp'].max()}\n",
    "lnaxp"
   ]
  },
  {
   "cell_type": "code",
   "execution_count": 19,
   "metadata": {},
   "outputs": [
    {
     "data": {
      "text/plain": [
       "{'样本均值': 0.035948763064403234,\n",
       " '样本标准差': 2.1714825779042166,\n",
       " '样本偏度': -0.20198544912375582,\n",
       " '样本峰度': 4.71261778019419,\n",
       " '最小值': -15.68585093574247,\n",
       " '最大值': 13.734946948373977}"
      ]
     },
     "execution_count": 19,
     "metadata": {},
     "output_type": "execute_result"
    }
   ],
   "source": [
    "lncat = {'样本均值':r22['lncat'].mean(), '样本标准差':r22['lncat'].std(), '样本偏度':r22['lncat'].skew(), '样本峰度':r22['lncat'].kurt(), '最小值':r22['lncat'].min(), '最大值':r22['lncat'].max()}\n",
    "lncat"
   ]
  },
  {
   "cell_type": "code",
   "execution_count": 20,
   "metadata": {},
   "outputs": [
    {
     "data": {
      "text/plain": [
       "{'样本均值': 0.011885374689880114,\n",
       " '样本标准差': 2.69588776479366,\n",
       " '样本偏度': -0.5977808437045679,\n",
       " '样本峰度': 12.936209947029091,\n",
       " '最小值': -33.24869882829782,\n",
       " '最大值': 13.658647111616414}"
      ]
     },
     "execution_count": 20,
     "metadata": {},
     "output_type": "execute_result"
    }
   ],
   "source": [
    "lnsbux = {'样本均值':r22['lnsbux'].mean(), '样本标准差':r22['lnsbux'].std(), '样本偏度':r22['lnsbux'].skew(), '样本峰度':r22['lnsbux'].kurt(), '最小值':r22['lnsbux'].min(), '最大值':r22['lnsbux'].max()}\n",
    "lnsbux"
   ]
  },
  {
   "cell_type": "markdown",
   "metadata": {},
   "source": [
    "## 1.1(d)"
   ]
  },
  {
   "cell_type": "markdown",
   "metadata": {},
   "source": [
    "由于不知道真实方差，故对数收益率零均值检验，采用t检验"
   ]
  },
  {
   "cell_type": "code",
   "execution_count": 21,
   "metadata": {},
   "outputs": [],
   "source": [
    "from scipy import stats\n",
    "\n",
    "t1, pval1 = stats.ttest_1samp(r2['lnaxp'], 0)\n",
    "t2, pval2 = stats.ttest_1samp(r2['lncat'], 0)\n",
    "t3, pval3 = stats.ttest_1samp(r2['lnsbux'], 0)\n"
   ]
  },
  {
   "cell_type": "code",
   "execution_count": 22,
   "metadata": {},
   "outputs": [
    {
     "data": {
      "text/plain": [
       "(0.7523671583912231, 0.40648956069574815, 0.8250359651358329)"
      ]
     },
     "execution_count": 22,
     "metadata": {},
     "output_type": "execute_result"
    }
   ],
   "source": [
    "pval1, pval2, pval3"
   ]
  },
  {
   "cell_type": "markdown",
   "metadata": {},
   "source": [
    "从pvalue看出，不能在5%的显著水平下拒绝原假设，即，他们都不显著不同于0"
   ]
  },
  {
   "cell_type": "markdown",
   "metadata": {},
   "source": [
    "# 1.2"
   ]
  },
  {
   "cell_type": "code",
   "execution_count": 29,
   "metadata": {},
   "outputs": [],
   "source": [
    "q2 = pd.read_csv('m-gm3dx7508.txt', sep='\\s+')\n",
    "q2 = q2.fillna(0)"
   ]
  },
  {
   "cell_type": "code",
   "execution_count": 24,
   "metadata": {},
   "outputs": [
    {
     "data": {
      "text/html": [
       "<div>\n",
       "<style scoped>\n",
       "    .dataframe tbody tr th:only-of-type {\n",
       "        vertical-align: middle;\n",
       "    }\n",
       "\n",
       "    .dataframe tbody tr th {\n",
       "        vertical-align: top;\n",
       "    }\n",
       "\n",
       "    .dataframe thead th {\n",
       "        text-align: right;\n",
       "    }\n",
       "</style>\n",
       "<table border=\"1\" class=\"dataframe\">\n",
       "  <thead>\n",
       "    <tr style=\"text-align: right;\">\n",
       "      <th></th>\n",
       "      <th>date</th>\n",
       "      <th>gm</th>\n",
       "      <th>vw</th>\n",
       "      <th>ew</th>\n",
       "      <th>sp</th>\n",
       "    </tr>\n",
       "  </thead>\n",
       "  <tbody>\n",
       "    <tr>\n",
       "      <th>0</th>\n",
       "      <td>19750131</td>\n",
       "      <td>0.252033</td>\n",
       "      <td>0.141600</td>\n",
       "      <td>0.299260</td>\n",
       "      <td>0.122812</td>\n",
       "    </tr>\n",
       "    <tr>\n",
       "      <th>1</th>\n",
       "      <td>19750228</td>\n",
       "      <td>0.028571</td>\n",
       "      <td>0.058411</td>\n",
       "      <td>0.053918</td>\n",
       "      <td>0.059886</td>\n",
       "    </tr>\n",
       "    <tr>\n",
       "      <th>2</th>\n",
       "      <td>19750331</td>\n",
       "      <td>0.054487</td>\n",
       "      <td>0.030191</td>\n",
       "      <td>0.081497</td>\n",
       "      <td>0.021694</td>\n",
       "    </tr>\n",
       "    <tr>\n",
       "      <th>3</th>\n",
       "      <td>19750430</td>\n",
       "      <td>0.045593</td>\n",
       "      <td>0.046497</td>\n",
       "      <td>0.031093</td>\n",
       "      <td>0.047265</td>\n",
       "    </tr>\n",
       "    <tr>\n",
       "      <th>4</th>\n",
       "      <td>19750530</td>\n",
       "      <td>0.037209</td>\n",
       "      <td>0.055140</td>\n",
       "      <td>0.072876</td>\n",
       "      <td>0.044101</td>\n",
       "    </tr>\n",
       "    <tr>\n",
       "      <th>...</th>\n",
       "      <td>...</td>\n",
       "      <td>...</td>\n",
       "      <td>...</td>\n",
       "      <td>...</td>\n",
       "      <td>...</td>\n",
       "    </tr>\n",
       "    <tr>\n",
       "      <th>403</th>\n",
       "      <td>20080829</td>\n",
       "      <td>-0.096658</td>\n",
       "      <td>0.011042</td>\n",
       "      <td>0.014066</td>\n",
       "      <td>0.012191</td>\n",
       "    </tr>\n",
       "    <tr>\n",
       "      <th>404</th>\n",
       "      <td>20080930</td>\n",
       "      <td>-0.055000</td>\n",
       "      <td>-0.098060</td>\n",
       "      <td>-0.120888</td>\n",
       "      <td>-0.090791</td>\n",
       "    </tr>\n",
       "    <tr>\n",
       "      <th>405</th>\n",
       "      <td>20081031</td>\n",
       "      <td>-0.387302</td>\n",
       "      <td>-0.184726</td>\n",
       "      <td>-0.206004</td>\n",
       "      <td>-0.169425</td>\n",
       "    </tr>\n",
       "    <tr>\n",
       "      <th>406</th>\n",
       "      <td>20081128</td>\n",
       "      <td>-0.094991</td>\n",
       "      <td>-0.085206</td>\n",
       "      <td>-0.136597</td>\n",
       "      <td>-0.074849</td>\n",
       "    </tr>\n",
       "    <tr>\n",
       "      <th>407</th>\n",
       "      <td>20081231</td>\n",
       "      <td>-0.389313</td>\n",
       "      <td>0.021482</td>\n",
       "      <td>0.043083</td>\n",
       "      <td>0.007822</td>\n",
       "    </tr>\n",
       "  </tbody>\n",
       "</table>\n",
       "<p>408 rows × 5 columns</p>\n",
       "</div>"
      ],
      "text/plain": [
       "         date        gm        vw        ew        sp\n",
       "0    19750131  0.252033  0.141600  0.299260  0.122812\n",
       "1    19750228  0.028571  0.058411  0.053918  0.059886\n",
       "2    19750331  0.054487  0.030191  0.081497  0.021694\n",
       "3    19750430  0.045593  0.046497  0.031093  0.047265\n",
       "4    19750530  0.037209  0.055140  0.072876  0.044101\n",
       "..        ...       ...       ...       ...       ...\n",
       "403  20080829 -0.096658  0.011042  0.014066  0.012191\n",
       "404  20080930 -0.055000 -0.098060 -0.120888 -0.090791\n",
       "405  20081031 -0.387302 -0.184726 -0.206004 -0.169425\n",
       "406  20081128 -0.094991 -0.085206 -0.136597 -0.074849\n",
       "407  20081231 -0.389313  0.021482  0.043083  0.007822\n",
       "\n",
       "[408 rows x 5 columns]"
      ]
     },
     "execution_count": 24,
     "metadata": {},
     "output_type": "execute_result"
    }
   ],
   "source": [
    "q2"
   ]
  },
  {
   "cell_type": "markdown",
   "metadata": {},
   "source": [
    "## 1.2(a)"
   ]
  },
  {
   "cell_type": "code",
   "execution_count": 25,
   "metadata": {},
   "outputs": [],
   "source": [
    "r = q2[['gm','vw','ew','sp']].copy(deep=True)\n",
    "name = r.columns\n",
    "for i in range(4):\n",
    "    r.loc[:,name[i]] = r.loc[:,name[i]].apply(lambda x:'%.4f%%' % (x*100))"
   ]
  },
  {
   "cell_type": "code",
   "execution_count": 26,
   "metadata": {},
   "outputs": [
    {
     "data": {
      "text/html": [
       "<div>\n",
       "<style scoped>\n",
       "    .dataframe tbody tr th:only-of-type {\n",
       "        vertical-align: middle;\n",
       "    }\n",
       "\n",
       "    .dataframe tbody tr th {\n",
       "        vertical-align: top;\n",
       "    }\n",
       "\n",
       "    .dataframe thead th {\n",
       "        text-align: right;\n",
       "    }\n",
       "</style>\n",
       "<table border=\"1\" class=\"dataframe\">\n",
       "  <thead>\n",
       "    <tr style=\"text-align: right;\">\n",
       "      <th></th>\n",
       "      <th>gm</th>\n",
       "      <th>vw</th>\n",
       "      <th>ew</th>\n",
       "      <th>sp</th>\n",
       "    </tr>\n",
       "  </thead>\n",
       "  <tbody>\n",
       "    <tr>\n",
       "      <th>0</th>\n",
       "      <td>25.2033%</td>\n",
       "      <td>14.1600%</td>\n",
       "      <td>29.9260%</td>\n",
       "      <td>12.2812%</td>\n",
       "    </tr>\n",
       "    <tr>\n",
       "      <th>1</th>\n",
       "      <td>2.8571%</td>\n",
       "      <td>5.8411%</td>\n",
       "      <td>5.3918%</td>\n",
       "      <td>5.9886%</td>\n",
       "    </tr>\n",
       "    <tr>\n",
       "      <th>2</th>\n",
       "      <td>5.4487%</td>\n",
       "      <td>3.0191%</td>\n",
       "      <td>8.1497%</td>\n",
       "      <td>2.1694%</td>\n",
       "    </tr>\n",
       "    <tr>\n",
       "      <th>3</th>\n",
       "      <td>4.5593%</td>\n",
       "      <td>4.6497%</td>\n",
       "      <td>3.1093%</td>\n",
       "      <td>4.7265%</td>\n",
       "    </tr>\n",
       "    <tr>\n",
       "      <th>4</th>\n",
       "      <td>3.7209%</td>\n",
       "      <td>5.5140%</td>\n",
       "      <td>7.2876%</td>\n",
       "      <td>4.4101%</td>\n",
       "    </tr>\n",
       "    <tr>\n",
       "      <th>...</th>\n",
       "      <td>...</td>\n",
       "      <td>...</td>\n",
       "      <td>...</td>\n",
       "      <td>...</td>\n",
       "    </tr>\n",
       "    <tr>\n",
       "      <th>403</th>\n",
       "      <td>-9.6658%</td>\n",
       "      <td>1.1042%</td>\n",
       "      <td>1.4066%</td>\n",
       "      <td>1.2191%</td>\n",
       "    </tr>\n",
       "    <tr>\n",
       "      <th>404</th>\n",
       "      <td>-5.5000%</td>\n",
       "      <td>-9.8060%</td>\n",
       "      <td>-12.0888%</td>\n",
       "      <td>-9.0791%</td>\n",
       "    </tr>\n",
       "    <tr>\n",
       "      <th>405</th>\n",
       "      <td>-38.7302%</td>\n",
       "      <td>-18.4726%</td>\n",
       "      <td>-20.6004%</td>\n",
       "      <td>-16.9425%</td>\n",
       "    </tr>\n",
       "    <tr>\n",
       "      <th>406</th>\n",
       "      <td>-9.4991%</td>\n",
       "      <td>-8.5206%</td>\n",
       "      <td>-13.6597%</td>\n",
       "      <td>-7.4849%</td>\n",
       "    </tr>\n",
       "    <tr>\n",
       "      <th>407</th>\n",
       "      <td>-38.9313%</td>\n",
       "      <td>2.1482%</td>\n",
       "      <td>4.3083%</td>\n",
       "      <td>0.7822%</td>\n",
       "    </tr>\n",
       "  </tbody>\n",
       "</table>\n",
       "<p>408 rows × 4 columns</p>\n",
       "</div>"
      ],
      "text/plain": [
       "            gm         vw         ew         sp\n",
       "0     25.2033%   14.1600%   29.9260%   12.2812%\n",
       "1      2.8571%    5.8411%    5.3918%    5.9886%\n",
       "2      5.4487%    3.0191%    8.1497%    2.1694%\n",
       "3      4.5593%    4.6497%    3.1093%    4.7265%\n",
       "4      3.7209%    5.5140%    7.2876%    4.4101%\n",
       "..         ...        ...        ...        ...\n",
       "403   -9.6658%    1.1042%    1.4066%    1.2191%\n",
       "404   -5.5000%   -9.8060%  -12.0888%   -9.0791%\n",
       "405  -38.7302%  -18.4726%  -20.6004%  -16.9425%\n",
       "406   -9.4991%   -8.5206%  -13.6597%   -7.4849%\n",
       "407  -38.9313%    2.1482%    4.3083%    0.7822%\n",
       "\n",
       "[408 rows x 4 columns]"
      ]
     },
     "execution_count": 26,
     "metadata": {},
     "output_type": "execute_result"
    }
   ],
   "source": [
    "r"
   ]
  },
  {
   "cell_type": "code",
   "execution_count": 27,
   "metadata": {},
   "outputs": [
    {
     "name": "stdout",
     "output_type": "stream",
     "text": [
      "{'样本均值': 0.5567549019607844, '样本标准差': 9.272703947098766, '样本偏度': -0.38631072352983586, '样本峰度': 2.1133935004080677, '最小值': -38.9313, '最大值': 27.6619}\n",
      "{'样本均值': 1.011798529411764, '样本标准差': 4.5074729643636875, '样本偏度': -0.7481541415150277, '样本峰度': 2.742068087472767, '最小值': -22.5363, '最大值': 14.16}\n",
      "{'样本均值': 1.3313845588235296, '样本标准差': 5.595898629916076, '样本偏度': -0.30234257471711845, '样本峰度': 4.438624919402937, '最小值': -27.2248, '最大值': 29.926}\n",
      "{'样本均值': 0.7300843137254909, '样本标准差': 4.359929011830978, '样本偏度': -0.5747640468338485, '样本峰度': 2.33774267601335, '最小值': -21.763, '最大值': 13.1767}\n"
     ]
    }
   ],
   "source": [
    "r2 = q2[['gm','vw','ew','sp']]*100\n",
    "des = []\n",
    "for i  in range(4):\n",
    "    des.append({'样本均值':r2.loc[:,name[i]].mean(), '样本标准差':r2.loc[:,name[i]].std(), '样本偏度':r2.loc[:,name[i]].skew(), '样本峰度':r2.loc[:,name[i]].kurt(), '最小值':r2.loc[:,name[i]].min(), '最大值':r2.loc[:,name[i]].max()})\n",
    "    print(des[i])"
   ]
  },
  {
   "cell_type": "markdown",
   "metadata": {},
   "source": [
    "## 1.2(b)"
   ]
  },
  {
   "cell_type": "code",
   "execution_count": 30,
   "metadata": {},
   "outputs": [],
   "source": [
    "from math import log\n",
    "r3 = q2[['gm','vw','ew','sp']].copy(deep=True)\n",
    "for i in range (4):\n",
    "    r3.loc[:,name[i]] = r3.loc[:,name[i]].apply(lambda x: log(1+x))\n"
   ]
  },
  {
   "cell_type": "code",
   "execution_count": 31,
   "metadata": {},
   "outputs": [
    {
     "data": {
      "text/html": [
       "<div>\n",
       "<style scoped>\n",
       "    .dataframe tbody tr th:only-of-type {\n",
       "        vertical-align: middle;\n",
       "    }\n",
       "\n",
       "    .dataframe tbody tr th {\n",
       "        vertical-align: top;\n",
       "    }\n",
       "\n",
       "    .dataframe thead th {\n",
       "        text-align: right;\n",
       "    }\n",
       "</style>\n",
       "<table border=\"1\" class=\"dataframe\">\n",
       "  <thead>\n",
       "    <tr style=\"text-align: right;\">\n",
       "      <th></th>\n",
       "      <th>lngm</th>\n",
       "      <th>lnvw</th>\n",
       "      <th>lnew</th>\n",
       "      <th>lnsp</th>\n",
       "    </tr>\n",
       "  </thead>\n",
       "  <tbody>\n",
       "    <tr>\n",
       "      <th>0</th>\n",
       "      <td>0.224769</td>\n",
       "      <td>0.132431</td>\n",
       "      <td>0.261795</td>\n",
       "      <td>0.115836</td>\n",
       "    </tr>\n",
       "    <tr>\n",
       "      <th>1</th>\n",
       "      <td>0.028170</td>\n",
       "      <td>0.056769</td>\n",
       "      <td>0.052515</td>\n",
       "      <td>0.058161</td>\n",
       "    </tr>\n",
       "    <tr>\n",
       "      <th>2</th>\n",
       "      <td>0.053054</td>\n",
       "      <td>0.029744</td>\n",
       "      <td>0.078346</td>\n",
       "      <td>0.021462</td>\n",
       "    </tr>\n",
       "    <tr>\n",
       "      <th>3</th>\n",
       "      <td>0.044584</td>\n",
       "      <td>0.045448</td>\n",
       "      <td>0.030619</td>\n",
       "      <td>0.046182</td>\n",
       "    </tr>\n",
       "    <tr>\n",
       "      <th>4</th>\n",
       "      <td>0.036533</td>\n",
       "      <td>0.053673</td>\n",
       "      <td>0.070343</td>\n",
       "      <td>0.043156</td>\n",
       "    </tr>\n",
       "    <tr>\n",
       "      <th>...</th>\n",
       "      <td>...</td>\n",
       "      <td>...</td>\n",
       "      <td>...</td>\n",
       "      <td>...</td>\n",
       "    </tr>\n",
       "    <tr>\n",
       "      <th>403</th>\n",
       "      <td>-0.101654</td>\n",
       "      <td>0.010981</td>\n",
       "      <td>0.013968</td>\n",
       "      <td>0.012117</td>\n",
       "    </tr>\n",
       "    <tr>\n",
       "      <th>404</th>\n",
       "      <td>-0.056570</td>\n",
       "      <td>-0.103207</td>\n",
       "      <td>-0.128843</td>\n",
       "      <td>-0.095180</td>\n",
       "    </tr>\n",
       "    <tr>\n",
       "      <th>405</th>\n",
       "      <td>-0.489883</td>\n",
       "      <td>-0.204231</td>\n",
       "      <td>-0.230677</td>\n",
       "      <td>-0.185637</td>\n",
       "    </tr>\n",
       "    <tr>\n",
       "      <th>406</th>\n",
       "      <td>-0.099810</td>\n",
       "      <td>-0.089056</td>\n",
       "      <td>-0.146874</td>\n",
       "      <td>-0.077798</td>\n",
       "    </tr>\n",
       "    <tr>\n",
       "      <th>407</th>\n",
       "      <td>-0.493171</td>\n",
       "      <td>0.021255</td>\n",
       "      <td>0.042181</td>\n",
       "      <td>0.007792</td>\n",
       "    </tr>\n",
       "  </tbody>\n",
       "</table>\n",
       "<p>408 rows × 4 columns</p>\n",
       "</div>"
      ],
      "text/plain": [
       "         lngm      lnvw      lnew      lnsp\n",
       "0    0.224769  0.132431  0.261795  0.115836\n",
       "1    0.028170  0.056769  0.052515  0.058161\n",
       "2    0.053054  0.029744  0.078346  0.021462\n",
       "3    0.044584  0.045448  0.030619  0.046182\n",
       "4    0.036533  0.053673  0.070343  0.043156\n",
       "..        ...       ...       ...       ...\n",
       "403 -0.101654  0.010981  0.013968  0.012117\n",
       "404 -0.056570 -0.103207 -0.128843 -0.095180\n",
       "405 -0.489883 -0.204231 -0.230677 -0.185637\n",
       "406 -0.099810 -0.089056 -0.146874 -0.077798\n",
       "407 -0.493171  0.021255  0.042181  0.007792\n",
       "\n",
       "[408 rows x 4 columns]"
      ]
     },
     "execution_count": 31,
     "metadata": {},
     "output_type": "execute_result"
    }
   ],
   "source": [
    "nw = ['lngm','lnvw','lnew','lnsp']\n",
    "r3.columns = nw\n",
    "r3"
   ]
  },
  {
   "cell_type": "markdown",
   "metadata": {},
   "source": [
    "## 1.2(c)"
   ]
  },
  {
   "cell_type": "code",
   "execution_count": 32,
   "metadata": {},
   "outputs": [],
   "source": [
    "r4 = r3.copy(deep=True)\n",
    "for i in range(4):\n",
    "    r4.loc[:,nw[i]] = r4.loc[:,nw[i]].apply(lambda x:'%.4f%%' % (x*100))"
   ]
  },
  {
   "cell_type": "code",
   "execution_count": 33,
   "metadata": {},
   "outputs": [
    {
     "data": {
      "text/html": [
       "<div>\n",
       "<style scoped>\n",
       "    .dataframe tbody tr th:only-of-type {\n",
       "        vertical-align: middle;\n",
       "    }\n",
       "\n",
       "    .dataframe tbody tr th {\n",
       "        vertical-align: top;\n",
       "    }\n",
       "\n",
       "    .dataframe thead th {\n",
       "        text-align: right;\n",
       "    }\n",
       "</style>\n",
       "<table border=\"1\" class=\"dataframe\">\n",
       "  <thead>\n",
       "    <tr style=\"text-align: right;\">\n",
       "      <th></th>\n",
       "      <th>lngm</th>\n",
       "      <th>lnvw</th>\n",
       "      <th>lnew</th>\n",
       "      <th>lnsp</th>\n",
       "    </tr>\n",
       "  </thead>\n",
       "  <tbody>\n",
       "    <tr>\n",
       "      <th>0</th>\n",
       "      <td>22.4769%</td>\n",
       "      <td>13.2431%</td>\n",
       "      <td>26.1795%</td>\n",
       "      <td>11.5836%</td>\n",
       "    </tr>\n",
       "    <tr>\n",
       "      <th>1</th>\n",
       "      <td>2.8170%</td>\n",
       "      <td>5.6769%</td>\n",
       "      <td>5.2515%</td>\n",
       "      <td>5.8161%</td>\n",
       "    </tr>\n",
       "    <tr>\n",
       "      <th>2</th>\n",
       "      <td>5.3054%</td>\n",
       "      <td>2.9744%</td>\n",
       "      <td>7.8346%</td>\n",
       "      <td>2.1462%</td>\n",
       "    </tr>\n",
       "    <tr>\n",
       "      <th>3</th>\n",
       "      <td>4.4584%</td>\n",
       "      <td>4.5448%</td>\n",
       "      <td>3.0619%</td>\n",
       "      <td>4.6182%</td>\n",
       "    </tr>\n",
       "    <tr>\n",
       "      <th>4</th>\n",
       "      <td>3.6533%</td>\n",
       "      <td>5.3673%</td>\n",
       "      <td>7.0343%</td>\n",
       "      <td>4.3156%</td>\n",
       "    </tr>\n",
       "    <tr>\n",
       "      <th>...</th>\n",
       "      <td>...</td>\n",
       "      <td>...</td>\n",
       "      <td>...</td>\n",
       "      <td>...</td>\n",
       "    </tr>\n",
       "    <tr>\n",
       "      <th>403</th>\n",
       "      <td>-10.1654%</td>\n",
       "      <td>1.0981%</td>\n",
       "      <td>1.3968%</td>\n",
       "      <td>1.2117%</td>\n",
       "    </tr>\n",
       "    <tr>\n",
       "      <th>404</th>\n",
       "      <td>-5.6570%</td>\n",
       "      <td>-10.3207%</td>\n",
       "      <td>-12.8843%</td>\n",
       "      <td>-9.5180%</td>\n",
       "    </tr>\n",
       "    <tr>\n",
       "      <th>405</th>\n",
       "      <td>-48.9883%</td>\n",
       "      <td>-20.4231%</td>\n",
       "      <td>-23.0677%</td>\n",
       "      <td>-18.5637%</td>\n",
       "    </tr>\n",
       "    <tr>\n",
       "      <th>406</th>\n",
       "      <td>-9.9810%</td>\n",
       "      <td>-8.9056%</td>\n",
       "      <td>-14.6874%</td>\n",
       "      <td>-7.7798%</td>\n",
       "    </tr>\n",
       "    <tr>\n",
       "      <th>407</th>\n",
       "      <td>-49.3171%</td>\n",
       "      <td>2.1255%</td>\n",
       "      <td>4.2181%</td>\n",
       "      <td>0.7792%</td>\n",
       "    </tr>\n",
       "  </tbody>\n",
       "</table>\n",
       "<p>408 rows × 4 columns</p>\n",
       "</div>"
      ],
      "text/plain": [
       "          lngm       lnvw       lnew       lnsp\n",
       "0     22.4769%   13.2431%   26.1795%   11.5836%\n",
       "1      2.8170%    5.6769%    5.2515%    5.8161%\n",
       "2      5.3054%    2.9744%    7.8346%    2.1462%\n",
       "3      4.4584%    4.5448%    3.0619%    4.6182%\n",
       "4      3.6533%    5.3673%    7.0343%    4.3156%\n",
       "..         ...        ...        ...        ...\n",
       "403  -10.1654%    1.0981%    1.3968%    1.2117%\n",
       "404   -5.6570%  -10.3207%  -12.8843%   -9.5180%\n",
       "405  -48.9883%  -20.4231%  -23.0677%  -18.5637%\n",
       "406   -9.9810%   -8.9056%  -14.6874%   -7.7798%\n",
       "407  -49.3171%    2.1255%    4.2181%    0.7792%\n",
       "\n",
       "[408 rows x 4 columns]"
      ]
     },
     "execution_count": 33,
     "metadata": {},
     "output_type": "execute_result"
    }
   ],
   "source": [
    "r4"
   ]
  },
  {
   "cell_type": "code",
   "execution_count": 34,
   "metadata": {},
   "outputs": [
    {
     "name": "stdout",
     "output_type": "stream",
     "text": [
      "{'样本均值': 0.11018200035482038, '样本标准差': 9.59027584701518, '样本偏度': -1.031234359354504, '样本峰度': 4.120285105225188, '最小值': -49.317072602727066, '最大值': 24.421517701278727}\n",
      "{'样本均值': 0.9045670044116281, '样本标准差': 4.560585387638611, '样本偏度': -1.0587730886217905, '样本峰度': 4.03563775468602, '最小值': -25.536074645306506, '最大值': 13.243078718048956}\n",
      "{'样本均值': 1.1669969932068147, '样本标准差': 5.625981984646551, '样本偏度': -0.84231685600004, '样本峰度': 5.363174789472094, '最小值': -31.779494816368477, '最大值': 26.179487162491817}\n",
      "{'样本均值': 0.6319372441070585, '样本标准差': 4.402206455131812, '样本偏度': -0.8611650320052364, '样本峰度': 3.422326784313982, '最小值': -24.54275045549447, '最大值': 12.378012820631694}\n"
     ]
    }
   ],
   "source": [
    "r41 = r3*100\n",
    "des = []\n",
    "for i  in range(4):\n",
    "    des.append({'样本均值':r41.loc[:,nw[i]].mean(), '样本标准差':r41.loc[:,nw[i]].std(), '样本偏度':r41.loc[:,nw[i]].skew(), '样本峰度':r41.loc[:,nw[i]].kurt(), '最小值':r41.loc[:,nw[i]].min(), '最大值':r41.loc[:,nw[i]].max()})\n",
    "    print(des[i])"
   ]
  },
  {
   "cell_type": "markdown",
   "metadata": {},
   "source": [
    "## 1.2(d)"
   ]
  },
  {
   "cell_type": "code",
   "execution_count": 35,
   "metadata": {},
   "outputs": [
    {
     "data": {
      "text/plain": [
       "[0.8166041715432116,\n",
       " 7.33172261828164e-05,\n",
       " 3.4251134017079424e-05,\n",
       " 0.0039391649818351525]"
      ]
     },
     "execution_count": 35,
     "metadata": {},
     "output_type": "execute_result"
    }
   ],
   "source": [
    "from scipy import stats\n",
    "r5 = r3.copy(deep=True)\n",
    "t = []\n",
    "pval = []\n",
    "for i in range(4):\n",
    "    ti, pvali = stats.ttest_1samp(r5.loc[:,nw[i]], 0)\n",
    "    t.append(ti)\n",
    "    pval.append(pvali)\n",
    "pval"
   ]
  },
  {
   "cell_type": "markdown",
   "metadata": {},
   "source": [
    "由此，对于VW的对数收益率不能在5%的显著性水平上拒绝原假设，因此VW的对数收益率不显著不为0；\n",
    "其他3个都显著不为0"
   ]
  },
  {
   "cell_type": "markdown",
   "metadata": {},
   "source": [
    "# 1.3"
   ]
  },
  {
   "cell_type": "code",
   "execution_count": 40,
   "metadata": {},
   "outputs": [
    {
     "data": {
      "text/html": [
       "<div>\n",
       "<style scoped>\n",
       "    .dataframe tbody tr th:only-of-type {\n",
       "        vertical-align: middle;\n",
       "    }\n",
       "\n",
       "    .dataframe tbody tr th {\n",
       "        vertical-align: top;\n",
       "    }\n",
       "\n",
       "    .dataframe thead th {\n",
       "        text-align: right;\n",
       "    }\n",
       "</style>\n",
       "<table border=\"1\" class=\"dataframe\">\n",
       "  <thead>\n",
       "    <tr style=\"text-align: right;\">\n",
       "      <th></th>\n",
       "      <th>date</th>\n",
       "      <th>lnsp</th>\n",
       "    </tr>\n",
       "  </thead>\n",
       "  <tbody>\n",
       "    <tr>\n",
       "      <th>0</th>\n",
       "      <td>19750131</td>\n",
       "      <td>0.115836</td>\n",
       "    </tr>\n",
       "    <tr>\n",
       "      <th>1</th>\n",
       "      <td>19750228</td>\n",
       "      <td>0.058161</td>\n",
       "    </tr>\n",
       "    <tr>\n",
       "      <th>2</th>\n",
       "      <td>19750331</td>\n",
       "      <td>0.021462</td>\n",
       "    </tr>\n",
       "    <tr>\n",
       "      <th>3</th>\n",
       "      <td>19750430</td>\n",
       "      <td>0.046182</td>\n",
       "    </tr>\n",
       "    <tr>\n",
       "      <th>4</th>\n",
       "      <td>19750530</td>\n",
       "      <td>0.043156</td>\n",
       "    </tr>\n",
       "    <tr>\n",
       "      <th>...</th>\n",
       "      <td>...</td>\n",
       "      <td>...</td>\n",
       "    </tr>\n",
       "    <tr>\n",
       "      <th>403</th>\n",
       "      <td>20080829</td>\n",
       "      <td>0.012117</td>\n",
       "    </tr>\n",
       "    <tr>\n",
       "      <th>404</th>\n",
       "      <td>20080930</td>\n",
       "      <td>-0.095180</td>\n",
       "    </tr>\n",
       "    <tr>\n",
       "      <th>405</th>\n",
       "      <td>20081031</td>\n",
       "      <td>-0.185637</td>\n",
       "    </tr>\n",
       "    <tr>\n",
       "      <th>406</th>\n",
       "      <td>20081128</td>\n",
       "      <td>-0.077798</td>\n",
       "    </tr>\n",
       "    <tr>\n",
       "      <th>407</th>\n",
       "      <td>20081231</td>\n",
       "      <td>0.007792</td>\n",
       "    </tr>\n",
       "  </tbody>\n",
       "</table>\n",
       "<p>408 rows × 2 columns</p>\n",
       "</div>"
      ],
      "text/plain": [
       "         date      lnsp\n",
       "0    19750131  0.115836\n",
       "1    19750228  0.058161\n",
       "2    19750331  0.021462\n",
       "3    19750430  0.046182\n",
       "4    19750530  0.043156\n",
       "..        ...       ...\n",
       "403  20080829  0.012117\n",
       "404  20080930 -0.095180\n",
       "405  20081031 -0.185637\n",
       "406  20081128 -0.077798\n",
       "407  20081231  0.007792\n",
       "\n",
       "[408 rows x 2 columns]"
      ]
     },
     "execution_count": 40,
     "metadata": {},
     "output_type": "execute_result"
    }
   ],
   "source": [
    "q3 = q2[['date','sp']].copy(deep=True)\n",
    "from math import log\n",
    "q3['sp'] = q3['sp'].apply(lambda x: log(1+x))\n",
    "q3.columns = ['date','lnsp']\n",
    "q3"
   ]
  },
  {
   "cell_type": "markdown",
   "metadata": {},
   "source": [
    "## 1.3(a)"
   ]
  },
  {
   "cell_type": "markdown",
   "metadata": {},
   "source": [
    "从数据集中可以看出，取的事每个月月底的数据，因此，一年取12组数据，年对数收益率即为月对数收益率求和"
   ]
  },
  {
   "cell_type": "code",
   "execution_count": 44,
   "metadata": {},
   "outputs": [],
   "source": [
    "spy = []\n",
    "lnsp = q3['lnsp']\n",
    "for i in range(int(len(q3)/12)):\n",
    "    for j in range(12):\n",
    "        y = 0\n",
    "        y = y + lnsp[i*12 + j]\n",
    "    spy.append(y)"
   ]
  },
  {
   "cell_type": "code",
   "execution_count": 46,
   "metadata": {},
   "outputs": [
    {
     "data": {
      "text/plain": [
       "0.007791566754216272"
      ]
     },
     "execution_count": 46,
     "metadata": {},
     "output_type": "execute_result"
    }
   ],
   "source": [
    "y.mean()"
   ]
  },
  {
   "cell_type": "markdown",
   "metadata": {},
   "source": [
    "## 1.3(b)"
   ]
  },
  {
   "cell_type": "markdown",
   "metadata": {},
   "source": [
    "lnsp全部累加再求exp"
   ]
  },
  {
   "cell_type": "code",
   "execution_count": 49,
   "metadata": {},
   "outputs": [
    {
     "data": {
      "text/plain": [
       "13.1747742025844"
      ]
     },
     "execution_count": 49,
     "metadata": {},
     "output_type": "execute_result"
    }
   ],
   "source": [
    "from math import exp\n",
    "value = exp(lnsp.sum())\n",
    "value"
   ]
  },
  {
   "cell_type": "markdown",
   "metadata": {},
   "source": [
    "# 1.4"
   ]
  },
  {
   "cell_type": "code",
   "execution_count": 51,
   "metadata": {},
   "outputs": [
    {
     "data": {
      "text/plain": [
       "0      -0.009756\n",
       "1      -0.019089\n",
       "2       0.043063\n",
       "3       0.012063\n",
       "4       0.030393\n",
       "          ...   \n",
       "2510    0.000557\n",
       "2511   -0.003339\n",
       "2512   -0.011725\n",
       "2513    0.016949\n",
       "2514    0.030556\n",
       "Name: axp, Length: 2515, dtype: float64"
      ]
     },
     "execution_count": 51,
     "metadata": {},
     "output_type": "execute_result"
    }
   ],
   "source": [
    "q4 = q1['axp'].copy(deep=True)\n",
    "q4"
   ]
  },
  {
   "cell_type": "markdown",
   "metadata": {},
   "source": [
    "## 1.4(a)\n",
    "$$ t = \\frac{\\hat{S}}{(6/T)^{0.5}} $$"
   ]
  },
  {
   "cell_type": "code",
   "execution_count": 57,
   "metadata": {},
   "outputs": [
    {
     "data": {
      "text/plain": [
       "0.709356542648729"
      ]
     },
     "execution_count": 57,
     "metadata": {},
     "output_type": "execute_result"
    }
   ],
   "source": [
    "s = q4.skew()\n",
    "T = len(q4)\n",
    "t = s/((6/T)**0.5)\n",
    "t = abs(t)\n",
    "t"
   ]
  },
  {
   "cell_type": "code",
   "execution_count": 60,
   "metadata": {},
   "outputs": [
    {
     "data": {
      "text/plain": [
       "0.47810324845288266"
      ]
     },
     "execution_count": 60,
     "metadata": {},
     "output_type": "execute_result"
    }
   ],
   "source": [
    "Z = stats.norm(loc=0, scale=1)\n",
    "pval = Z.sf(t)+Z.cdf(-t)\n",
    "pval\n"
   ]
  },
  {
   "cell_type": "markdown",
   "metadata": {},
   "source": [
    "5%水平不能拒绝原假设，因此偏度为零"
   ]
  },
  {
   "cell_type": "markdown",
   "metadata": {},
   "source": [
    "## 1.4(b)\n",
    "$$ t = \\frac{\\hat{K}-3}{(24/T)^{0.5}} $$"
   ]
  },
  {
   "cell_type": "code",
   "execution_count": 63,
   "metadata": {},
   "outputs": [
    {
     "data": {
      "text/plain": [
       "31.42380176759098"
      ]
     },
     "execution_count": 63,
     "metadata": {},
     "output_type": "execute_result"
    }
   ],
   "source": [
    "k = q4.kurt()\n",
    "T = len(q4)\n",
    "t = (k-3)/((24/T)**0.5)\n",
    "t = abs(t)\n",
    "t"
   ]
  },
  {
   "cell_type": "code",
   "execution_count": 64,
   "metadata": {},
   "outputs": [
    {
     "data": {
      "text/plain": [
       "9.572929638591413e-217"
      ]
     },
     "execution_count": 64,
     "metadata": {},
     "output_type": "execute_result"
    }
   ],
   "source": [
    "Z = stats.norm(loc=0, scale=1)\n",
    "pval = Z.sf(t)+Z.cdf(-t)\n",
    "pval"
   ]
  },
  {
   "cell_type": "markdown",
   "metadata": {},
   "source": [
    "5%水平拒绝原假设，即超额峰度不为零显著"
   ]
  },
  {
   "cell_type": "markdown",
   "metadata": {},
   "source": [
    "# 1.5"
   ]
  },
  {
   "cell_type": "code",
   "execution_count": 66,
   "metadata": {},
   "outputs": [],
   "source": [
    "mca = pd.read_csv('d-caus.txt', sep='\\s+')\n",
    "meu = pd.read_csv('d-useu.txt', sep='\\s+')\n",
    "muk = pd.read_csv('d-usuk.txt', sep='\\s+')\n",
    "mjp = pd.read_csv('d-jpus.txt', sep='\\s+')\n"
   ]
  },
  {
   "cell_type": "markdown",
   "metadata": {},
   "source": [
    "注意到对于column汇率的名字，mca叫rate，meu叫Value，其余俩叫value"
   ]
  },
  {
   "cell_type": "code",
   "execution_count": 70,
   "metadata": {},
   "outputs": [
    {
     "data": {
      "text/html": [
       "<div>\n",
       "<style scoped>\n",
       "    .dataframe tbody tr th:only-of-type {\n",
       "        vertical-align: middle;\n",
       "    }\n",
       "\n",
       "    .dataframe tbody tr th {\n",
       "        vertical-align: top;\n",
       "    }\n",
       "\n",
       "    .dataframe thead th {\n",
       "        text-align: right;\n",
       "    }\n",
       "</style>\n",
       "<table border=\"1\" class=\"dataframe\">\n",
       "  <thead>\n",
       "    <tr style=\"text-align: right;\">\n",
       "      <th></th>\n",
       "      <th>year</th>\n",
       "      <th>mon</th>\n",
       "      <th>day</th>\n",
       "      <th>rate</th>\n",
       "    </tr>\n",
       "  </thead>\n",
       "  <tbody>\n",
       "    <tr>\n",
       "      <th>0</th>\n",
       "      <td>2000</td>\n",
       "      <td>1</td>\n",
       "      <td>4</td>\n",
       "      <td>1.4518</td>\n",
       "    </tr>\n",
       "    <tr>\n",
       "      <th>1</th>\n",
       "      <td>2000</td>\n",
       "      <td>1</td>\n",
       "      <td>5</td>\n",
       "      <td>1.4518</td>\n",
       "    </tr>\n",
       "    <tr>\n",
       "      <th>2</th>\n",
       "      <td>2000</td>\n",
       "      <td>1</td>\n",
       "      <td>6</td>\n",
       "      <td>1.4571</td>\n",
       "    </tr>\n",
       "    <tr>\n",
       "      <th>3</th>\n",
       "      <td>2000</td>\n",
       "      <td>1</td>\n",
       "      <td>7</td>\n",
       "      <td>1.4505</td>\n",
       "    </tr>\n",
       "    <tr>\n",
       "      <th>4</th>\n",
       "      <td>2000</td>\n",
       "      <td>1</td>\n",
       "      <td>10</td>\n",
       "      <td>1.4568</td>\n",
       "    </tr>\n",
       "    <tr>\n",
       "      <th>...</th>\n",
       "      <td>...</td>\n",
       "      <td>...</td>\n",
       "      <td>...</td>\n",
       "      <td>...</td>\n",
       "    </tr>\n",
       "    <tr>\n",
       "      <th>2318</th>\n",
       "      <td>2009</td>\n",
       "      <td>3</td>\n",
       "      <td>23</td>\n",
       "      <td>1.2322</td>\n",
       "    </tr>\n",
       "    <tr>\n",
       "      <th>2319</th>\n",
       "      <td>2009</td>\n",
       "      <td>3</td>\n",
       "      <td>24</td>\n",
       "      <td>1.2263</td>\n",
       "    </tr>\n",
       "    <tr>\n",
       "      <th>2320</th>\n",
       "      <td>2009</td>\n",
       "      <td>3</td>\n",
       "      <td>25</td>\n",
       "      <td>1.2245</td>\n",
       "    </tr>\n",
       "    <tr>\n",
       "      <th>2321</th>\n",
       "      <td>2009</td>\n",
       "      <td>3</td>\n",
       "      <td>26</td>\n",
       "      <td>1.2327</td>\n",
       "    </tr>\n",
       "    <tr>\n",
       "      <th>2322</th>\n",
       "      <td>2009</td>\n",
       "      <td>3</td>\n",
       "      <td>27</td>\n",
       "      <td>1.2392</td>\n",
       "    </tr>\n",
       "  </tbody>\n",
       "</table>\n",
       "<p>2323 rows × 4 columns</p>\n",
       "</div>"
      ],
      "text/plain": [
       "      year  mon  day    rate\n",
       "0     2000    1    4  1.4518\n",
       "1     2000    1    5  1.4518\n",
       "2     2000    1    6  1.4571\n",
       "3     2000    1    7  1.4505\n",
       "4     2000    1   10  1.4568\n",
       "...    ...  ...  ...     ...\n",
       "2318  2009    3   23  1.2322\n",
       "2319  2009    3   24  1.2263\n",
       "2320  2009    3   25  1.2245\n",
       "2321  2009    3   26  1.2327\n",
       "2322  2009    3   27  1.2392\n",
       "\n",
       "[2323 rows x 4 columns]"
      ]
     },
     "execution_count": 70,
     "metadata": {},
     "output_type": "execute_result"
    }
   ],
   "source": [
    "mca"
   ]
  },
  {
   "cell_type": "code",
   "execution_count": 71,
   "metadata": {},
   "outputs": [
    {
     "data": {
      "text/html": [
       "<div>\n",
       "<style scoped>\n",
       "    .dataframe tbody tr th:only-of-type {\n",
       "        vertical-align: middle;\n",
       "    }\n",
       "\n",
       "    .dataframe tbody tr th {\n",
       "        vertical-align: top;\n",
       "    }\n",
       "\n",
       "    .dataframe thead th {\n",
       "        text-align: right;\n",
       "    }\n",
       "</style>\n",
       "<table border=\"1\" class=\"dataframe\">\n",
       "  <thead>\n",
       "    <tr style=\"text-align: right;\">\n",
       "      <th></th>\n",
       "      <th>Date</th>\n",
       "      <th>Mon</th>\n",
       "      <th>Day</th>\n",
       "      <th>Value</th>\n",
       "    </tr>\n",
       "  </thead>\n",
       "  <tbody>\n",
       "    <tr>\n",
       "      <th>0</th>\n",
       "      <td>2000</td>\n",
       "      <td>1</td>\n",
       "      <td>4</td>\n",
       "      <td>1.0309</td>\n",
       "    </tr>\n",
       "    <tr>\n",
       "      <th>1</th>\n",
       "      <td>2000</td>\n",
       "      <td>1</td>\n",
       "      <td>5</td>\n",
       "      <td>1.0335</td>\n",
       "    </tr>\n",
       "    <tr>\n",
       "      <th>2</th>\n",
       "      <td>2000</td>\n",
       "      <td>1</td>\n",
       "      <td>6</td>\n",
       "      <td>1.0324</td>\n",
       "    </tr>\n",
       "    <tr>\n",
       "      <th>3</th>\n",
       "      <td>2000</td>\n",
       "      <td>1</td>\n",
       "      <td>7</td>\n",
       "      <td>1.0294</td>\n",
       "    </tr>\n",
       "    <tr>\n",
       "      <th>4</th>\n",
       "      <td>2000</td>\n",
       "      <td>1</td>\n",
       "      <td>10</td>\n",
       "      <td>1.0252</td>\n",
       "    </tr>\n",
       "    <tr>\n",
       "      <th>...</th>\n",
       "      <td>...</td>\n",
       "      <td>...</td>\n",
       "      <td>...</td>\n",
       "      <td>...</td>\n",
       "    </tr>\n",
       "    <tr>\n",
       "      <th>2318</th>\n",
       "      <td>2009</td>\n",
       "      <td>3</td>\n",
       "      <td>23</td>\n",
       "      <td>1.3569</td>\n",
       "    </tr>\n",
       "    <tr>\n",
       "      <th>2319</th>\n",
       "      <td>2009</td>\n",
       "      <td>3</td>\n",
       "      <td>24</td>\n",
       "      <td>1.3524</td>\n",
       "    </tr>\n",
       "    <tr>\n",
       "      <th>2320</th>\n",
       "      <td>2009</td>\n",
       "      <td>3</td>\n",
       "      <td>25</td>\n",
       "      <td>1.3539</td>\n",
       "    </tr>\n",
       "    <tr>\n",
       "      <th>2321</th>\n",
       "      <td>2009</td>\n",
       "      <td>3</td>\n",
       "      <td>26</td>\n",
       "      <td>1.3560</td>\n",
       "    </tr>\n",
       "    <tr>\n",
       "      <th>2322</th>\n",
       "      <td>2009</td>\n",
       "      <td>3</td>\n",
       "      <td>27</td>\n",
       "      <td>1.3306</td>\n",
       "    </tr>\n",
       "  </tbody>\n",
       "</table>\n",
       "<p>2323 rows × 4 columns</p>\n",
       "</div>"
      ],
      "text/plain": [
       "      Date  Mon  Day   Value\n",
       "0     2000    1    4  1.0309\n",
       "1     2000    1    5  1.0335\n",
       "2     2000    1    6  1.0324\n",
       "3     2000    1    7  1.0294\n",
       "4     2000    1   10  1.0252\n",
       "...    ...  ...  ...     ...\n",
       "2318  2009    3   23  1.3569\n",
       "2319  2009    3   24  1.3524\n",
       "2320  2009    3   25  1.3539\n",
       "2321  2009    3   26  1.3560\n",
       "2322  2009    3   27  1.3306\n",
       "\n",
       "[2323 rows x 4 columns]"
      ]
     },
     "execution_count": 71,
     "metadata": {},
     "output_type": "execute_result"
    }
   ],
   "source": [
    "meu"
   ]
  },
  {
   "cell_type": "code",
   "execution_count": 72,
   "metadata": {},
   "outputs": [
    {
     "data": {
      "text/html": [
       "<div>\n",
       "<style scoped>\n",
       "    .dataframe tbody tr th:only-of-type {\n",
       "        vertical-align: middle;\n",
       "    }\n",
       "\n",
       "    .dataframe tbody tr th {\n",
       "        vertical-align: top;\n",
       "    }\n",
       "\n",
       "    .dataframe thead th {\n",
       "        text-align: right;\n",
       "    }\n",
       "</style>\n",
       "<table border=\"1\" class=\"dataframe\">\n",
       "  <thead>\n",
       "    <tr style=\"text-align: right;\">\n",
       "      <th></th>\n",
       "      <th>date</th>\n",
       "      <th>mon</th>\n",
       "      <th>day</th>\n",
       "      <th>value</th>\n",
       "    </tr>\n",
       "  </thead>\n",
       "  <tbody>\n",
       "    <tr>\n",
       "      <th>0</th>\n",
       "      <td>2000</td>\n",
       "      <td>1</td>\n",
       "      <td>4</td>\n",
       "      <td>1.6370</td>\n",
       "    </tr>\n",
       "    <tr>\n",
       "      <th>1</th>\n",
       "      <td>2000</td>\n",
       "      <td>1</td>\n",
       "      <td>5</td>\n",
       "      <td>1.6415</td>\n",
       "    </tr>\n",
       "    <tr>\n",
       "      <th>2</th>\n",
       "      <td>2000</td>\n",
       "      <td>1</td>\n",
       "      <td>6</td>\n",
       "      <td>1.6475</td>\n",
       "    </tr>\n",
       "    <tr>\n",
       "      <th>3</th>\n",
       "      <td>2000</td>\n",
       "      <td>1</td>\n",
       "      <td>7</td>\n",
       "      <td>1.6384</td>\n",
       "    </tr>\n",
       "    <tr>\n",
       "      <th>4</th>\n",
       "      <td>2000</td>\n",
       "      <td>1</td>\n",
       "      <td>10</td>\n",
       "      <td>1.6374</td>\n",
       "    </tr>\n",
       "    <tr>\n",
       "      <th>...</th>\n",
       "      <td>...</td>\n",
       "      <td>...</td>\n",
       "      <td>...</td>\n",
       "      <td>...</td>\n",
       "    </tr>\n",
       "    <tr>\n",
       "      <th>2318</th>\n",
       "      <td>2009</td>\n",
       "      <td>3</td>\n",
       "      <td>23</td>\n",
       "      <td>1.4496</td>\n",
       "    </tr>\n",
       "    <tr>\n",
       "      <th>2319</th>\n",
       "      <td>2009</td>\n",
       "      <td>3</td>\n",
       "      <td>24</td>\n",
       "      <td>1.4730</td>\n",
       "    </tr>\n",
       "    <tr>\n",
       "      <th>2320</th>\n",
       "      <td>2009</td>\n",
       "      <td>3</td>\n",
       "      <td>25</td>\n",
       "      <td>1.4585</td>\n",
       "    </tr>\n",
       "    <tr>\n",
       "      <th>2321</th>\n",
       "      <td>2009</td>\n",
       "      <td>3</td>\n",
       "      <td>26</td>\n",
       "      <td>1.4497</td>\n",
       "    </tr>\n",
       "    <tr>\n",
       "      <th>2322</th>\n",
       "      <td>2009</td>\n",
       "      <td>3</td>\n",
       "      <td>27</td>\n",
       "      <td>1.4325</td>\n",
       "    </tr>\n",
       "  </tbody>\n",
       "</table>\n",
       "<p>2323 rows × 4 columns</p>\n",
       "</div>"
      ],
      "text/plain": [
       "      date  mon  day   value\n",
       "0     2000    1    4  1.6370\n",
       "1     2000    1    5  1.6415\n",
       "2     2000    1    6  1.6475\n",
       "3     2000    1    7  1.6384\n",
       "4     2000    1   10  1.6374\n",
       "...    ...  ...  ...     ...\n",
       "2318  2009    3   23  1.4496\n",
       "2319  2009    3   24  1.4730\n",
       "2320  2009    3   25  1.4585\n",
       "2321  2009    3   26  1.4497\n",
       "2322  2009    3   27  1.4325\n",
       "\n",
       "[2323 rows x 4 columns]"
      ]
     },
     "execution_count": 72,
     "metadata": {},
     "output_type": "execute_result"
    }
   ],
   "source": [
    "muk"
   ]
  },
  {
   "cell_type": "code",
   "execution_count": 73,
   "metadata": {},
   "outputs": [
    {
     "data": {
      "text/html": [
       "<div>\n",
       "<style scoped>\n",
       "    .dataframe tbody tr th:only-of-type {\n",
       "        vertical-align: middle;\n",
       "    }\n",
       "\n",
       "    .dataframe tbody tr th {\n",
       "        vertical-align: top;\n",
       "    }\n",
       "\n",
       "    .dataframe thead th {\n",
       "        text-align: right;\n",
       "    }\n",
       "</style>\n",
       "<table border=\"1\" class=\"dataframe\">\n",
       "  <thead>\n",
       "    <tr style=\"text-align: right;\">\n",
       "      <th></th>\n",
       "      <th>year</th>\n",
       "      <th>mon</th>\n",
       "      <th>day</th>\n",
       "      <th>value</th>\n",
       "    </tr>\n",
       "  </thead>\n",
       "  <tbody>\n",
       "    <tr>\n",
       "      <th>0</th>\n",
       "      <td>2000</td>\n",
       "      <td>1</td>\n",
       "      <td>4</td>\n",
       "      <td>103.09</td>\n",
       "    </tr>\n",
       "    <tr>\n",
       "      <th>1</th>\n",
       "      <td>2000</td>\n",
       "      <td>1</td>\n",
       "      <td>5</td>\n",
       "      <td>103.77</td>\n",
       "    </tr>\n",
       "    <tr>\n",
       "      <th>2</th>\n",
       "      <td>2000</td>\n",
       "      <td>1</td>\n",
       "      <td>6</td>\n",
       "      <td>105.19</td>\n",
       "    </tr>\n",
       "    <tr>\n",
       "      <th>3</th>\n",
       "      <td>2000</td>\n",
       "      <td>1</td>\n",
       "      <td>7</td>\n",
       "      <td>105.17</td>\n",
       "    </tr>\n",
       "    <tr>\n",
       "      <th>4</th>\n",
       "      <td>2000</td>\n",
       "      <td>1</td>\n",
       "      <td>10</td>\n",
       "      <td>105.28</td>\n",
       "    </tr>\n",
       "    <tr>\n",
       "      <th>...</th>\n",
       "      <td>...</td>\n",
       "      <td>...</td>\n",
       "      <td>...</td>\n",
       "      <td>...</td>\n",
       "    </tr>\n",
       "    <tr>\n",
       "      <th>2318</th>\n",
       "      <td>2009</td>\n",
       "      <td>3</td>\n",
       "      <td>23</td>\n",
       "      <td>97.30</td>\n",
       "    </tr>\n",
       "    <tr>\n",
       "      <th>2319</th>\n",
       "      <td>2009</td>\n",
       "      <td>3</td>\n",
       "      <td>24</td>\n",
       "      <td>97.86</td>\n",
       "    </tr>\n",
       "    <tr>\n",
       "      <th>2320</th>\n",
       "      <td>2009</td>\n",
       "      <td>3</td>\n",
       "      <td>25</td>\n",
       "      <td>97.70</td>\n",
       "    </tr>\n",
       "    <tr>\n",
       "      <th>2321</th>\n",
       "      <td>2009</td>\n",
       "      <td>3</td>\n",
       "      <td>26</td>\n",
       "      <td>98.47</td>\n",
       "    </tr>\n",
       "    <tr>\n",
       "      <th>2322</th>\n",
       "      <td>2009</td>\n",
       "      <td>3</td>\n",
       "      <td>27</td>\n",
       "      <td>97.99</td>\n",
       "    </tr>\n",
       "  </tbody>\n",
       "</table>\n",
       "<p>2323 rows × 4 columns</p>\n",
       "</div>"
      ],
      "text/plain": [
       "      year  mon  day   value\n",
       "0     2000    1    4  103.09\n",
       "1     2000    1    5  103.77\n",
       "2     2000    1    6  105.19\n",
       "3     2000    1    7  105.17\n",
       "4     2000    1   10  105.28\n",
       "...    ...  ...  ...     ...\n",
       "2318  2009    3   23   97.30\n",
       "2319  2009    3   24   97.86\n",
       "2320  2009    3   25   97.70\n",
       "2321  2009    3   26   98.47\n",
       "2322  2009    3   27   97.99\n",
       "\n",
       "[2323 rows x 4 columns]"
      ]
     },
     "execution_count": 73,
     "metadata": {},
     "output_type": "execute_result"
    }
   ],
   "source": [
    "mjp"
   ]
  },
  {
   "cell_type": "code",
   "execution_count": 76,
   "metadata": {},
   "outputs": [
    {
     "data": {
      "text/html": [
       "<div>\n",
       "<style scoped>\n",
       "    .dataframe tbody tr th:only-of-type {\n",
       "        vertical-align: middle;\n",
       "    }\n",
       "\n",
       "    .dataframe tbody tr th {\n",
       "        vertical-align: top;\n",
       "    }\n",
       "\n",
       "    .dataframe thead th {\n",
       "        text-align: right;\n",
       "    }\n",
       "</style>\n",
       "<table border=\"1\" class=\"dataframe\">\n",
       "  <thead>\n",
       "    <tr style=\"text-align: right;\">\n",
       "      <th></th>\n",
       "      <th>0</th>\n",
       "      <th>1</th>\n",
       "      <th>2</th>\n",
       "      <th>3</th>\n",
       "    </tr>\n",
       "  </thead>\n",
       "  <tbody>\n",
       "    <tr>\n",
       "      <th>0</th>\n",
       "      <td>1.4518</td>\n",
       "      <td>1.0309</td>\n",
       "      <td>1.6370</td>\n",
       "      <td>103.09</td>\n",
       "    </tr>\n",
       "    <tr>\n",
       "      <th>1</th>\n",
       "      <td>1.4518</td>\n",
       "      <td>1.0335</td>\n",
       "      <td>1.6415</td>\n",
       "      <td>103.77</td>\n",
       "    </tr>\n",
       "    <tr>\n",
       "      <th>2</th>\n",
       "      <td>1.4571</td>\n",
       "      <td>1.0324</td>\n",
       "      <td>1.6475</td>\n",
       "      <td>105.19</td>\n",
       "    </tr>\n",
       "    <tr>\n",
       "      <th>3</th>\n",
       "      <td>1.4505</td>\n",
       "      <td>1.0294</td>\n",
       "      <td>1.6384</td>\n",
       "      <td>105.17</td>\n",
       "    </tr>\n",
       "    <tr>\n",
       "      <th>4</th>\n",
       "      <td>1.4568</td>\n",
       "      <td>1.0252</td>\n",
       "      <td>1.6374</td>\n",
       "      <td>105.28</td>\n",
       "    </tr>\n",
       "    <tr>\n",
       "      <th>...</th>\n",
       "      <td>...</td>\n",
       "      <td>...</td>\n",
       "      <td>...</td>\n",
       "      <td>...</td>\n",
       "    </tr>\n",
       "    <tr>\n",
       "      <th>2318</th>\n",
       "      <td>1.2322</td>\n",
       "      <td>1.3569</td>\n",
       "      <td>1.4496</td>\n",
       "      <td>97.30</td>\n",
       "    </tr>\n",
       "    <tr>\n",
       "      <th>2319</th>\n",
       "      <td>1.2263</td>\n",
       "      <td>1.3524</td>\n",
       "      <td>1.4730</td>\n",
       "      <td>97.86</td>\n",
       "    </tr>\n",
       "    <tr>\n",
       "      <th>2320</th>\n",
       "      <td>1.2245</td>\n",
       "      <td>1.3539</td>\n",
       "      <td>1.4585</td>\n",
       "      <td>97.70</td>\n",
       "    </tr>\n",
       "    <tr>\n",
       "      <th>2321</th>\n",
       "      <td>1.2327</td>\n",
       "      <td>1.3560</td>\n",
       "      <td>1.4497</td>\n",
       "      <td>98.47</td>\n",
       "    </tr>\n",
       "    <tr>\n",
       "      <th>2322</th>\n",
       "      <td>1.2392</td>\n",
       "      <td>1.3306</td>\n",
       "      <td>1.4325</td>\n",
       "      <td>97.99</td>\n",
       "    </tr>\n",
       "  </tbody>\n",
       "</table>\n",
       "<p>2323 rows × 4 columns</p>\n",
       "</div>"
      ],
      "text/plain": [
       "           0       1       2       3\n",
       "0     1.4518  1.0309  1.6370  103.09\n",
       "1     1.4518  1.0335  1.6415  103.77\n",
       "2     1.4571  1.0324  1.6475  105.19\n",
       "3     1.4505  1.0294  1.6384  105.17\n",
       "4     1.4568  1.0252  1.6374  105.28\n",
       "...      ...     ...     ...     ...\n",
       "2318  1.2322  1.3569  1.4496   97.30\n",
       "2319  1.2263  1.3524  1.4730   97.86\n",
       "2320  1.2245  1.3539  1.4585   97.70\n",
       "2321  1.2327  1.3560  1.4497   98.47\n",
       "2322  1.2392  1.3306  1.4325   97.99\n",
       "\n",
       "[2323 rows x 4 columns]"
      ]
     },
     "execution_count": 76,
     "metadata": {},
     "output_type": "execute_result"
    }
   ],
   "source": [
    "q5 = pd.DataFrame(zip(mca['rate'],meu['Value'],muk['value'],mjp['value']))\n",
    "q5"
   ]
  },
  {
   "cell_type": "markdown",
   "metadata": {},
   "source": [
    "## 1.5(a)\n",
    "先计算收益率，即下一天除以上一天(最后去掉第一行)"
   ]
  },
  {
   "cell_type": "code",
   "execution_count": 82,
   "metadata": {},
   "outputs": [
    {
     "data": {
      "text/html": [
       "<div>\n",
       "<style scoped>\n",
       "    .dataframe tbody tr th:only-of-type {\n",
       "        vertical-align: middle;\n",
       "    }\n",
       "\n",
       "    .dataframe tbody tr th {\n",
       "        vertical-align: top;\n",
       "    }\n",
       "\n",
       "    .dataframe thead th {\n",
       "        text-align: right;\n",
       "    }\n",
       "</style>\n",
       "<table border=\"1\" class=\"dataframe\">\n",
       "  <thead>\n",
       "    <tr style=\"text-align: right;\">\n",
       "      <th></th>\n",
       "      <th>0</th>\n",
       "      <th>1</th>\n",
       "      <th>2</th>\n",
       "      <th>3</th>\n",
       "    </tr>\n",
       "  </thead>\n",
       "  <tbody>\n",
       "    <tr>\n",
       "      <th>1</th>\n",
       "      <td>1.000000</td>\n",
       "      <td>1.002522</td>\n",
       "      <td>1.002749</td>\n",
       "      <td>1.006596</td>\n",
       "    </tr>\n",
       "    <tr>\n",
       "      <th>2</th>\n",
       "      <td>1.457100</td>\n",
       "      <td>1.029803</td>\n",
       "      <td>1.642984</td>\n",
       "      <td>104.500695</td>\n",
       "    </tr>\n",
       "    <tr>\n",
       "      <th>3</th>\n",
       "      <td>0.995470</td>\n",
       "      <td>0.999609</td>\n",
       "      <td>0.997210</td>\n",
       "      <td>1.006405</td>\n",
       "    </tr>\n",
       "    <tr>\n",
       "      <th>4</th>\n",
       "      <td>1.463429</td>\n",
       "      <td>1.025601</td>\n",
       "      <td>1.641981</td>\n",
       "      <td>104.609995</td>\n",
       "    </tr>\n",
       "    <tr>\n",
       "      <th>5</th>\n",
       "      <td>0.995607</td>\n",
       "      <td>1.006434</td>\n",
       "      <td>1.003666</td>\n",
       "      <td>1.014148</td>\n",
       "    </tr>\n",
       "    <tr>\n",
       "      <th>...</th>\n",
       "      <td>...</td>\n",
       "      <td>...</td>\n",
       "      <td>...</td>\n",
       "      <td>...</td>\n",
       "    </tr>\n",
       "    <tr>\n",
       "      <th>2318</th>\n",
       "      <td>1.455357</td>\n",
       "      <td>1.186652</td>\n",
       "      <td>1.470474</td>\n",
       "      <td>76.066231</td>\n",
       "    </tr>\n",
       "    <tr>\n",
       "      <th>2319</th>\n",
       "      <td>0.842611</td>\n",
       "      <td>1.139677</td>\n",
       "      <td>1.001718</td>\n",
       "      <td>1.286510</td>\n",
       "    </tr>\n",
       "    <tr>\n",
       "      <th>2320</th>\n",
       "      <td>1.453221</td>\n",
       "      <td>1.187968</td>\n",
       "      <td>1.455999</td>\n",
       "      <td>75.941864</td>\n",
       "    </tr>\n",
       "    <tr>\n",
       "      <th>2321</th>\n",
       "      <td>0.848253</td>\n",
       "      <td>1.141445</td>\n",
       "      <td>0.995674</td>\n",
       "      <td>1.296650</td>\n",
       "    </tr>\n",
       "    <tr>\n",
       "      <th>2322</th>\n",
       "      <td>1.460884</td>\n",
       "      <td>1.165715</td>\n",
       "      <td>1.438724</td>\n",
       "      <td>75.571679</td>\n",
       "    </tr>\n",
       "  </tbody>\n",
       "</table>\n",
       "<p>2322 rows × 4 columns</p>\n",
       "</div>"
      ],
      "text/plain": [
       "             0         1         2           3\n",
       "1     1.000000  1.002522  1.002749    1.006596\n",
       "2     1.457100  1.029803  1.642984  104.500695\n",
       "3     0.995470  0.999609  0.997210    1.006405\n",
       "4     1.463429  1.025601  1.641981  104.609995\n",
       "5     0.995607  1.006434  1.003666    1.014148\n",
       "...        ...       ...       ...         ...\n",
       "2318  1.455357  1.186652  1.470474   76.066231\n",
       "2319  0.842611  1.139677  1.001718    1.286510\n",
       "2320  1.453221  1.187968  1.455999   75.941864\n",
       "2321  0.848253  1.141445  0.995674    1.296650\n",
       "2322  1.460884  1.165715  1.438724   75.571679\n",
       "\n",
       "[2322 rows x 4 columns]"
      ]
     },
     "execution_count": 82,
     "metadata": {},
     "output_type": "execute_result"
    }
   ],
   "source": [
    "r = q5.copy(deep=True)\n",
    "name = r.columns\n",
    "for i in range(1,len(r)):\n",
    "    for j in range(4):\n",
    "        r.loc[i,name[j]] = r.loc[i,name[j]]/r.loc[i-1,name[j]]\n",
    "r.drop(index=0)"
   ]
  },
  {
   "cell_type": "code",
   "execution_count": 83,
   "metadata": {},
   "outputs": [],
   "source": [
    "for i in range (4):\n",
    "    r.loc[:,name[i]] = r.loc[:,name[i]].apply(lambda x: log(1+x))"
   ]
  },
  {
   "cell_type": "code",
   "execution_count": 84,
   "metadata": {},
   "outputs": [
    {
     "data": {
      "text/html": [
       "<div>\n",
       "<style scoped>\n",
       "    .dataframe tbody tr th:only-of-type {\n",
       "        vertical-align: middle;\n",
       "    }\n",
       "\n",
       "    .dataframe tbody tr th {\n",
       "        vertical-align: top;\n",
       "    }\n",
       "\n",
       "    .dataframe thead th {\n",
       "        text-align: right;\n",
       "    }\n",
       "</style>\n",
       "<table border=\"1\" class=\"dataframe\">\n",
       "  <thead>\n",
       "    <tr style=\"text-align: right;\">\n",
       "      <th></th>\n",
       "      <th>0</th>\n",
       "      <th>1</th>\n",
       "      <th>2</th>\n",
       "      <th>3</th>\n",
       "    </tr>\n",
       "  </thead>\n",
       "  <tbody>\n",
       "    <tr>\n",
       "      <th>0</th>\n",
       "      <td>0.896822</td>\n",
       "      <td>0.708479</td>\n",
       "      <td>0.969642</td>\n",
       "      <td>4.645256</td>\n",
       "    </tr>\n",
       "    <tr>\n",
       "      <th>1</th>\n",
       "      <td>0.693147</td>\n",
       "      <td>0.694407</td>\n",
       "      <td>0.694521</td>\n",
       "      <td>0.696440</td>\n",
       "    </tr>\n",
       "    <tr>\n",
       "      <th>2</th>\n",
       "      <td>0.898982</td>\n",
       "      <td>0.707939</td>\n",
       "      <td>0.971908</td>\n",
       "      <td>4.658718</td>\n",
       "    </tr>\n",
       "    <tr>\n",
       "      <th>3</th>\n",
       "      <td>0.690880</td>\n",
       "      <td>0.692952</td>\n",
       "      <td>0.691751</td>\n",
       "      <td>0.696344</td>\n",
       "    </tr>\n",
       "    <tr>\n",
       "      <th>4</th>\n",
       "      <td>0.901554</td>\n",
       "      <td>0.705867</td>\n",
       "      <td>0.971529</td>\n",
       "      <td>4.659753</td>\n",
       "    </tr>\n",
       "    <tr>\n",
       "      <th>...</th>\n",
       "      <td>...</td>\n",
       "      <td>...</td>\n",
       "      <td>...</td>\n",
       "      <td>...</td>\n",
       "    </tr>\n",
       "    <tr>\n",
       "      <th>2318</th>\n",
       "      <td>0.898272</td>\n",
       "      <td>0.782372</td>\n",
       "      <td>0.904410</td>\n",
       "      <td>4.344665</td>\n",
       "    </tr>\n",
       "    <tr>\n",
       "      <th>2319</th>\n",
       "      <td>0.611184</td>\n",
       "      <td>0.760655</td>\n",
       "      <td>0.694006</td>\n",
       "      <td>0.827027</td>\n",
       "    </tr>\n",
       "    <tr>\n",
       "      <th>2320</th>\n",
       "      <td>0.897402</td>\n",
       "      <td>0.782973</td>\n",
       "      <td>0.898533</td>\n",
       "      <td>4.343050</td>\n",
       "    </tr>\n",
       "    <tr>\n",
       "      <th>2321</th>\n",
       "      <td>0.614241</td>\n",
       "      <td>0.761481</td>\n",
       "      <td>0.690982</td>\n",
       "      <td>0.831451</td>\n",
       "    </tr>\n",
       "    <tr>\n",
       "      <th>2322</th>\n",
       "      <td>0.900521</td>\n",
       "      <td>0.772751</td>\n",
       "      <td>0.891475</td>\n",
       "      <td>4.338227</td>\n",
       "    </tr>\n",
       "  </tbody>\n",
       "</table>\n",
       "<p>2323 rows × 4 columns</p>\n",
       "</div>"
      ],
      "text/plain": [
       "             0         1         2         3\n",
       "0     0.896822  0.708479  0.969642  4.645256\n",
       "1     0.693147  0.694407  0.694521  0.696440\n",
       "2     0.898982  0.707939  0.971908  4.658718\n",
       "3     0.690880  0.692952  0.691751  0.696344\n",
       "4     0.901554  0.705867  0.971529  4.659753\n",
       "...        ...       ...       ...       ...\n",
       "2318  0.898272  0.782372  0.904410  4.344665\n",
       "2319  0.611184  0.760655  0.694006  0.827027\n",
       "2320  0.897402  0.782973  0.898533  4.343050\n",
       "2321  0.614241  0.761481  0.690982  0.831451\n",
       "2322  0.900521  0.772751  0.891475  4.338227\n",
       "\n",
       "[2323 rows x 4 columns]"
      ]
     },
     "execution_count": 84,
     "metadata": {},
     "output_type": "execute_result"
    }
   ],
   "source": [
    "r"
   ]
  },
  {
   "cell_type": "markdown",
   "metadata": {},
   "source": [
    "## 1.5(b)"
   ]
  },
  {
   "cell_type": "code",
   "execution_count": 85,
   "metadata": {},
   "outputs": [
    {
     "name": "stdout",
     "output_type": "stream",
     "text": [
      "{'样本均值': 0.7644070361272547, '样本标准差': 0.10417276036834462, '样本偏度': -0.03919211304317058, '样本峰度': -1.3598400135133375, '最小值': 0.585564541687324, '最大值': 0.9326300144237125}\n",
      "{'样本均值': 0.7304426858483009, '样本标准差': 0.05467682190524505, '样本偏度': -0.19039941981796077, '样本峰度': -0.857550099293475, '最小值': 0.5970612898981646, '最大值': 0.852113989909067}\n",
      "{'样本均值': 0.8461656740812744, '样本标准差': 0.17809108728832873, '样本偏度': 0.11482079113768391, '样本峰度': -1.7935527226215073, '最小值': 0.6208902927718457, '最大值': 1.1064838538468549}\n",
      "{'样本均值': 2.6804246101451743, '样本标准差': 1.9077728739997601, '样本偏度': 0.0008251301400707227, '样本峰度': -1.9985503396191868, '最小值': 0.6825254956062122, '最大值': 4.715116295276692}\n"
     ]
    }
   ],
   "source": [
    "des = []\n",
    "for i  in range(4):\n",
    "    des.append({'样本均值':r.loc[:,name[i]].mean(), '样本标准差':r.loc[:,name[i]].std(), '样本偏度':r.loc[:,name[i]].skew(), '样本峰度':r.loc[:,name[i]].kurt(), '最小值':r.loc[:,name[i]].min(), '最大值':r.loc[:,name[i]].max()})\n",
    "    print(des[i])"
   ]
  },
  {
   "cell_type": "markdown",
   "metadata": {},
   "source": [
    "结束"
   ]
  },
  {
   "cell_type": "markdown",
   "metadata": {},
   "source": []
  }
 ],
 "metadata": {
  "interpreter": {
   "hash": "18da31f597fec48f49f0c6c9857b5460e182ca09a9da661d2d0e1b3de986e9ca"
  },
  "kernelspec": {
   "display_name": "Python 3 (ipykernel)",
   "language": "python",
   "name": "python3"
  },
  "language_info": {
   "codemirror_mode": {
    "name": "ipython",
    "version": 3
   },
   "file_extension": ".py",
   "mimetype": "text/x-python",
   "name": "python",
   "nbconvert_exporter": "python",
   "pygments_lexer": "ipython3",
   "version": "3.7.13"
  }
 },
 "nbformat": 4,
 "nbformat_minor": 2
}
